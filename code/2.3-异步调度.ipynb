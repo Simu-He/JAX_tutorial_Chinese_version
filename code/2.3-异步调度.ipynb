{
 "cells": [
  {
   "cell_type": "markdown",
   "id": "streaming-drama",
   "metadata": {},
   "source": [
    "# 异步调度\n",
    "\n",
    "JAX使用异步调度来隐藏Python开销。考虑以下代码："
   ]
  },
  {
   "cell_type": "code",
   "execution_count": 1,
   "id": "supreme-vitamin",
   "metadata": {},
   "outputs": [
    {
     "data": {
      "text/plain": [
       "DeviceArray([[258.01974, 249.6486 , 257.13367, ..., 236.67946, 250.68948,\n",
       "              241.36853],\n",
       "             [265.65985, 256.28912, 262.1825 , ..., 242.03188, 256.1676 ,\n",
       "              252.44131],\n",
       "             [262.38904, 255.72743, 261.2306 , ..., 240.8356 , 255.41084,\n",
       "              249.62466],\n",
       "             ...,\n",
       "             [259.15814, 253.09195, 257.72174, ..., 242.23877, 250.72672,\n",
       "              247.16637],\n",
       "             [271.2267 , 261.91208, 265.33398, ..., 248.26645, 262.0539 ,\n",
       "              261.33704],\n",
       "             [257.16138, 254.75424, 259.083  , ..., 241.5985 , 248.626  ,\n",
       "              243.22357]], dtype=float32)"
      ]
     },
     "execution_count": 1,
     "metadata": {},
     "output_type": "execute_result"
    }
   ],
   "source": [
    "import numpy as np\n",
    "import jax.numpy as jnp\n",
    "from jax import random\n",
    "\n",
    "x = random.uniform(random.PRNGKey(0), (1000, 1000))\n",
    "jnp.dot(x, x) + 3"
   ]
  },
  {
   "cell_type": "markdown",
   "id": "supreme-still",
   "metadata": {},
   "source": [
    "类似 `jnp.dot(x, x)` 的操作被执行的时候，JAX在将控制权返回给Python程序之前不会等待该操作完成。JAX返回一个 `DeviceArray` 值，这是一个未来值，也就是未来将在加速设备上生成的值，不一定立即可用。我们可以检查 `DeviceArray` 的形状或者类型，而不必等待计算完毕，甚至可以像例子中的加法操作，将其传递给另一个JAX计算。仅当我们实际要求从主机检查数组值的时候（例如通过打印或将其转换为普通的 `numpy.ndarray`），JAX才会强制Python代码等待计算完成。\n",
    "\n",
    "异步调度非常有用，因为它允许Python代码在加速设备之前运行，从而使Python代码可以脱离关键路径。如果Python代码使设备上的工作入队列的速度快于其执行速度，并且前提是Python代码实际上不需要检查主机上的计算输出，那么Python程序就可以使任意数量的工作入队列，并避免了加速设备等待。\n",
    "\n",
    "异步调度对微基准测试产生了令人惊讶的后果。"
   ]
  },
  {
   "cell_type": "code",
   "execution_count": 2,
   "id": "verified-terrorism",
   "metadata": {
    "scrolled": true
   },
   "outputs": [
    {
     "name": "stdout",
     "output_type": "stream",
     "text": [
      "CPU times: user 195 µs, sys: 231 µs, total: 426 µs\n",
      "Wall time: 259 µs\n"
     ]
    },
    {
     "data": {
      "text/plain": [
       "DeviceArray([[255.01974, 246.6486 , 254.13365, ..., 233.67946, 247.68948,\n",
       "              238.36853],\n",
       "             [262.65985, 253.28912, 259.1825 , ..., 239.03188, 253.1676 ,\n",
       "              249.44131],\n",
       "             [259.38904, 252.72743, 258.2306 , ..., 237.8356 , 252.41084,\n",
       "              246.62466],\n",
       "             ...,\n",
       "             [256.15814, 250.09195, 254.72174, ..., 239.23877, 247.72672,\n",
       "              244.16637],\n",
       "             [268.2267 , 258.91208, 262.33398, ..., 245.26645, 259.0539 ,\n",
       "              258.33704],\n",
       "             [254.16138, 251.75424, 256.083  , ..., 238.5985 , 245.626  ,\n",
       "              240.22357]], dtype=float32)"
      ]
     },
     "execution_count": 2,
     "metadata": {},
     "output_type": "execute_result"
    }
   ],
   "source": [
    "%time jnp.dot(x, x)"
   ]
  },
  {
   "cell_type": "markdown",
   "id": "surgical-clothing",
   "metadata": {},
   "source": [
    "在CPU上进行`1000 x 1000`矩阵乘法仅需275微秒！但是事实证明，异步调度会误导我们，我们不是在对矩阵乘法的执行时间计时，而是对调度的工作计时。为了衡量操作的真实成本，我们必须读取主机上的值（例如将其转换为普通的NumPy数组），或者对 `DeviceArray` 值使用 `block_until_ready()` 方法来等待计算完成。"
   ]
  },
  {
   "cell_type": "code",
   "execution_count": 3,
   "id": "metallic-running",
   "metadata": {},
   "outputs": [
    {
     "name": "stdout",
     "output_type": "stream",
     "text": [
      "CPU times: user 2.63 ms, sys: 0 ns, total: 2.63 ms\n",
      "Wall time: 2.37 ms\n"
     ]
    },
    {
     "data": {
      "text/plain": [
       "array([[255.01974, 246.6486 , 254.13365, ..., 233.67946, 247.68948,\n",
       "        238.36853],\n",
       "       [262.65985, 253.28912, 259.1825 , ..., 239.03188, 253.1676 ,\n",
       "        249.44131],\n",
       "       [259.38904, 252.72743, 258.2306 , ..., 237.8356 , 252.41084,\n",
       "        246.62466],\n",
       "       ...,\n",
       "       [256.15814, 250.09195, 254.72174, ..., 239.23877, 247.72672,\n",
       "        244.16637],\n",
       "       [268.2267 , 258.91208, 262.33398, ..., 245.26645, 259.0539 ,\n",
       "        258.33704],\n",
       "       [254.16138, 251.75424, 256.083  , ..., 238.5985 , 245.626  ,\n",
       "        240.22357]], dtype=float32)"
      ]
     },
     "execution_count": 3,
     "metadata": {},
     "output_type": "execute_result"
    }
   ],
   "source": [
    "%time np.asarray(jnp.dot(x, x))"
   ]
  },
  {
   "cell_type": "code",
   "execution_count": 4,
   "id": "prerequisite-primary",
   "metadata": {},
   "outputs": [
    {
     "name": "stdout",
     "output_type": "stream",
     "text": [
      "CPU times: user 1.14 ms, sys: 0 ns, total: 1.14 ms\n",
      "Wall time: 824 µs\n"
     ]
    },
    {
     "data": {
      "text/plain": [
       "DeviceArray([[255.01974, 246.6486 , 254.13365, ..., 233.67946, 247.68948,\n",
       "              238.36853],\n",
       "             [262.65985, 253.28912, 259.1825 , ..., 239.03188, 253.1676 ,\n",
       "              249.44131],\n",
       "             [259.38904, 252.72743, 258.2306 , ..., 237.8356 , 252.41084,\n",
       "              246.62466],\n",
       "             ...,\n",
       "             [256.15814, 250.09195, 254.72174, ..., 239.23877, 247.72672,\n",
       "              244.16637],\n",
       "             [268.2267 , 258.91208, 262.33398, ..., 245.26645, 259.0539 ,\n",
       "              258.33704],\n",
       "             [254.16138, 251.75424, 256.083  , ..., 238.5985 , 245.626  ,\n",
       "              240.22357]], dtype=float32)"
      ]
     },
     "execution_count": 4,
     "metadata": {},
     "output_type": "execute_result"
    }
   ],
   "source": [
    "%time jnp.dot(x, x).block_until_ready()  "
   ]
  },
  {
   "cell_type": "code",
   "execution_count": null,
   "id": "steady-broadcasting",
   "metadata": {},
   "outputs": [],
   "source": []
  }
 ],
 "metadata": {
  "kernelspec": {
   "display_name": "Python 3",
   "language": "python",
   "name": "python3"
  },
  "language_info": {
   "codemirror_mode": {
    "name": "ipython",
    "version": 3
   },
   "file_extension": ".py",
   "mimetype": "text/x-python",
   "name": "python",
   "nbconvert_exporter": "python",
   "pygments_lexer": "ipython3",
   "version": "3.9.2"
  }
 },
 "nbformat": 4,
 "nbformat_minor": 5
}
