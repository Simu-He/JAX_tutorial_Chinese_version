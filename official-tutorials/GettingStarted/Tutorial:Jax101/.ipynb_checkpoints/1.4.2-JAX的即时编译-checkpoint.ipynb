{
 "cells": [
  {
   "cell_type": "markdown",
   "id": "technical-processing",
   "metadata": {},
   "source": [
    "# JAX的即时编译\n",
    "\n",
    "> 作者：Rosalia Schneider & Vladimir Mikulik\n",
    "\n",
    "在本节中，我们将进一步讨论JAX的工作原理，以及如何使其具有高性能。我们将讨论`jax.jit()`变换，该变换将执行JAX Python函数的即时编译（JIT），以便可以在XLA中有效地执行该转换。\n",
    "\n",
    "## 如何使用JAX变换\n",
    "\n",
    "在上一节中，我们讨论了JAX允许我们变换Python函数。这是通过首先将Python函数转换为一种简单的中间语言jaxpr来完成的。之后，转换将在jaxpr形式上进行。\n",
    "\n",
    "我们可以用 `jax.make_jaxpr` 来显示函数的jaxpr形式："
   ]
  },
  {
   "cell_type": "code",
   "execution_count": 1,
   "id": "corrected-onion",
   "metadata": {},
   "outputs": [
    {
     "name": "stdout",
     "output_type": "stream",
     "text": [
      "{ lambda  ; a.\n",
      "  let b = log a\n",
      "      c = log 2.0\n",
      "      d = div b c\n",
      "  in (d,) }\n"
     ]
    }
   ],
   "source": [
    "import jax\n",
    "import jax.numpy as jnp\n",
    "\n",
    "global_list = []\n",
    "\n",
    "def log2(x):\n",
    "    global_list.append(x)\n",
    "    ln_x = jnp.log(x)\n",
    "    ln_2 = jnp.log(2.0)\n",
    "    \n",
    "    return ln_x / ln_2\n",
    "\n",
    "print(jax.make_jaxpr(log2)(3.0))"
   ]
  },
  {
   "cell_type": "markdown",
   "id": "southeast-spray",
   "metadata": {},
   "source": [
    "在教程中的[理解Jaxprs]()部分提供了有关上述输出含义的更多信息。\n",
    "\n",
    "请注意，很重要的一点是jaxpr无法捕获该函数的副作用：其中没有与`global_list.append(x)`的内容。这是一个特性，并不是一个漏洞：JAX旨在理解无副作用的代码。如果您不太熟悉纯函数和副作用这两个术语，请参见[JAX锋芒毕露:🔪纯函数](https://render.githubusercontent.com/view/ipynb?color_mode=light&commit=fe4a5f85bf7936468ed39f20cced5b25a1612efb&enc_url=68747470733a2f2f7261772e67697468756275736572636f6e74656e742e636f6d2f726173696e2d7473756b7562612f4a41585f6368696e6573655f7475746f7269616c2f666534613566383562663739333634363865643339663230636365643562323561313631326566622f6f6666696369616c2d7475746f7269616c732f47657474696e67537461727465642f312e332d4a41582545392539342538422545382538412539322545362541462539352545392539432542322e6970796e62&nwo=rasin-tsukuba%2FJAX_chinese_tutorial&path=official-tutorials%2FGettingStarted%2F1.3-JAX%E9%94%8B%E8%8A%92%E6%AF%95%E9%9C%B2.ipynb&repository_id=349726397&repository_type=Repository#%F0%9F%94%AA%E7%BA%AF%E5%87%BD%E6%95%B0)。\n",
    "\n",
    "当然，非纯函数仍然可以编写甚至运行，但是一旦转换为jaxpr，JAX就无法保证其行为。但根据经验，您可以期望（但不应该依赖）JAX转换函数的副作用只运行一次（在第一次调用时）之后再也不会运行。这是因为JAX使用称为“跟踪”的过程生成jaxpr的方式。\n",
    "\n",
    "跟踪时，JAX用跟踪器对象包装每个参数。然后，这些跟踪器记录函数调用期间对他们执行的所有JAX操作（发生在Python代码之中）。之后，JAX使用跟踪记录来重构整个函数。该重建的输出是jaxpr。由于跟踪其没有记录Python的副作用，因此它们不会出现在jaxpr中。但是，副作用仍会在跟踪期间发生。\n",
    "\n",
    "注意：Python的 `print()` 不是纯函数：文本输出是该函数的副作用。因此，任何 `print()`调用都只会在跟踪过程中发生，而不会出现在jaxpr中："
   ]
  },
  {
   "cell_type": "code",
   "execution_count": 2,
   "id": "geological-nicaragua",
   "metadata": {},
   "outputs": [
    {
     "name": "stdout",
     "output_type": "stream",
     "text": [
      "printed x:  Traced<ShapedArray(float32[], weak_type=True)>with<DynamicJaxprTrace(level=1/0)>\n",
      "{ lambda  ; a.\n",
      "  let b = log a\n",
      "      c = log 2.0\n",
      "      d = convert_element_type[ new_dtype=float32\n",
      "                                weak_type=False ] b\n",
      "      e = div d c\n",
      "  in (e,) }\n"
     ]
    }
   ],
   "source": [
    "def log2_with_print(x):\n",
    "    print(\"printed x: \", x)\n",
    "    ln_x = jnp.log(x)\n",
    "    ln_2 = jnp.log(2)\n",
    "    return ln_x / ln_2\n",
    "\n",
    "print(jax.make_jaxpr(log2_with_print)(3.))"
   ]
  },
  {
   "cell_type": "markdown",
   "id": "worse-london",
   "metadata": {},
   "source": [
    "看到打印的`x`成为一个 `Traced` 对象了吗？这就是JAX的内部运行机制。\n",
    "\n",
    "Python代码至少运行一次的事实严格上来说是实现细节，因此不应该对其有依赖。但是，理解它很有用，因为您可以调试以打印出计算的中间值时使用它。\n",
    "\n",
    "关键要理解的是，jaxpr会捕获对给定参数执行的功能。例如，如果我们有条件，那么jaxpr将只知道我们采取的分支："
   ]
  },
  {
   "cell_type": "code",
   "execution_count": 3,
   "id": "parallel-physiology",
   "metadata": {},
   "outputs": [
    {
     "name": "stdout",
     "output_type": "stream",
     "text": [
      "{ lambda  ; a.\n",
      "  let \n",
      "  in (a,) }\n"
     ]
    }
   ],
   "source": [
    "def log2_if_rank_2(x):\n",
    "    if x.ndim == 2:\n",
    "        ln_x = jnp.log(x)\n",
    "        ln_2 = jnp.log(2)\n",
    "        return ln_x / ln_2\n",
    "    else:\n",
    "        return x\n",
    "    \n",
    "print(jax.make_jaxpr(log2_if_rank_2)(jax.numpy.array([1., 2., 3.])))"
   ]
  },
  {
   "cell_type": "markdown",
   "id": "indirect-witness",
   "metadata": {},
   "source": [
    "## 使用JIT编译函数\n",
    "\n",
    "如前所述，JAX使操作可以使用相同的的代码在CPU、GPU和TPU上执行。让我们来看一个计算比例指数线性单位（SELU）的示例，这是深度学习中常用的一种运算："
   ]
  },
  {
   "cell_type": "code",
   "execution_count": 5,
   "id": "swiss-basis",
   "metadata": {},
   "outputs": [
    {
     "name": "stdout",
     "output_type": "stream",
     "text": [
      "866 µs ± 20.8 µs per loop (mean ± std. dev. of 7 runs, 1 loop each)\n"
     ]
    }
   ],
   "source": [
    "import jax\n",
    "import jax.numpy as jnp\n",
    "\n",
    "def selu(x, alpha=1.67, lambda_=1.05):\n",
    "    return lambda_ * jnp.where(x > 0, x, alpha * jnp.exp(x) - alpha)\n",
    "\n",
    "x = jnp.arange(1000000)\n",
    "%timeit selu(x).block_until_ready()"
   ]
  },
  {
   "cell_type": "markdown",
   "id": "human-neighbor",
   "metadata": {},
   "source": [
    "以上代码一次性向加速器发送了一个操作。这限制了XLA编译器优化功能的能力。\n",
    "\n",
    "自然，我们想要做的事给XLA编译器尽可能多的代码，以便它可以完全优化它。为此，JAX提供了 `jax.jit`转换，它将即时编译JAX兼容的函数。下面的示例显示了如何使用JIT来加快此函数："
   ]
  },
  {
   "cell_type": "code",
   "execution_count": 6,
   "id": "written-spectrum",
   "metadata": {},
   "outputs": [
    {
     "name": "stdout",
     "output_type": "stream",
     "text": [
      "52.3 µs ± 473 ns per loop (mean ± std. dev. of 7 runs, 10000 loops each)\n"
     ]
    }
   ],
   "source": [
    "selu_jit = jax.jit(selu)\n",
    "\n",
    "# warm up\n",
    "#预热\n",
    "selu_jit(x).block_until_ready()\n",
    "\n",
    "%timeit selu_jit(x).block_until_ready()"
   ]
  },
  {
   "cell_type": "markdown",
   "id": "textile-editor",
   "metadata": {},
   "source": [
    "以下是刚才发生事情的详细解释：\n",
    "\n",
    "1. 我们将`selu_jit`定义为`selu`的编译版本\n",
    "2. 我们在`x`上运行一次 `selu_jit`。这就是JAX进行跟踪的地方——毕竟他需要一些输入才能包装在跟踪器中。然后，使用XLA将jaxpr编译为针对您的GPU或TPU优化的非常有效的代码。现在，对`selu_jit`的后续调用将使用改代码，从而完全跳过我们以前的Python实现。\n",
    "\n"
   ]
  },
  {
   "cell_type": "code",
   "execution_count": null,
   "id": "incomplete-exchange",
   "metadata": {},
   "outputs": [],
   "source": []
  }
 ],
 "metadata": {
  "kernelspec": {
   "display_name": "Python 3",
   "language": "python",
   "name": "python3"
  },
  "language_info": {
   "codemirror_mode": {
    "name": "ipython",
    "version": 3
   },
   "file_extension": ".py",
   "mimetype": "text/x-python",
   "name": "python",
   "nbconvert_exporter": "python",
   "pygments_lexer": "ipython3",
   "version": "3.9.2"
  }
 },
 "nbformat": 4,
 "nbformat_minor": 5
}
