{
 "cells": [
  {
   "cell_type": "markdown",
   "id": "indonesian-catholic",
   "metadata": {},
   "source": [
    "# 加速版Numpy——JAX \n",
    "\n",
    "> 作者：Rosalia Schneider & Vladimir Mikulik\n",
    "\n",
    "在第一节我们会学习最基础的JAX知识。\n",
    "\n",
    "## JAX numpy入门\n",
    "\n",
    "基本上，JAX是一个可用于转换使用类似NumPy的API编写的数组操作程序库。在这一系列指南中，我们将准确地阐释其含义。您可以将JAX视为可在加速设备上运行的可微分NumPy。\n",
    "\n",
    "下面的代码展示了如何导入JAX和创建向量："
   ]
  },
  {
   "cell_type": "code",
   "execution_count": 1,
   "id": "joined-garbage",
   "metadata": {},
   "outputs": [
    {
     "name": "stdout",
     "output_type": "stream",
     "text": [
      "[0 1 2 3 4 5 6 7 8 9]\n"
     ]
    }
   ],
   "source": [
    "import jax\n",
    "import jax.numpy as jnp\n",
    "\n",
    "x = jnp.arange(10)\n",
    "print(x)"
   ]
  },
  {
   "cell_type": "markdown",
   "id": "brazilian-digit",
   "metadata": {},
   "source": [
    "目前一些都和NumPy一模一样。JAX的一大美丽在于，您无需学习新的API。如果将`np`替换为 `jnp`，则许多常见的NumPy程序在JAX中运行的结果也一样。但是，在本届末尾我们将会谈到一些重要的区别。\n",
    "\n",
    "如果检查 `x` 的类型，您会注意到第一个区别：它是一个 `DeviceArray`类型的变量，是JAX表示数组的方式。"
   ]
  },
  {
   "cell_type": "code",
   "execution_count": 2,
   "id": "revolutionary-special",
   "metadata": {},
   "outputs": [
    {
     "data": {
      "text/plain": [
       "DeviceArray([0, 1, 2, 3, 4, 5, 6, 7, 8, 9], dtype=int32)"
      ]
     },
     "execution_count": 2,
     "metadata": {},
     "output_type": "execute_result"
    }
   ],
   "source": [
    "x"
   ]
  },
  {
   "cell_type": "markdown",
   "id": "intensive-christopher",
   "metadata": {},
   "source": [
    "JAX一个有用的功能室相同的代码可以在不同的后端（CPU、GPU和TPU）上运行。\n",
    "\n",
    "现在我们执行一个点乘操作，以演示可以在不更改代码的情况下在不同设备中完成惩罚。我们用`%timeit`来检验其性能。\n",
    "\n",
    "一个技术细节：当调用JAX函数时，相应的操作将分派给加速器，以便在可能的情况下进异步计算。因此，返回的数组不必在函数后立即被“填充”。如果不立即要求结果，那么该计算就不会阻止Python执行。因此，除非我们执行 `block_until_ready`，我们将只对调度进行计时，而不是对实时计算计时。详情请参阅[异步调度](https://github.com/rasin-tsukuba/JAX_chinese_tutorial/blob/main/official-tutorials/ReferenceDocumentation/2.3-%E5%BC%82%E6%AD%A5%E8%B0%83%E5%BA%A6.ipynb)。"
   ]
  },
  {
   "cell_type": "code",
   "execution_count": 3,
   "id": "bright-memorabilia",
   "metadata": {},
   "outputs": [
    {
     "name": "stdout",
     "output_type": "stream",
     "text": [
      "218 µs ± 1.97 µs per loop (mean ± std. dev. of 7 runs, 1000 loops each)\n"
     ]
    }
   ],
   "source": [
    "long_vector = jnp.arange(int(1e7))\n",
    "\n",
    "%timeit jnp.dot(long_vector, long_vector).block_until_ready()"
   ]
  },
  {
   "cell_type": "markdown",
   "id": "ecological-spine",
   "metadata": {},
   "source": [
    "小提示：尝试两次运行以上代码，一次不用加速器，一次使用GPU运行。（在Colab中，单击Runtime->Change Runtime Type，并选择GPU）。查看它在GPU上运行的速度。\n",
    "\n",
    "## JAX的第一个变换：`grad`\n",
    "\n",
    "JAX的一个基本功能是允许您对函数进行变换。 `jax.grad`是最常用的变换之一，它采用Python编写的数值函数，并返回一个新的Python函数，该函数可计算原始函数的梯度。\n",
    "\n",
    "我们首先定义一个函数，该函数需要一个数组并返回平方和。"
   ]
  },
  {
   "cell_type": "code",
   "execution_count": 4,
   "id": "international-assist",
   "metadata": {},
   "outputs": [],
   "source": [
    "def sum_of_squares(x):\n",
    "    return jnp.sum(x ** 2)"
   ]
  },
  {
   "cell_type": "markdown",
   "id": "cultural-potential",
   "metadata": {},
   "source": [
    "将 `jax.grad`应用于 `sum_of_square`将返回一个不同的函数，即 `sum_of_squares`对于其第一个参数`x`的梯度。您可以在数组上使用该函数已返回语数组中每个元素有关的倒数。"
   ]
  },
  {
   "cell_type": "code",
   "execution_count": 5,
   "id": "optical-colors",
   "metadata": {},
   "outputs": [
    {
     "name": "stdout",
     "output_type": "stream",
     "text": [
      "30.0\n",
      "[2. 4. 6. 8.]\n"
     ]
    }
   ],
   "source": [
    "sum_of_squares_dx = jax.grad(sum_of_squares)\n",
    "x = jnp.asarray([1., 2., 3., 4.])\n",
    "print(sum_of_squares(x))\n",
    "print(sum_of_squares_dx(x))"
   ]
  },
  {
   "cell_type": "markdown",
   "id": "controlling-inspiration",
   "metadata": {},
   "source": [
    "您可以将 `jax.grad`类比为向量微积分中的 $\\triangledown $操作符。给定一个函数 $f(x)$, $\\triangledown  f$代表计算函数$f$梯度的函数，也就是：\n",
    "\n",
    "$$\n",
    "(\\triangledown  f)(x)_i = \\frac{\\partial f}{\\partial x_i}(x)\n",
    "$$\n",
    "\n",
    "同理，既然`jax.grad(f)`是计算梯度的函数，那么 `jax.grad(f)(x)`就是函数`f`对于`x`的导数（类似 $\\triangledown$，`jax.grad`只能在输出为标量的函数中，否则将会报错）。\n",
    "\n",
    "这使得JAX API与Tensorflow和PyTorch等其他autodiff库完全不同（例如通过调用`loss.backward()`），在其中我们使用损失张量本身来计算梯度。JAX API直接与函数配合使用，与基础数学保持更紧密的练习。一旦习惯了这种处理方式，您就会感觉很自然：代码中的损失函数实际上是参数和数据的函数，并且您会发现它的梯度就像在数学中一样。\n",
    "\n",
    "这种工作方式使控制事件变得简单，例如要对哪些变量求导。默认情况下，`jax.grad`将找到相对于第一个参数的梯度。在下面的示例中，`sum_squared_error_dx`的结果是`sum_squared_error`相对于`x`的梯度："
   ]
  },
  {
   "cell_type": "code",
   "execution_count": 6,
   "id": "valid-reverse",
   "metadata": {},
   "outputs": [
    {
     "name": "stdout",
     "output_type": "stream",
     "text": [
      "[-0.20000005 -0.19999981 -0.19999981 -0.19999981]\n"
     ]
    }
   ],
   "source": [
    "def sum_squared_error(x, y):\n",
    "    return jnp.sum((x-y) ** 2)\n",
    "\n",
    "sum_squared_error_dx = jax.grad(sum_squared_error)\n",
    "\n",
    "y = jnp.asarray([1.1, 2.1, 3.1, 4.1])\n",
    "print(sum_squared_error_dx(x, y))"
   ]
  },
  {
   "cell_type": "markdown",
   "id": "accessory-louisville",
   "metadata": {},
   "source": [
    "要找到相对于一个或多个不同参数的梯度，可以设置`argnums`："
   ]
  },
  {
   "cell_type": "code",
   "execution_count": 7,
   "id": "nominated-trance",
   "metadata": {},
   "outputs": [
    {
     "data": {
      "text/plain": [
       "(DeviceArray([-0.20000005, -0.19999981, -0.19999981, -0.19999981], dtype=float32),\n",
       " DeviceArray([0.20000005, 0.19999981, 0.19999981, 0.19999981], dtype=float32))"
      ]
     },
     "execution_count": 7,
     "metadata": {},
     "output_type": "execute_result"
    }
   ],
   "source": [
    "jax.grad(sum_squared_error, argnums=(0, 1))(x, y)"
   ]
  },
  {
   "cell_type": "markdown",
   "id": "neural-panel",
   "metadata": {},
   "source": [
    "这是否意味着在机器学习中，我们需要编写带有巨大参数列表的函数，并未每个模型参数组数组提供一个参数？不必。JAX配备了用于将数组捆绑在一起的机制，称为`pytree`的数据结构。有关更多信息，请参阅[后续指南]()。因此，最常见使用`jax.grad`的方式如下："
   ]
  },
  {
   "cell_type": "code",
   "execution_count": null,
   "id": "facial-panel",
   "metadata": {},
   "outputs": [],
   "source": [
    "def loss_fn(params, data):\n",
    "    ...\n",
    "    \n",
    "grads = jax.grad(loss_fn)(params, data_batch)"
   ]
  },
  {
   "cell_type": "markdown",
   "id": "filled-register",
   "metadata": {},
   "source": [
    "其中，`params`是例如数组的嵌套字典，返回的`grads`是具有相同结构的数组的另一个嵌套字典。\n",
    "\n",
    "## 值和梯度\n",
    "\n",
    "通常，您需要同时得到函数的值和梯度。例如，如果您想记录训练损失。JAX具有方便的“姊妹转换”功能，可以有效地完成此任务："
   ]
  },
  {
   "cell_type": "code",
   "execution_count": 9,
   "id": "flying-veteran",
   "metadata": {},
   "outputs": [
    {
     "data": {
      "text/plain": [
       "(DeviceArray(0.03999995, dtype=float32),\n",
       " DeviceArray([-0.20000005, -0.19999981, -0.19999981, -0.19999981], dtype=float32))"
      ]
     },
     "execution_count": 9,
     "metadata": {},
     "output_type": "execute_result"
    }
   ],
   "source": [
    "jax.value_and_grad(sum_squared_error)(x, y)"
   ]
  },
  {
   "cell_type": "markdown",
   "id": "controlling-hybrid",
   "metadata": {},
   "source": [
    "由此返回了一个`(value, grad)`元组。准确的说，对于任何`f`："
   ]
  },
  {
   "cell_type": "code",
   "execution_count": null,
   "id": "fantastic-glasgow",
   "metadata": {},
   "outputs": [],
   "source": [
    "jax.value_and_grad(f)(*xs) == (f(*xs), jax.grad(f)(*xs)) "
   ]
  },
  {
   "cell_type": "markdown",
   "id": "cubic-buyer",
   "metadata": {},
   "source": [
    "## 辅助数据\n",
    "\n",
    "除了要记录该值外， 我们通常还希望报告在计算损失函数时获得的一些中间结果。但是，如果我们同时尝试使用常规的 `jax.grad`，这样做则会遇到麻烦：\n",
    "\n"
   ]
  },
  {
   "cell_type": "code",
   "execution_count": 10,
   "id": "genetic-point",
   "metadata": {},
   "outputs": [
    {
     "ename": "TypeError",
     "evalue": "Gradient only defined for scalar-output functions. Output was (DeviceArray(0.03999995, dtype=float32), DeviceArray([-0.10000002, -0.0999999 , -0.0999999 , -0.0999999 ], dtype=float32)).",
     "output_type": "error",
     "traceback": [
      "\u001b[0;31m---------------------------------------------------------------------------\u001b[0m",
      "\u001b[0;31mFilteredStackTrace\u001b[0m                        Traceback (most recent call last)",
      "\u001b[0;32m<ipython-input-10-0bcfcf6972cf>\u001b[0m in \u001b[0;36m<module>\u001b[0;34m\u001b[0m\n\u001b[1;32m      3\u001b[0m \u001b[0;34m\u001b[0m\u001b[0m\n\u001b[0;32m----> 4\u001b[0;31m \u001b[0mjax\u001b[0m\u001b[0;34m.\u001b[0m\u001b[0mgrad\u001b[0m\u001b[0;34m(\u001b[0m\u001b[0msqared_error_with_aux\u001b[0m\u001b[0;34m)\u001b[0m\u001b[0;34m(\u001b[0m\u001b[0mx\u001b[0m\u001b[0;34m,\u001b[0m \u001b[0my\u001b[0m\u001b[0;34m)\u001b[0m\u001b[0;34m\u001b[0m\u001b[0;34m\u001b[0m\u001b[0m\n\u001b[0m",
      "\u001b[0;31mFilteredStackTrace\u001b[0m: TypeError: Gradient only defined for scalar-output functions. Output was (DeviceArray(0.03999995, dtype=float32), DeviceArray([-0.10000002, -0.0999999 , -0.0999999 , -0.0999999 ], dtype=float32)).\n\nThe stack trace above excludes JAX-internal frames.\nThe following is the original exception that occurred, unmodified.\n\n--------------------",
      "\nThe above exception was the direct cause of the following exception:\n",
      "\u001b[0;31mTypeError\u001b[0m                                 Traceback (most recent call last)",
      "\u001b[0;32m~/miniconda3/envs/jax/lib/python3.9/site-packages/jax/api.py\u001b[0m in \u001b[0;36m_check_scalar\u001b[0;34m(x)\u001b[0m\n\u001b[1;32m    840\u001b[0m   \u001b[0;32mtry\u001b[0m\u001b[0;34m:\u001b[0m\u001b[0;34m\u001b[0m\u001b[0;34m\u001b[0m\u001b[0m\n\u001b[0;32m--> 841\u001b[0;31m     \u001b[0maval\u001b[0m \u001b[0;34m=\u001b[0m \u001b[0mcore\u001b[0m\u001b[0;34m.\u001b[0m\u001b[0mget_aval\u001b[0m\u001b[0;34m(\u001b[0m\u001b[0mx\u001b[0m\u001b[0;34m)\u001b[0m\u001b[0;34m\u001b[0m\u001b[0;34m\u001b[0m\u001b[0m\n\u001b[0m\u001b[1;32m    842\u001b[0m   \u001b[0;32mexcept\u001b[0m \u001b[0mTypeError\u001b[0m \u001b[0;32mas\u001b[0m \u001b[0me\u001b[0m\u001b[0;34m:\u001b[0m\u001b[0;34m\u001b[0m\u001b[0;34m\u001b[0m\u001b[0m\n",
      "\u001b[0;32m~/miniconda3/envs/jax/lib/python3.9/site-packages/jax/core.py\u001b[0m in \u001b[0;36mget_aval\u001b[0;34m(x)\u001b[0m\n\u001b[1;32m    920\u001b[0m   \u001b[0;32melse\u001b[0m\u001b[0;34m:\u001b[0m\u001b[0;34m\u001b[0m\u001b[0;34m\u001b[0m\u001b[0m\n\u001b[0;32m--> 921\u001b[0;31m     \u001b[0;32mreturn\u001b[0m \u001b[0mconcrete_aval\u001b[0m\u001b[0;34m(\u001b[0m\u001b[0mx\u001b[0m\u001b[0;34m)\u001b[0m\u001b[0;34m\u001b[0m\u001b[0;34m\u001b[0m\u001b[0m\n\u001b[0m\u001b[1;32m    922\u001b[0m \u001b[0;34m\u001b[0m\u001b[0m\n",
      "\u001b[0;32m~/miniconda3/envs/jax/lib/python3.9/site-packages/jax/core.py\u001b[0m in \u001b[0;36mconcrete_aval\u001b[0;34m(x)\u001b[0m\n\u001b[1;32m    912\u001b[0m     \u001b[0;32mreturn\u001b[0m \u001b[0mconcrete_aval\u001b[0m\u001b[0;34m(\u001b[0m\u001b[0mx\u001b[0m\u001b[0;34m.\u001b[0m\u001b[0m__jax_array__\u001b[0m\u001b[0;34m(\u001b[0m\u001b[0;34m)\u001b[0m\u001b[0;34m)\u001b[0m\u001b[0;34m\u001b[0m\u001b[0;34m\u001b[0m\u001b[0m\n\u001b[0;32m--> 913\u001b[0;31m   raise TypeError(f\"Value {repr(x)} with type {type(x)} is not a valid JAX \"\n\u001b[0m\u001b[1;32m    914\u001b[0m                    \"type\")\n",
      "\u001b[0;31mTypeError\u001b[0m: Value (DeviceArray(0.03999995, dtype=float32), DeviceArray([-0.10000002, -0.0999999 , -0.0999999 , -0.0999999 ], dtype=float32)) with type <class 'tuple'> is not a valid JAX type",
      "\nThe above exception was the direct cause of the following exception:\n",
      "\u001b[0;31mTypeError\u001b[0m                                 Traceback (most recent call last)",
      "\u001b[0;32m<ipython-input-10-0bcfcf6972cf>\u001b[0m in \u001b[0;36m<module>\u001b[0;34m\u001b[0m\n\u001b[1;32m      2\u001b[0m     \u001b[0;32mreturn\u001b[0m \u001b[0msum_squared_error\u001b[0m\u001b[0;34m(\u001b[0m\u001b[0mx\u001b[0m\u001b[0;34m,\u001b[0m \u001b[0my\u001b[0m\u001b[0;34m)\u001b[0m\u001b[0;34m,\u001b[0m \u001b[0mx\u001b[0m\u001b[0;34m-\u001b[0m\u001b[0my\u001b[0m\u001b[0;34m\u001b[0m\u001b[0;34m\u001b[0m\u001b[0m\n\u001b[1;32m      3\u001b[0m \u001b[0;34m\u001b[0m\u001b[0m\n\u001b[0;32m----> 4\u001b[0;31m \u001b[0mjax\u001b[0m\u001b[0;34m.\u001b[0m\u001b[0mgrad\u001b[0m\u001b[0;34m(\u001b[0m\u001b[0msqared_error_with_aux\u001b[0m\u001b[0;34m)\u001b[0m\u001b[0;34m(\u001b[0m\u001b[0mx\u001b[0m\u001b[0;34m,\u001b[0m \u001b[0my\u001b[0m\u001b[0;34m)\u001b[0m\u001b[0;34m\u001b[0m\u001b[0;34m\u001b[0m\u001b[0m\n\u001b[0m",
      "\u001b[0;32m~/miniconda3/envs/jax/lib/python3.9/site-packages/jax/_src/traceback_util.py\u001b[0m in \u001b[0;36mreraise_with_filtered_traceback\u001b[0;34m(*args, **kwargs)\u001b[0m\n\u001b[1;32m    137\u001b[0m   \u001b[0;32mdef\u001b[0m \u001b[0mreraise_with_filtered_traceback\u001b[0m\u001b[0;34m(\u001b[0m\u001b[0;34m*\u001b[0m\u001b[0margs\u001b[0m\u001b[0;34m,\u001b[0m \u001b[0;34m**\u001b[0m\u001b[0mkwargs\u001b[0m\u001b[0;34m)\u001b[0m\u001b[0;34m:\u001b[0m\u001b[0;34m\u001b[0m\u001b[0;34m\u001b[0m\u001b[0m\n\u001b[1;32m    138\u001b[0m     \u001b[0;32mtry\u001b[0m\u001b[0;34m:\u001b[0m\u001b[0;34m\u001b[0m\u001b[0;34m\u001b[0m\u001b[0m\n\u001b[0;32m--> 139\u001b[0;31m       \u001b[0;32mreturn\u001b[0m \u001b[0mfun\u001b[0m\u001b[0;34m(\u001b[0m\u001b[0;34m*\u001b[0m\u001b[0margs\u001b[0m\u001b[0;34m,\u001b[0m \u001b[0;34m**\u001b[0m\u001b[0mkwargs\u001b[0m\u001b[0;34m)\u001b[0m\u001b[0;34m\u001b[0m\u001b[0;34m\u001b[0m\u001b[0m\n\u001b[0m\u001b[1;32m    140\u001b[0m     \u001b[0;32mexcept\u001b[0m \u001b[0mException\u001b[0m \u001b[0;32mas\u001b[0m \u001b[0me\u001b[0m\u001b[0;34m:\u001b[0m\u001b[0;34m\u001b[0m\u001b[0;34m\u001b[0m\u001b[0m\n\u001b[1;32m    141\u001b[0m       \u001b[0;32mif\u001b[0m \u001b[0;32mnot\u001b[0m \u001b[0mis_under_reraiser\u001b[0m\u001b[0;34m(\u001b[0m\u001b[0me\u001b[0m\u001b[0;34m)\u001b[0m\u001b[0;34m:\u001b[0m\u001b[0;34m\u001b[0m\u001b[0;34m\u001b[0m\u001b[0m\n",
      "\u001b[0;32m~/miniconda3/envs/jax/lib/python3.9/site-packages/jax/api.py\u001b[0m in \u001b[0;36mgrad_f\u001b[0;34m(*args, **kwargs)\u001b[0m\n\u001b[1;32m    758\u001b[0m   \u001b[0;34m@\u001b[0m\u001b[0mapi_boundary\u001b[0m\u001b[0;34m\u001b[0m\u001b[0;34m\u001b[0m\u001b[0m\n\u001b[1;32m    759\u001b[0m   \u001b[0;32mdef\u001b[0m \u001b[0mgrad_f\u001b[0m\u001b[0;34m(\u001b[0m\u001b[0;34m*\u001b[0m\u001b[0margs\u001b[0m\u001b[0;34m,\u001b[0m \u001b[0;34m**\u001b[0m\u001b[0mkwargs\u001b[0m\u001b[0;34m)\u001b[0m\u001b[0;34m:\u001b[0m\u001b[0;34m\u001b[0m\u001b[0;34m\u001b[0m\u001b[0m\n\u001b[0;32m--> 760\u001b[0;31m     \u001b[0m_\u001b[0m\u001b[0;34m,\u001b[0m \u001b[0mg\u001b[0m \u001b[0;34m=\u001b[0m \u001b[0mvalue_and_grad_f\u001b[0m\u001b[0;34m(\u001b[0m\u001b[0;34m*\u001b[0m\u001b[0margs\u001b[0m\u001b[0;34m,\u001b[0m \u001b[0;34m**\u001b[0m\u001b[0mkwargs\u001b[0m\u001b[0;34m)\u001b[0m\u001b[0;34m\u001b[0m\u001b[0;34m\u001b[0m\u001b[0m\n\u001b[0m\u001b[1;32m    761\u001b[0m     \u001b[0;32mreturn\u001b[0m \u001b[0mg\u001b[0m\u001b[0;34m\u001b[0m\u001b[0;34m\u001b[0m\u001b[0m\n\u001b[1;32m    762\u001b[0m \u001b[0;34m\u001b[0m\u001b[0m\n",
      "\u001b[0;32m~/miniconda3/envs/jax/lib/python3.9/site-packages/jax/_src/traceback_util.py\u001b[0m in \u001b[0;36mreraise_with_filtered_traceback\u001b[0;34m(*args, **kwargs)\u001b[0m\n\u001b[1;32m    137\u001b[0m   \u001b[0;32mdef\u001b[0m \u001b[0mreraise_with_filtered_traceback\u001b[0m\u001b[0;34m(\u001b[0m\u001b[0;34m*\u001b[0m\u001b[0margs\u001b[0m\u001b[0;34m,\u001b[0m \u001b[0;34m**\u001b[0m\u001b[0mkwargs\u001b[0m\u001b[0;34m)\u001b[0m\u001b[0;34m:\u001b[0m\u001b[0;34m\u001b[0m\u001b[0;34m\u001b[0m\u001b[0m\n\u001b[1;32m    138\u001b[0m     \u001b[0;32mtry\u001b[0m\u001b[0;34m:\u001b[0m\u001b[0;34m\u001b[0m\u001b[0;34m\u001b[0m\u001b[0m\n\u001b[0;32m--> 139\u001b[0;31m       \u001b[0;32mreturn\u001b[0m \u001b[0mfun\u001b[0m\u001b[0;34m(\u001b[0m\u001b[0;34m*\u001b[0m\u001b[0margs\u001b[0m\u001b[0;34m,\u001b[0m \u001b[0;34m**\u001b[0m\u001b[0mkwargs\u001b[0m\u001b[0;34m)\u001b[0m\u001b[0;34m\u001b[0m\u001b[0;34m\u001b[0m\u001b[0m\n\u001b[0m\u001b[1;32m    140\u001b[0m     \u001b[0;32mexcept\u001b[0m \u001b[0mException\u001b[0m \u001b[0;32mas\u001b[0m \u001b[0me\u001b[0m\u001b[0;34m:\u001b[0m\u001b[0;34m\u001b[0m\u001b[0;34m\u001b[0m\u001b[0m\n\u001b[1;32m    141\u001b[0m       \u001b[0;32mif\u001b[0m \u001b[0;32mnot\u001b[0m \u001b[0mis_under_reraiser\u001b[0m\u001b[0;34m(\u001b[0m\u001b[0me\u001b[0m\u001b[0;34m)\u001b[0m\u001b[0;34m:\u001b[0m\u001b[0;34m\u001b[0m\u001b[0;34m\u001b[0m\u001b[0m\n",
      "\u001b[0;32m~/miniconda3/envs/jax/lib/python3.9/site-packages/jax/api.py\u001b[0m in \u001b[0;36mvalue_and_grad_f\u001b[0;34m(*args, **kwargs)\u001b[0m\n\u001b[1;32m    824\u001b[0m     \u001b[0;32melse\u001b[0m\u001b[0;34m:\u001b[0m\u001b[0;34m\u001b[0m\u001b[0;34m\u001b[0m\u001b[0m\n\u001b[1;32m    825\u001b[0m       \u001b[0mans\u001b[0m\u001b[0;34m,\u001b[0m \u001b[0mvjp_py\u001b[0m\u001b[0;34m,\u001b[0m \u001b[0maux\u001b[0m \u001b[0;34m=\u001b[0m \u001b[0m_vjp\u001b[0m\u001b[0;34m(\u001b[0m\u001b[0mf_partial\u001b[0m\u001b[0;34m,\u001b[0m \u001b[0;34m*\u001b[0m\u001b[0mdyn_args\u001b[0m\u001b[0;34m,\u001b[0m \u001b[0mhas_aux\u001b[0m\u001b[0;34m=\u001b[0m\u001b[0;32mTrue\u001b[0m\u001b[0;34m)\u001b[0m\u001b[0;34m\u001b[0m\u001b[0;34m\u001b[0m\u001b[0m\n\u001b[0;32m--> 826\u001b[0;31m     \u001b[0m_check_scalar\u001b[0m\u001b[0;34m(\u001b[0m\u001b[0mans\u001b[0m\u001b[0;34m)\u001b[0m\u001b[0;34m\u001b[0m\u001b[0;34m\u001b[0m\u001b[0m\n\u001b[0m\u001b[1;32m    827\u001b[0m     \u001b[0mdtype\u001b[0m \u001b[0;34m=\u001b[0m \u001b[0mdtypes\u001b[0m\u001b[0;34m.\u001b[0m\u001b[0mresult_type\u001b[0m\u001b[0;34m(\u001b[0m\u001b[0mans\u001b[0m\u001b[0;34m)\u001b[0m\u001b[0;34m\u001b[0m\u001b[0;34m\u001b[0m\u001b[0m\n\u001b[1;32m    828\u001b[0m     \u001b[0mtree_map\u001b[0m\u001b[0;34m(\u001b[0m\u001b[0mpartial\u001b[0m\u001b[0;34m(\u001b[0m\u001b[0m_check_output_dtype_grad\u001b[0m\u001b[0;34m,\u001b[0m \u001b[0mholomorphic\u001b[0m\u001b[0;34m)\u001b[0m\u001b[0;34m,\u001b[0m \u001b[0mans\u001b[0m\u001b[0;34m)\u001b[0m\u001b[0;34m\u001b[0m\u001b[0;34m\u001b[0m\u001b[0m\n",
      "\u001b[0;32m~/miniconda3/envs/jax/lib/python3.9/site-packages/jax/api.py\u001b[0m in \u001b[0;36m_check_scalar\u001b[0;34m(x)\u001b[0m\n\u001b[1;32m    841\u001b[0m     \u001b[0maval\u001b[0m \u001b[0;34m=\u001b[0m \u001b[0mcore\u001b[0m\u001b[0;34m.\u001b[0m\u001b[0mget_aval\u001b[0m\u001b[0;34m(\u001b[0m\u001b[0mx\u001b[0m\u001b[0;34m)\u001b[0m\u001b[0;34m\u001b[0m\u001b[0;34m\u001b[0m\u001b[0m\n\u001b[1;32m    842\u001b[0m   \u001b[0;32mexcept\u001b[0m \u001b[0mTypeError\u001b[0m \u001b[0;32mas\u001b[0m \u001b[0me\u001b[0m\u001b[0;34m:\u001b[0m\u001b[0;34m\u001b[0m\u001b[0;34m\u001b[0m\u001b[0m\n\u001b[0;32m--> 843\u001b[0;31m     \u001b[0;32mraise\u001b[0m \u001b[0mTypeError\u001b[0m\u001b[0;34m(\u001b[0m\u001b[0mmsg\u001b[0m\u001b[0;34m(\u001b[0m\u001b[0;34mf\"was {x}\"\u001b[0m\u001b[0;34m)\u001b[0m\u001b[0;34m)\u001b[0m \u001b[0;32mfrom\u001b[0m \u001b[0me\u001b[0m\u001b[0;34m\u001b[0m\u001b[0;34m\u001b[0m\u001b[0m\n\u001b[0m\u001b[1;32m    844\u001b[0m   \u001b[0;32melse\u001b[0m\u001b[0;34m:\u001b[0m\u001b[0;34m\u001b[0m\u001b[0;34m\u001b[0m\u001b[0m\n\u001b[1;32m    845\u001b[0m     \u001b[0;32mif\u001b[0m \u001b[0misinstance\u001b[0m\u001b[0;34m(\u001b[0m\u001b[0maval\u001b[0m\u001b[0;34m,\u001b[0m \u001b[0mShapedArray\u001b[0m\u001b[0;34m)\u001b[0m\u001b[0;34m:\u001b[0m\u001b[0;34m\u001b[0m\u001b[0;34m\u001b[0m\u001b[0m\n",
      "\u001b[0;31mTypeError\u001b[0m: Gradient only defined for scalar-output functions. Output was (DeviceArray(0.03999995, dtype=float32), DeviceArray([-0.10000002, -0.0999999 , -0.0999999 , -0.0999999 ], dtype=float32))."
     ]
    }
   ],
   "source": [
    "def sqared_error_with_aux(x, y):\n",
    "    return sum_squared_error(x, y), x-y\n",
    "\n",
    "jax.grad(sqared_error_with_aux)(x, y)"
   ]
  },
  {
   "cell_type": "markdown",
   "id": "gorgeous-criterion",
   "metadata": {},
   "source": [
    "这是因为 `jax.grad` 仅在标量函数上定义，并且我们的新函数返回一个元组。但我们也需要返回一个元组以返回中间结果。所以我们需要 `has_aux`出现："
   ]
  },
  {
   "cell_type": "code",
   "execution_count": 11,
   "id": "magnetic-stuart",
   "metadata": {},
   "outputs": [
    {
     "data": {
      "text/plain": [
       "(DeviceArray([-0.20000005, -0.19999981, -0.19999981, -0.19999981], dtype=float32),\n",
       " DeviceArray([-0.10000002, -0.0999999 , -0.0999999 , -0.0999999 ], dtype=float32))"
      ]
     },
     "execution_count": 11,
     "metadata": {},
     "output_type": "execute_result"
    }
   ],
   "source": [
    "jax.grad(sqared_error_with_aux, has_aux=True)(x, y)"
   ]
  },
  {
   "cell_type": "markdown",
   "id": "affecting-syracuse",
   "metadata": {},
   "source": [
    "`has_aux`表示该函数返回一对 `(out, aux)`。它使`jax.grad`忽略`aux`，将其传递给用户，同时区分函数，就好像只返回了`out`一样。\n",
    "\n",
    "## 和NumPy的不同\n",
    "\n",
    "`jax.numpy` API与NumPy API密切保持同步。但是，还是有一些重要的区别。我们将会在后面的指南中介其中的更多内容，现在我们先提出一点。\n",
    "\n",
    "最重要的区别（在某种意义上是所有其他区别的根源）是，JAX被设计为具有函数性，就像函数式编程中一样。其背后的原因是，JAX支持的程序转换在功能样式程序中更加可行。\n",
    "\n",
    "函数式编程（FP）的介绍不在本指南的范围之内。如果您已经熟悉FP，那么在学习JAX时，您的FP直觉会有所帮助。如果没有，也请放心！使用JAX是，使用grok进行函数式编程的重要功能非常简单：不要编写有副作用的代码。\n",
    "\n",
    "副作用是其功能未在输出中出现的任何效果。一个示例是就地修改数组："
   ]
  },
  {
   "cell_type": "code",
   "execution_count": 12,
   "id": "available-anatomy",
   "metadata": {},
   "outputs": [
    {
     "data": {
      "text/plain": [
       "array([123,   2,   3])"
      ]
     },
     "execution_count": 12,
     "metadata": {},
     "output_type": "execute_result"
    }
   ],
   "source": [
    "import numpy as np\n",
    "\n",
    "x = np.array([1, 2, 3])\n",
    "\n",
    "def in_place_modify(x):\n",
    "    x[0] = 123\n",
    "    return None\n",
    "\n",
    "in_place_modify(x)\n",
    "x"
   ]
  },
  {
   "cell_type": "markdown",
   "id": "accessory-advancement",
   "metadata": {},
   "source": [
    "副作用函数修改了其参数，但返回了一个完全不相关的值。这是一个副作用。\n",
    "\n",
    "这份代码在NumPy中可以运行，但是JAX数组不允许对其进行就地修改："
   ]
  },
  {
   "cell_type": "code",
   "execution_count": 14,
   "id": "innovative-newfoundland",
   "metadata": {},
   "outputs": [
    {
     "ename": "TypeError",
     "evalue": "'<class 'jax.interpreters.xla._DeviceArray'>' object does not support item assignment. JAX arrays are immutable; perhaps you want jax.ops.index_update or jax.ops.index_add instead?",
     "output_type": "error",
     "traceback": [
      "\u001b[0;31m---------------------------------------------------------------------------\u001b[0m",
      "\u001b[0;31mTypeError\u001b[0m                                 Traceback (most recent call last)",
      "\u001b[0;32m<ipython-input-14-7228a4fe748e>\u001b[0m in \u001b[0;36m<module>\u001b[0;34m\u001b[0m\n\u001b[0;32m----> 1\u001b[0;31m \u001b[0min_place_modify\u001b[0m\u001b[0;34m(\u001b[0m\u001b[0mjnp\u001b[0m\u001b[0;34m.\u001b[0m\u001b[0marray\u001b[0m\u001b[0;34m(\u001b[0m\u001b[0mx\u001b[0m\u001b[0;34m)\u001b[0m\u001b[0;34m)\u001b[0m  \u001b[0;31m# 将其输入映射到 `jnp.ndarray`时报错\u001b[0m\u001b[0;34m\u001b[0m\u001b[0;34m\u001b[0m\u001b[0m\n\u001b[0m",
      "\u001b[0;32m<ipython-input-12-e1345b5835ca>\u001b[0m in \u001b[0;36min_place_modify\u001b[0;34m(x)\u001b[0m\n\u001b[1;32m      4\u001b[0m \u001b[0;34m\u001b[0m\u001b[0m\n\u001b[1;32m      5\u001b[0m \u001b[0;32mdef\u001b[0m \u001b[0min_place_modify\u001b[0m\u001b[0;34m(\u001b[0m\u001b[0mx\u001b[0m\u001b[0;34m)\u001b[0m\u001b[0;34m:\u001b[0m\u001b[0;34m\u001b[0m\u001b[0;34m\u001b[0m\u001b[0m\n\u001b[0;32m----> 6\u001b[0;31m     \u001b[0mx\u001b[0m\u001b[0;34m[\u001b[0m\u001b[0;36m0\u001b[0m\u001b[0;34m]\u001b[0m \u001b[0;34m=\u001b[0m \u001b[0;36m123\u001b[0m\u001b[0;34m\u001b[0m\u001b[0;34m\u001b[0m\u001b[0m\n\u001b[0m\u001b[1;32m      7\u001b[0m     \u001b[0;32mreturn\u001b[0m \u001b[0;32mNone\u001b[0m\u001b[0;34m\u001b[0m\u001b[0;34m\u001b[0m\u001b[0m\n\u001b[1;32m      8\u001b[0m \u001b[0;34m\u001b[0m\u001b[0m\n",
      "\u001b[0;32m~/miniconda3/envs/jax/lib/python3.9/site-packages/jax/_src/numpy/lax_numpy.py\u001b[0m in \u001b[0;36m_unimplemented_setitem\u001b[0;34m(self, i, x)\u001b[0m\n\u001b[1;32m   5264\u001b[0m          \u001b[0;34m\"immutable; perhaps you want jax.ops.index_update or \"\u001b[0m\u001b[0;34m\u001b[0m\u001b[0;34m\u001b[0m\u001b[0m\n\u001b[1;32m   5265\u001b[0m          \"jax.ops.index_add instead?\")\n\u001b[0;32m-> 5266\u001b[0;31m   \u001b[0;32mraise\u001b[0m \u001b[0mTypeError\u001b[0m\u001b[0;34m(\u001b[0m\u001b[0mmsg\u001b[0m\u001b[0;34m.\u001b[0m\u001b[0mformat\u001b[0m\u001b[0;34m(\u001b[0m\u001b[0mtype\u001b[0m\u001b[0;34m(\u001b[0m\u001b[0mself\u001b[0m\u001b[0;34m)\u001b[0m\u001b[0;34m)\u001b[0m\u001b[0;34m)\u001b[0m\u001b[0;34m\u001b[0m\u001b[0;34m\u001b[0m\u001b[0m\n\u001b[0m\u001b[1;32m   5267\u001b[0m \u001b[0;34m\u001b[0m\u001b[0m\n\u001b[1;32m   5268\u001b[0m \u001b[0;32mdef\u001b[0m \u001b[0m_operator_round\u001b[0m\u001b[0;34m(\u001b[0m\u001b[0mnumber\u001b[0m\u001b[0;34m,\u001b[0m \u001b[0mndigits\u001b[0m\u001b[0;34m=\u001b[0m\u001b[0;32mNone\u001b[0m\u001b[0;34m)\u001b[0m\u001b[0;34m:\u001b[0m\u001b[0;34m\u001b[0m\u001b[0;34m\u001b[0m\u001b[0m\n",
      "\u001b[0;31mTypeError\u001b[0m: '<class 'jax.interpreters.xla._DeviceArray'>' object does not support item assignment. JAX arrays are immutable; perhaps you want jax.ops.index_update or jax.ops.index_add instead?"
     ]
    }
   ],
   "source": [
    "in_place_modify(jnp.array(x))  # 将其输入映射到 `jnp.ndarray`时报错\n"
   ]
  },
  {
   "cell_type": "markdown",
   "id": "judicial-clone",
   "metadata": {},
   "source": [
    "该错误指出了JAX通过`jax.ops.index_*ops`进行相同操作的无副作用的方法。它们类似于按索引进行就地修改，但实际上是创建一个新数组并进行相应的修改："
   ]
  },
  {
   "cell_type": "code",
   "execution_count": 15,
   "id": "voluntary-institution",
   "metadata": {},
   "outputs": [
    {
     "data": {
      "text/plain": [
       "DeviceArray([123,   2,   3], dtype=int32)"
      ]
     },
     "execution_count": 15,
     "metadata": {},
     "output_type": "execute_result"
    }
   ],
   "source": [
    "def jax_in_place_modify(x):\n",
    "    return jax.ops.index_update(x, 0, 123)\n",
    "\n",
    "y = jnp.array([1, 2, 3])\n",
    "jax_in_place_modify(y)"
   ]
  },
  {
   "cell_type": "markdown",
   "id": "color-delhi",
   "metadata": {},
   "source": [
    "注意旧数组没有丝毫变化，所以这样就没有副作用："
   ]
  },
  {
   "cell_type": "code",
   "execution_count": 17,
   "id": "dominant-evidence",
   "metadata": {},
   "outputs": [
    {
     "data": {
      "text/plain": [
       "DeviceArray([1, 2, 3], dtype=int32)"
      ]
     },
     "execution_count": 17,
     "metadata": {},
     "output_type": "execute_result"
    }
   ],
   "source": [
    "y"
   ]
  },
  {
   "cell_type": "markdown",
   "id": "encouraging-mixture",
   "metadata": {},
   "source": [
    "无副作用的代码有时候称为纯函数式的，或者直接称为纯函数。\n",
    "\n",
    "纯函数版本的效率不低吗？严格来说，确实会低，我们还创建了一个新数组。但是，正如我们将在下一届中说明的那样，JAX计算通常在使用另一个变换`jax.jit`运行之前进行编译。如果我们在使用`jax.ops.index_update()`对其进行就地修改后不适用旧数组，则编译器可以识别出它实际上可以编译为就地修改，从而最终获得较搞笑的代码。\n",
    "\n",
    "当然，可以混合使用副作用较大的Python代码和纯函数式的JAX代码，我们将在后面详细介绍。随着对JAX的熟悉，您将学习如何以及何时可以使用它。根据经验，任何打算由JAX转换的函数都应该避免副作用，而JAX原语本身将尽力帮助您做到这一点。\n",
    "\n",
    "我们将解释其他与JAX特性相关的地方。甚至有一个部分完全专注于适应处理状态的函数式编程：[第七部分：状态问题]。然而，如果您不太耐烦，那么可以从JAX文档中查看 [JAX锋芒毕露](https://github.com/rasin-tsukuba/JAX_chinese_tutorial/blob/main/official-tutorials/GettingStarted/1.3-JAX%E9%94%8B%E8%8A%92%E6%AF%95%E9%9C%B2.ipynb)。\n",
    "\n",
    "## 您的第一个JAX训练循环\n",
    "\n",
    "虽然关于JAX我们还有很多要学习的知识，但是您已经足够了解如何使用JAX来构建简单的训练循环。\n",
    "\n",
    "为简单起见，我们将从线性回归开始。我们的数据由 $y=w_{true}x + b_{true}+\\epsilon$采样得到："
   ]
  },
  {
   "cell_type": "code",
   "execution_count": 18,
   "id": "explicit-lover",
   "metadata": {},
   "outputs": [
    {
     "data": {
      "text/plain": [
       "<matplotlib.collections.PathCollection at 0x7f454c2edf70>"
      ]
     },
     "execution_count": 18,
     "metadata": {},
     "output_type": "execute_result"
    },
    {
     "data": {
      "image/png": "[encoded data removed]",
      "text/plain": [
       "<Figure size 432x288 with 1 Axes>"
      ]
     },
     "metadata": {
      "needs_background": "light"
     },
     "output_type": "display_data"
    }
   ],
   "source": [
    "import numpy as np\n",
    "import matplotlib.pyplot as plt\n",
    "\n",
    "xs = np.random.normal(size=(100,))\n",
    "noise = np.random.normal(scale=0.1, size=(100,))\n",
    "ys = xs * 3 - 1 + noise\n",
    "\n",
    "plt.scatter(xs, ys)"
   ]
  },
  {
   "cell_type": "markdown",
   "id": "fourth-ribbon",
   "metadata": {},
   "source": [
    "因此，我们的模型为：$\\hat{y}(x;\\theta) = wx +b$。\n",
    "\n",
    "我们将会用到单个数组，`theta=[w, b]`来装填两个参数："
   ]
  },
  {
   "cell_type": "code",
   "execution_count": 19,
   "id": "literary-latest",
   "metadata": {},
   "outputs": [],
   "source": [
    "def model(theta, x):\n",
    "    \"\"\"\n",
    "    Computes wx + b on a batch of input x.\n",
    "    根据批量输入x来计算 wx+b\n",
    "    \"\"\"\n",
    "    \n",
    "    w, b = theta\n",
    "    return w * x + b\n",
    "    "
   ]
  },
  {
   "cell_type": "markdown",
   "id": "composed-sailing",
   "metadata": {},
   "source": [
    "那么损失函数为 $J(x, y; \\theta) = (\\hat{y} - y)^2$。"
   ]
  },
  {
   "cell_type": "code",
   "execution_count": 20,
   "id": "brief-minneapolis",
   "metadata": {},
   "outputs": [],
   "source": [
    "def loss_fn(theta, x, y):\n",
    "    prediction = model(theta, x)\n",
    "    return jnp.mean((prediction - y) ** 2)"
   ]
  },
  {
   "cell_type": "markdown",
   "id": "preceding-protocol",
   "metadata": {},
   "source": [
    "我们将如何优化损失函数呢？使用梯度下降。在每个更新步骤中，我们将找到相对于参数的损失梯度，并且在最陡的下降方向上走上一小步$\\theta_{new} = \\theta-0.1(\\triangledown_{\\theta} J)(x, y; \\theta)$："
   ]
  },
  {
   "cell_type": "code",
   "execution_count": 21,
   "id": "amateur-albany",
   "metadata": {},
   "outputs": [],
   "source": [
    "def update(theta, x, y, lr=0.1):\n",
    "    return theta - lr * jax.grad(loss_fn)(theta, x, y)"
   ]
  },
  {
   "cell_type": "markdown",
   "id": "interested-passing",
   "metadata": {},
   "source": [
    "在JAX中，通常会定义一个`update()`函数，该函数将在每个步骤中调用，将当前参数作为输入并返回新参数。这是JAX函数式的自然结果，在[状态的问题]一节中将会有更详细的解释。\n",
    "\n",
    "之后，我们可以对该函数进行整体的JIT编译，以实现最高效率。下一节将会更加确切地解释`jax.jit`的工作原理，但如果您愿意，您可以尝试在`update()`定义之前添加 `@jax.jit`，并查看下面的训练循环如何更快地运行："
   ]
  },
  {
   "cell_type": "code",
   "execution_count": 22,
   "id": "opened-grocery",
   "metadata": {},
   "outputs": [
    {
     "name": "stdout",
     "output_type": "stream",
     "text": [
      "w: 2.98, b: -1.00\n"
     ]
    },
    {
     "data": {
      "image/png": "[encoded data removed]",
      "text/plain": [
       "<Figure size 432x288 with 1 Axes>"
      ]
     },
     "metadata": {
      "needs_background": "light"
     },
     "output_type": "display_data"
    }
   ],
   "source": [
    "theta = jnp.array([1., 1.])\n",
    "\n",
    "for _ in range(1000):\n",
    "    theta = update(theta, xs, ys)\n",
    "    \n",
    "plt.scatter(xs, ys)\n",
    "plt.plot(xs, model(theta, xs))\n",
    "\n",
    "w, b = theta\n",
    "print(f\"w: {w:<.2f}, b: {b:<.2f}\")"
   ]
  },
  {
   "cell_type": "markdown",
   "id": "covered-average",
   "metadata": {},
   "source": [
    "正如您阅读时看到这样，这份代码基本就是将在JAX中实现所有训练循环的一个基础。该示例与实际训练循环之间的主要区别在于我们的模型较为简单：这里我们只用单个数组来容纳所有参数。我们将在后面的 `pytree`指南中"
   ]
  }
 ],
 "metadata": {
  "kernelspec": {
   "display_name": "Python 3",
   "language": "python",
   "name": "python3"
  },
  "language_info": {
   "codemirror_mode": {
    "name": "ipython",
    "version": 3
   },
   "file_extension": ".py",
   "mimetype": "text/x-python",
   "name": "python",
   "nbconvert_exporter": "python",
   "pygments_lexer": "ipython3",
   "version": "3.9.2"
  }
 },
 "nbformat": 4,
 "nbformat_minor": 5
}
