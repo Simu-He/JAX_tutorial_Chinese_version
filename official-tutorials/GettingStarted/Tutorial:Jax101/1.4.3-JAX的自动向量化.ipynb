{
 "cells": [
  {
   "cell_type": "markdown",
   "id": "looking-pharmaceutical",
   "metadata": {},
   "source": [
    "# JAX的自动向量化\n",
    "\n",
    "> 作者：Matteo Hessel\n",
    "\n",
    "在上一节我们讨论通过 `jax.jit`函数进行的JIT编译。本届讨论了JAX中的另一种转换，即通过`jax.vmap`进行矢量化。\n",
    "\n",
    "## 手动向量化\n",
    "\n",
    "让我们来看下面的简单代码，该代码计算两个一维向量的卷积："
   ]
  },
  {
   "cell_type": "code",
   "execution_count": 1,
   "id": "embedded-dubai",
   "metadata": {},
   "outputs": [
    {
     "data": {
      "text/plain": [
       "DeviceArray([11., 20., 29.], dtype=float32)"
      ]
     },
     "execution_count": 1,
     "metadata": {},
     "output_type": "execute_result"
    }
   ],
   "source": [
    "import jax\n",
    "import jax.numpy as jnp\n",
    "\n",
    "x = jnp.arange(5)\n",
    "w = jnp.array([2., 3., 4.])\n",
    "\n",
    "def convolve(x, w):\n",
    "    output = []\n",
    "    for i in range(1, len(x)-1):\n",
    "        output.append(jnp.dot(x[i-1:i+2], w))\n",
    "    return jnp.array(output)\n",
    "\n",
    "convolve(x, w)"
   ]
  },
  {
   "cell_type": "markdown",
   "id": "vietnamese-racing",
   "metadata": {},
   "source": [
    "假设我们想要将此函数应用于一批权重`w`和一批向量`x`上："
   ]
  },
  {
   "cell_type": "code",
   "execution_count": 2,
   "id": "capital-cooling",
   "metadata": {},
   "outputs": [],
   "source": [
    "xs = jnp.stack([x, x])\n",
    "ws = jnp.stack([w, w])"
   ]
  },
  {
   "cell_type": "markdown",
   "id": "senior-franklin",
   "metadata": {},
   "source": [
    "最简单的想法就是在Python中循环遍历该批处理："
   ]
  },
  {
   "cell_type": "code",
   "execution_count": 3,
   "id": "overall-deadline",
   "metadata": {},
   "outputs": [
    {
     "data": {
      "text/plain": [
       "DeviceArray([[11., 20., 29.],\n",
       "             [11., 20., 29.]], dtype=float32)"
      ]
     },
     "execution_count": 3,
     "metadata": {},
     "output_type": "execute_result"
    }
   ],
   "source": [
    "def manually_batched_convolve(xs, ws):\n",
    "    output = []\n",
    "    for i in range(xs.shape[0]):\n",
    "        output.append(convolve(xs[i], ws[i]))\n",
    "    return jnp.stack(output)\n",
    "\n",
    "manually_batched_convolve(xs, ws)"
   ]
  },
  {
   "cell_type": "markdown",
   "id": "solar-ideal",
   "metadata": {},
   "source": [
    "这虽然会产生正确的结果，但是效率不高。\n",
    "\n",
    "为了有效地批处理计算，通常必须手动重写函数以确保它以向量的形式完成。这并不是特别难实现，但确实设计更改函数如何处理索引，维度和输入的其他部分。\n",
    "\n",
    "例如，我们可以手动重写`convolve()`来支持跨批处理维度的向量化计算，如下所示："
   ]
  },
  {
   "cell_type": "code",
   "execution_count": 4,
   "id": "greatest-chess",
   "metadata": {},
   "outputs": [
    {
     "data": {
      "text/plain": [
       "DeviceArray([[11., 20., 29.],\n",
       "             [11., 20., 29.]], dtype=float32)"
      ]
     },
     "execution_count": 4,
     "metadata": {},
     "output_type": "execute_result"
    }
   ],
   "source": [
    "def manually_vectorized_convolve(xs, ws):\n",
    "    output = []\n",
    "    for i in range(1, xs.shape[-1]-1):\n",
    "        output.append(jnp.sum(xs[:, i-1:i+2] * ws, axis=1))\n",
    "    return jnp.stack(output, axis=1)\n",
    "\n",
    "manually_vectorized_convolve(xs, ws)"
   ]
  },
  {
   "cell_type": "markdown",
   "id": "progressive-noise",
   "metadata": {},
   "source": [
    "这种重新实现是混乱且容易出错的。 幸运的是，JAX提供了另一种方法。\n",
    "\n",
    "## 自动向量化\n",
    "\n",
    "在JAX中，`jax.vmap`转换旨在自动生成函数的向量化实现："
   ]
  },
  {
   "cell_type": "code",
   "execution_count": 5,
   "id": "lightweight-document",
   "metadata": {},
   "outputs": [
    {
     "data": {
      "text/plain": [
       "DeviceArray([[11., 20., 29.],\n",
       "             [11., 20., 29.]], dtype=float32)"
      ]
     },
     "execution_count": 5,
     "metadata": {},
     "output_type": "execute_result"
    }
   ],
   "source": [
    "auto_batch_convolve = jax.vmap(convolve)\n",
    "auto_batch_convolve(xs, ws)"
   ]
  },
  {
   "cell_type": "markdown",
   "id": "blank-convertible",
   "metadata": {},
   "source": [
    "它通过类似于`jax.jit`的函数追踪功能，并在每个输入的开头自动添加批处理来实现此目的。\n",
    "\n",
    "如果批次维度不是第一个，则可以使用`in_axes`和`out_axes`参数指定批次维度在输入和输出中的位置。如果批处理轴对于所有输入和输出（或列表）相同，则这些值可以是整数。"
   ]
  },
  {
   "cell_type": "code",
   "execution_count": 6,
   "id": "disturbed-somalia",
   "metadata": {},
   "outputs": [
    {
     "data": {
      "text/plain": [
       "DeviceArray([[11., 11.],\n",
       "             [20., 20.],\n",
       "             [29., 29.]], dtype=float32)"
      ]
     },
     "execution_count": 6,
     "metadata": {},
     "output_type": "execute_result"
    }
   ],
   "source": [
    "auto_batch_convolve_v2 = jax.vmap(convolve, in_axes=1, out_axes=1)\n",
    "\n",
    "xst = jnp.transpose(xs)\n",
    "wst = jnp.transpose(ws)\n",
    "\n",
    "auto_batch_convolve_v2(xst, wst)"
   ]
  },
  {
   "cell_type": "markdown",
   "id": "intensive-florence",
   "metadata": {},
   "source": [
    "`jax.vmap`还支持仅对其中一个参数进行批处理的情况：例如，如果您想将一组权重`w`与一组向量`x`进行卷积，则在这种情况下，可以将`in_axes`参数设置为`None`："
   ]
  },
  {
   "cell_type": "code",
   "execution_count": null,
   "id": "valued-guide",
   "metadata": {},
   "outputs": [],
   "source": [
    "batch_convolve_v3 = jax.vmap(convolve, in_axes=[0, None])\n",
    "\n",
    "batch_convolve_v3"
   ]
  }
 ],
 "metadata": {
  "kernelspec": {
   "display_name": "Python 3",
   "language": "python",
   "name": "python3"
  },
  "language_info": {
   "codemirror_mode": {
    "name": "ipython",
    "version": 3
   },
   "file_extension": ".py",
   "mimetype": "text/x-python",
   "name": "python",
   "nbconvert_exporter": "python",
   "pygments_lexer": "ipython3",
   "version": "3.9.2"
  }
 },
 "nbformat": 4,
 "nbformat_minor": 5
}
