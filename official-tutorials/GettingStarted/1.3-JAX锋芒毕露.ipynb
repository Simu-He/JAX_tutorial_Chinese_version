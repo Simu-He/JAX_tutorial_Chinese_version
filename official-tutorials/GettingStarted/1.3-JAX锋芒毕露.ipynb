{
 "cells": [
  {
   "cell_type": "markdown",
   "id": "iraqi-rough",
   "metadata": {},
   "source": [
    "# 🔪JAX锋芒毕露🔪\n",
    "\n",
    "> 作者：levskaya@ mattjj@\n",
    "> \n",
    "> 在意大利的乡间漫步时，人们会毫不犹豫地告诉您JAX具有：“una anima di pura programmazione funzionale（纯函数式编程的灵魂）”\n",
    "\n",
    "JAX是一种用于表达和转换组合的数值程序。JAX还能够便于用于CPU或加速器（GPU或TPU）。JAX对于许多数值和科学编程都非常有用，但前提是它们是在一下描述的某些约束条件下编写而成的。\n",
    "\n"
   ]
  },
  {
   "cell_type": "code",
   "execution_count": 1,
   "id": "brief-ensemble",
   "metadata": {},
   "outputs": [],
   "source": [
    "import numpy as np\n",
    "from jax import grad, jit\n",
    "from jax import lax\n",
    "from jax import random\n",
    "import jax \n",
    "import jax.numpy as jnp\n",
    "import matplotlib as mpl\n",
    "from matplotlib import pyplot as plt\n",
    "from matplotlib import rcParams\n",
    "\n",
    "rcParams['image.interpolation'] = 'nearest'\n",
    "rcParams['image.cmap'] = 'viridis'\n",
    "rcParams['axes.grid'] = False"
   ]
  },
  {
   "cell_type": "markdown",
   "id": "intended-commander",
   "metadata": {},
   "source": [
    "# 🔪纯函数\n",
    "\n",
    "JAX变换和编译仅适用于功能纯净的Python函数：所有输入数据均通过函数参数传递，所有结果均通过函数结果输出。如果使用相同的输入调用纯函数，则总会返回相同的结果。\n",
    "\n",
    "这是一些功能上并非纯函数的示例，对于这些函数，JAX的行为不同于Python解释器。注意，JAX系统不能保证这些行为。使用JAX的正确方法是使用功能纯粹的纯Python函数。"
   ]
  },
  {
   "cell_type": "code",
   "execution_count": 2,
   "id": "collective-cabin",
   "metadata": {},
   "outputs": [
    {
     "name": "stdout",
     "output_type": "stream",
     "text": [
      "Executing function\n",
      "First call:  4.0\n",
      "Second call:  5.0\n",
      "Executing function\n",
      "Third call, different type:  [5.]\n"
     ]
    }
   ],
   "source": [
    "def impure_print_side_effect(x):\n",
    "    print(\"Executing function\") # 这就是一种副作用\n",
    "    return x\n",
    "\n",
    "# The side-effects appear during the first run  \n",
    "# 在第一次执行时就出现副作用\n",
    "print(\"First call: \", jit(impure_print_side_effect)(4.))\n",
    "\n",
    "# Subsequent runs with parameters of same type and shape may not show the side-effect\n",
    "# This is because JAX now invokes a cached compilation of the function\n",
    "# 使用相同类型和形状的参数进行的后续运行可能不会显示副作用\n",
    "# 这是因为JAX现在调用了该函数的缓存编译\n",
    "print(\"Second call: \", jit(impure_print_side_effect)(5.))\n",
    "\n",
    "# JAX re-runs the Python function when the type or shape of the argument changes\n",
    "# 当参数的类型或者形状更改时，JAX重新运行Python函数\n",
    "print(\"Third call, different type: \", jit(impure_print_side_effect)(jnp.array([5.])))\n"
   ]
  },
  {
   "cell_type": "code",
   "execution_count": 3,
   "id": "funky-tennis",
   "metadata": {},
   "outputs": [
    {
     "name": "stdout",
     "output_type": "stream",
     "text": [
      "First call:  4.0\n",
      "Second call:  5.0\n",
      "Third call, different type:  [14.]\n"
     ]
    }
   ],
   "source": [
    "g = 0.\n",
    "def impure_uses_globals(x):\n",
    "  return x + g\n",
    "\n",
    "# JAX captures the value of the global during the first run\n",
    "# JAX在第一次执行时捕捉到全局变量\n",
    "print (\"First call: \", jit(impure_uses_globals)(4.))\n",
    "\n",
    "g = 10.  # 更新全局变量\n",
    "\n",
    "# Subsequent runs may silently use the cached value of the globals\n",
    "# 以下的结果将会默认使用缓存的全局变量\n",
    "print (\"Second call: \", jit(impure_uses_globals)(5.))\n",
    "\n",
    "# JAX re-runs the Python function when the type or shape of the argument changes\n",
    "# This will end up reading the latest value of the global\n",
    "# 参数的类型或者形状更改时，JAX重新运行Python函数\n",
    "# 这样将会重新读取最新的全局变量值\n",
    "print (\"Third call, different type: \", jit(impure_uses_globals)(jnp.array([4.])))"
   ]
  },
  {
   "cell_type": "code",
   "execution_count": 4,
   "id": "pleasant-athletics",
   "metadata": {},
   "outputs": [
    {
     "name": "stdout",
     "output_type": "stream",
     "text": [
      "First call:  4.0\n",
      "Saved global:  Traced<ShapedArray(float64[], weak_type=True)>with<DynamicJaxprTrace(level=0/1)>\n"
     ]
    }
   ],
   "source": [
    "g = 0.\n",
    "def impure_saves_global(x):\n",
    "  global g\n",
    "  g = x\n",
    "  return x\n",
    "\n",
    "# JAX runs once the transformed function with special Traced values for arguments\n",
    "# JAX运行带有参数的特殊跟踪值转换后的函数\n",
    "print (\"First call: \", jit(impure_saves_global)(4.))\n",
    "print (\"Saved global: \", g)  # 保存的全局变量带有内部的JAX值"
   ]
  },
  {
   "cell_type": "markdown",
   "id": "engaging-eating",
   "metadata": {},
   "source": [
    "即时Python函数实际上在内部使用有状态的对象，只要它不读取或写入外部状态，它在功能上也可以是纯函数："
   ]
  },
  {
   "cell_type": "code",
   "execution_count": 5,
   "id": "stopped-album",
   "metadata": {},
   "outputs": [
    {
     "name": "stdout",
     "output_type": "stream",
     "text": [
      "50.0\n"
     ]
    }
   ],
   "source": [
    "def pure_uses_internal_state(x):\n",
    "    state = dict(even=0, odd=0)\n",
    "    for i in range(10):\n",
    "        state['even' if i % 2 == 0 else 'odd'] += x\n",
    "    return state['even'] + state['odd']\n",
    "\n",
    "print(jit(pure_uses_internal_state)(5.))"
   ]
  },
  {
   "cell_type": "markdown",
   "id": "placed-holiday",
   "metadata": {},
   "source": [
    "不建议在需要 `jit` 的任何JAX函数或任何控制流原语中使用迭代器。因为迭代器是一个Python对象，它引入状态以检测下一个元素。因此，它与JAX功能编程模型不兼容。下面的代码中有一些将迭代器与JAX一起使用的错误示例。它们中的大多数返回错误，但有些会产生令人意外的结果："
   ]
  },
  {
   "cell_type": "code",
   "execution_count": 6,
   "id": "attempted-complexity",
   "metadata": {},
   "outputs": [
    {
     "name": "stdout",
     "output_type": "stream",
     "text": [
      "45\n",
      "0\n"
     ]
    },
    {
     "ename": "TypeError",
     "evalue": "Value <range_iterator object at 0x7fc0143885d0> with type <class 'range_iterator'> is not a valid JAX type",
     "output_type": "error",
     "traceback": [
      "\u001b[0;31m---------------------------------------------------------------------------\u001b[0m",
      "\u001b[0;31mFilteredStackTrace\u001b[0m                        Traceback (most recent call last)",
      "\u001b[0;32m<ipython-input-6-1f907b27643e>\u001b[0m in \u001b[0;36m<module>\u001b[0;34m\u001b[0m\n\u001b[1;32m     24\u001b[0m \u001b[0;31m# 报错\u001b[0m\u001b[0;34m\u001b[0m\u001b[0;34m\u001b[0m\u001b[0;34m\u001b[0m\u001b[0m\n\u001b[0;32m---> 25\u001b[0;31m \u001b[0mlax\u001b[0m\u001b[0;34m.\u001b[0m\u001b[0mcond\u001b[0m\u001b[0;34m(\u001b[0m\u001b[0;32mTrue\u001b[0m\u001b[0;34m,\u001b[0m \u001b[0;32mlambda\u001b[0m \u001b[0mx\u001b[0m\u001b[0;34m:\u001b[0m \u001b[0mnext\u001b[0m\u001b[0;34m(\u001b[0m\u001b[0mx\u001b[0m\u001b[0;34m)\u001b[0m\u001b[0;34m+\u001b[0m\u001b[0;36m1\u001b[0m\u001b[0;34m,\u001b[0m \u001b[0;32mlambda\u001b[0m \u001b[0mx\u001b[0m\u001b[0;34m:\u001b[0m\u001b[0mnext\u001b[0m\u001b[0;34m(\u001b[0m\u001b[0mx\u001b[0m\u001b[0;34m)\u001b[0m\u001b[0;34m-\u001b[0m\u001b[0;36m1\u001b[0m\u001b[0;34m,\u001b[0m \u001b[0miter_operand\u001b[0m\u001b[0;34m)\u001b[0m\u001b[0;34m\u001b[0m\u001b[0;34m\u001b[0m\u001b[0m\n\u001b[0m",
      "\u001b[0;31mFilteredStackTrace\u001b[0m: TypeError: Value <range_iterator object at 0x7fc0143885d0> with type <class 'range_iterator'> is not a valid JAX type\n\nThe stack trace above excludes JAX-internal frames.\nThe following is the original exception that occurred, unmodified.\n\n--------------------",
      "\nThe above exception was the direct cause of the following exception:\n",
      "\u001b[0;31mTypeError\u001b[0m                                 Traceback (most recent call last)",
      "\u001b[0;32m<ipython-input-6-1f907b27643e>\u001b[0m in \u001b[0;36m<module>\u001b[0;34m\u001b[0m\n\u001b[1;32m     23\u001b[0m \u001b[0miter_operand\u001b[0m \u001b[0;34m=\u001b[0m \u001b[0miter\u001b[0m\u001b[0;34m(\u001b[0m\u001b[0mrange\u001b[0m\u001b[0;34m(\u001b[0m\u001b[0;36m10\u001b[0m\u001b[0;34m)\u001b[0m\u001b[0;34m)\u001b[0m\u001b[0;34m\u001b[0m\u001b[0;34m\u001b[0m\u001b[0m\n\u001b[1;32m     24\u001b[0m \u001b[0;31m# 报错\u001b[0m\u001b[0;34m\u001b[0m\u001b[0;34m\u001b[0m\u001b[0;34m\u001b[0m\u001b[0m\n\u001b[0;32m---> 25\u001b[0;31m \u001b[0mlax\u001b[0m\u001b[0;34m.\u001b[0m\u001b[0mcond\u001b[0m\u001b[0;34m(\u001b[0m\u001b[0;32mTrue\u001b[0m\u001b[0;34m,\u001b[0m \u001b[0;32mlambda\u001b[0m \u001b[0mx\u001b[0m\u001b[0;34m:\u001b[0m \u001b[0mnext\u001b[0m\u001b[0;34m(\u001b[0m\u001b[0mx\u001b[0m\u001b[0;34m)\u001b[0m\u001b[0;34m+\u001b[0m\u001b[0;36m1\u001b[0m\u001b[0;34m,\u001b[0m \u001b[0;32mlambda\u001b[0m \u001b[0mx\u001b[0m\u001b[0;34m:\u001b[0m\u001b[0mnext\u001b[0m\u001b[0;34m(\u001b[0m\u001b[0mx\u001b[0m\u001b[0;34m)\u001b[0m\u001b[0;34m-\u001b[0m\u001b[0;36m1\u001b[0m\u001b[0;34m,\u001b[0m \u001b[0miter_operand\u001b[0m\u001b[0;34m)\u001b[0m\u001b[0;34m\u001b[0m\u001b[0;34m\u001b[0m\u001b[0m\n\u001b[0m",
      "\u001b[0;32m~/miniconda3/envs/jax/lib/python3.9/site-packages/jax/_src/traceback_util.py\u001b[0m in \u001b[0;36mreraise_with_filtered_traceback\u001b[0;34m(*args, **kwargs)\u001b[0m\n\u001b[1;32m    137\u001b[0m   \u001b[0;32mdef\u001b[0m \u001b[0mreraise_with_filtered_traceback\u001b[0m\u001b[0;34m(\u001b[0m\u001b[0;34m*\u001b[0m\u001b[0margs\u001b[0m\u001b[0;34m,\u001b[0m \u001b[0;34m**\u001b[0m\u001b[0mkwargs\u001b[0m\u001b[0;34m)\u001b[0m\u001b[0;34m:\u001b[0m\u001b[0;34m\u001b[0m\u001b[0;34m\u001b[0m\u001b[0m\n\u001b[1;32m    138\u001b[0m     \u001b[0;32mtry\u001b[0m\u001b[0;34m:\u001b[0m\u001b[0;34m\u001b[0m\u001b[0;34m\u001b[0m\u001b[0m\n\u001b[0;32m--> 139\u001b[0;31m       \u001b[0;32mreturn\u001b[0m \u001b[0mfun\u001b[0m\u001b[0;34m(\u001b[0m\u001b[0;34m*\u001b[0m\u001b[0margs\u001b[0m\u001b[0;34m,\u001b[0m \u001b[0;34m**\u001b[0m\u001b[0mkwargs\u001b[0m\u001b[0;34m)\u001b[0m\u001b[0;34m\u001b[0m\u001b[0;34m\u001b[0m\u001b[0m\n\u001b[0m\u001b[1;32m    140\u001b[0m     \u001b[0;32mexcept\u001b[0m \u001b[0mException\u001b[0m \u001b[0;32mas\u001b[0m \u001b[0me\u001b[0m\u001b[0;34m:\u001b[0m\u001b[0;34m\u001b[0m\u001b[0;34m\u001b[0m\u001b[0m\n\u001b[1;32m    141\u001b[0m       \u001b[0;32mif\u001b[0m \u001b[0;32mnot\u001b[0m \u001b[0mis_under_reraiser\u001b[0m\u001b[0;34m(\u001b[0m\u001b[0me\u001b[0m\u001b[0;34m)\u001b[0m\u001b[0;34m:\u001b[0m\u001b[0;34m\u001b[0m\u001b[0;34m\u001b[0m\u001b[0m\n",
      "\u001b[0;32m~/miniconda3/envs/jax/lib/python3.9/site-packages/jax/_src/lax/control_flow.py\u001b[0m in \u001b[0;36mcond\u001b[0;34m(*args, **kwargs)\u001b[0m\n\u001b[1;32m    712\u001b[0m     \u001b[0;32mreturn\u001b[0m \u001b[0m_cond_with_per_branch_args\u001b[0m\u001b[0;34m(\u001b[0m\u001b[0;34m*\u001b[0m\u001b[0mba\u001b[0m\u001b[0;34m.\u001b[0m\u001b[0margs\u001b[0m\u001b[0;34m)\u001b[0m\u001b[0;34m\u001b[0m\u001b[0;34m\u001b[0m\u001b[0m\n\u001b[1;32m    713\u001b[0m \u001b[0;34m\u001b[0m\u001b[0m\n\u001b[0;32m--> 714\u001b[0;31m   \u001b[0;32mreturn\u001b[0m \u001b[0m_cond\u001b[0m\u001b[0;34m(\u001b[0m\u001b[0;34m*\u001b[0m\u001b[0margs\u001b[0m\u001b[0;34m,\u001b[0m \u001b[0;34m**\u001b[0m\u001b[0mkwargs\u001b[0m\u001b[0;34m)\u001b[0m\u001b[0;34m\u001b[0m\u001b[0;34m\u001b[0m\u001b[0m\n\u001b[0m\u001b[1;32m    715\u001b[0m \u001b[0;34m\u001b[0m\u001b[0m\n\u001b[1;32m    716\u001b[0m def _cond_with_per_branch_args(pred,\n",
      "\u001b[0;32m~/miniconda3/envs/jax/lib/python3.9/site-packages/jax/_src/lax/control_flow.py\u001b[0m in \u001b[0;36m_cond\u001b[0;34m(pred, true_fun, false_fun, operand)\u001b[0m\n\u001b[1;32m    682\u001b[0m \u001b[0;34m\u001b[0m\u001b[0m\n\u001b[1;32m    683\u001b[0m   \u001b[0mops\u001b[0m\u001b[0;34m,\u001b[0m \u001b[0mops_tree\u001b[0m \u001b[0;34m=\u001b[0m \u001b[0mtree_flatten\u001b[0m\u001b[0;34m(\u001b[0m\u001b[0;34m(\u001b[0m\u001b[0moperand\u001b[0m\u001b[0;34m,\u001b[0m\u001b[0;34m)\u001b[0m\u001b[0;34m)\u001b[0m\u001b[0;34m\u001b[0m\u001b[0;34m\u001b[0m\u001b[0m\n\u001b[0;32m--> 684\u001b[0;31m   \u001b[0mops_avals\u001b[0m \u001b[0;34m=\u001b[0m \u001b[0mtuple\u001b[0m\u001b[0;34m(\u001b[0m\u001b[0m_map\u001b[0m\u001b[0;34m(\u001b[0m\u001b[0m_abstractify\u001b[0m\u001b[0;34m,\u001b[0m \u001b[0mops\u001b[0m\u001b[0;34m)\u001b[0m\u001b[0;34m)\u001b[0m\u001b[0;34m\u001b[0m\u001b[0;34m\u001b[0m\u001b[0m\n\u001b[0m\u001b[1;32m    685\u001b[0m \u001b[0;34m\u001b[0m\u001b[0m\n\u001b[1;32m    686\u001b[0m   jaxprs, consts, out_trees = _initial_style_jaxprs_with_common_consts(\n",
      "\u001b[0;32m~/miniconda3/envs/jax/lib/python3.9/site-packages/jax/_src/util.py\u001b[0m in \u001b[0;36msafe_map\u001b[0;34m(f, *args)\u001b[0m\n\u001b[1;32m     39\u001b[0m   \u001b[0;32mfor\u001b[0m \u001b[0marg\u001b[0m \u001b[0;32min\u001b[0m \u001b[0margs\u001b[0m\u001b[0;34m[\u001b[0m\u001b[0;36m1\u001b[0m\u001b[0;34m:\u001b[0m\u001b[0;34m]\u001b[0m\u001b[0;34m:\u001b[0m\u001b[0;34m\u001b[0m\u001b[0;34m\u001b[0m\u001b[0m\n\u001b[1;32m     40\u001b[0m     \u001b[0;32massert\u001b[0m \u001b[0mlen\u001b[0m\u001b[0;34m(\u001b[0m\u001b[0marg\u001b[0m\u001b[0;34m)\u001b[0m \u001b[0;34m==\u001b[0m \u001b[0mn\u001b[0m\u001b[0;34m,\u001b[0m \u001b[0;34m'length mismatch: {}'\u001b[0m\u001b[0;34m.\u001b[0m\u001b[0mformat\u001b[0m\u001b[0;34m(\u001b[0m\u001b[0mlist\u001b[0m\u001b[0;34m(\u001b[0m\u001b[0mmap\u001b[0m\u001b[0;34m(\u001b[0m\u001b[0mlen\u001b[0m\u001b[0;34m,\u001b[0m \u001b[0margs\u001b[0m\u001b[0;34m)\u001b[0m\u001b[0;34m)\u001b[0m\u001b[0;34m)\u001b[0m\u001b[0;34m\u001b[0m\u001b[0;34m\u001b[0m\u001b[0m\n\u001b[0;32m---> 41\u001b[0;31m   \u001b[0;32mreturn\u001b[0m \u001b[0mlist\u001b[0m\u001b[0;34m(\u001b[0m\u001b[0mmap\u001b[0m\u001b[0;34m(\u001b[0m\u001b[0mf\u001b[0m\u001b[0;34m,\u001b[0m \u001b[0;34m*\u001b[0m\u001b[0margs\u001b[0m\u001b[0;34m)\u001b[0m\u001b[0;34m)\u001b[0m\u001b[0;34m\u001b[0m\u001b[0;34m\u001b[0m\u001b[0m\n\u001b[0m\u001b[1;32m     42\u001b[0m \u001b[0;34m\u001b[0m\u001b[0m\n\u001b[1;32m     43\u001b[0m \u001b[0;32mdef\u001b[0m \u001b[0munzip2\u001b[0m\u001b[0;34m(\u001b[0m\u001b[0mxys\u001b[0m\u001b[0;34m)\u001b[0m\u001b[0;34m:\u001b[0m\u001b[0;34m\u001b[0m\u001b[0;34m\u001b[0m\u001b[0m\n",
      "\u001b[0;32m~/miniconda3/envs/jax/lib/python3.9/site-packages/jax/_src/lax/control_flow.py\u001b[0m in \u001b[0;36m_abstractify\u001b[0;34m(x)\u001b[0m\n\u001b[1;32m    108\u001b[0m \u001b[0;34m\u001b[0m\u001b[0m\n\u001b[1;32m    109\u001b[0m \u001b[0;32mdef\u001b[0m \u001b[0m_abstractify\u001b[0m\u001b[0;34m(\u001b[0m\u001b[0mx\u001b[0m\u001b[0;34m)\u001b[0m\u001b[0;34m:\u001b[0m\u001b[0;34m\u001b[0m\u001b[0;34m\u001b[0m\u001b[0m\n\u001b[0;32m--> 110\u001b[0;31m   \u001b[0;32mreturn\u001b[0m \u001b[0mraise_to_shaped\u001b[0m\u001b[0;34m(\u001b[0m\u001b[0mcore\u001b[0m\u001b[0;34m.\u001b[0m\u001b[0mget_aval\u001b[0m\u001b[0;34m(\u001b[0m\u001b[0mx\u001b[0m\u001b[0;34m)\u001b[0m\u001b[0;34m)\u001b[0m\u001b[0;34m\u001b[0m\u001b[0;34m\u001b[0m\u001b[0m\n\u001b[0m\u001b[1;32m    111\u001b[0m \u001b[0;34m\u001b[0m\u001b[0m\n\u001b[1;32m    112\u001b[0m \u001b[0;32mdef\u001b[0m \u001b[0m_typecheck_param\u001b[0m\u001b[0;34m(\u001b[0m\u001b[0mprim\u001b[0m\u001b[0;34m,\u001b[0m \u001b[0mparam\u001b[0m\u001b[0;34m,\u001b[0m \u001b[0mname\u001b[0m\u001b[0;34m,\u001b[0m \u001b[0mmsg_required\u001b[0m\u001b[0;34m,\u001b[0m \u001b[0mpred\u001b[0m\u001b[0;34m)\u001b[0m\u001b[0;34m:\u001b[0m\u001b[0;34m\u001b[0m\u001b[0;34m\u001b[0m\u001b[0m\n",
      "\u001b[0;32m~/miniconda3/envs/jax/lib/python3.9/site-packages/jax/core.py\u001b[0m in \u001b[0;36mget_aval\u001b[0;34m(x)\u001b[0m\n\u001b[1;32m    919\u001b[0m     \u001b[0;32mreturn\u001b[0m \u001b[0mx\u001b[0m\u001b[0;34m.\u001b[0m\u001b[0maval\u001b[0m\u001b[0;34m\u001b[0m\u001b[0;34m\u001b[0m\u001b[0m\n\u001b[1;32m    920\u001b[0m   \u001b[0;32melse\u001b[0m\u001b[0;34m:\u001b[0m\u001b[0;34m\u001b[0m\u001b[0;34m\u001b[0m\u001b[0m\n\u001b[0;32m--> 921\u001b[0;31m     \u001b[0;32mreturn\u001b[0m \u001b[0mconcrete_aval\u001b[0m\u001b[0;34m(\u001b[0m\u001b[0mx\u001b[0m\u001b[0;34m)\u001b[0m\u001b[0;34m\u001b[0m\u001b[0;34m\u001b[0m\u001b[0m\n\u001b[0m\u001b[1;32m    922\u001b[0m \u001b[0;34m\u001b[0m\u001b[0m\n\u001b[1;32m    923\u001b[0m \u001b[0;34m\u001b[0m\u001b[0m\n",
      "\u001b[0;32m~/miniconda3/envs/jax/lib/python3.9/site-packages/jax/core.py\u001b[0m in \u001b[0;36mconcrete_aval\u001b[0;34m(x)\u001b[0m\n\u001b[1;32m    911\u001b[0m   \u001b[0;32mif\u001b[0m \u001b[0mhasattr\u001b[0m\u001b[0;34m(\u001b[0m\u001b[0mx\u001b[0m\u001b[0;34m,\u001b[0m \u001b[0;34m'__jax_array__'\u001b[0m\u001b[0;34m)\u001b[0m\u001b[0;34m:\u001b[0m\u001b[0;34m\u001b[0m\u001b[0;34m\u001b[0m\u001b[0m\n\u001b[1;32m    912\u001b[0m     \u001b[0;32mreturn\u001b[0m \u001b[0mconcrete_aval\u001b[0m\u001b[0;34m(\u001b[0m\u001b[0mx\u001b[0m\u001b[0;34m.\u001b[0m\u001b[0m__jax_array__\u001b[0m\u001b[0;34m(\u001b[0m\u001b[0;34m)\u001b[0m\u001b[0;34m)\u001b[0m\u001b[0;34m\u001b[0m\u001b[0;34m\u001b[0m\u001b[0m\n\u001b[0;32m--> 913\u001b[0;31m   raise TypeError(f\"Value {repr(x)} with type {type(x)} is not a valid JAX \"\n\u001b[0m\u001b[1;32m    914\u001b[0m                    \"type\")\n\u001b[1;32m    915\u001b[0m \u001b[0;34m\u001b[0m\u001b[0m\n",
      "\u001b[0;31mTypeError\u001b[0m: Value <range_iterator object at 0x7fc0143885d0> with type <class 'range_iterator'> is not a valid JAX type"
     ]
    }
   ],
   "source": [
    "import jax.numpy as jnp\n",
    "import jax.lax as lax\n",
    "from jax import make_jaxpr\n",
    "\n",
    "# lax.fori_loop\n",
    "array = jnp.arange(10)\n",
    "print(lax.fori_loop(0, 10, lambda i, x: x+array[i], 0)) # 预期结果是45\n",
    "iterator = iter(range(10))\n",
    "print(lax.fori_loop(0, 10, lambda i, x:x+next(iterator), 0)) #意外结果是0\n",
    "\n",
    "#lax.scan\n",
    "def func11(arr, extra):\n",
    "    ones = jnp.ones(arr.shape)\n",
    "    def body(carry, aelems):\n",
    "        ae1, ae2 = aelems\n",
    "        return (carry + ae1 * ae2 + extra, carry)\n",
    "    return lax.scan(body, 0., (arr, ones))\n",
    "make_jaxpr(func11)(jnp.arange(16), 5.)\n",
    "\n",
    "#lax.cond\n",
    "array_operand = jnp.array([0.])\n",
    "lax.cond(True, lambda x: x+1, lambda x:x-1, array_operand)\n",
    "iter_operand = iter(range(10))\n",
    "# 报错\n",
    "lax.cond(True, lambda x: next(x)+1, lambda x:next(x)-1, iter_operand)"
   ]
  },
  {
   "cell_type": "markdown",
   "id": "moving-brisbane",
   "metadata": {},
   "source": [
    "## 🔪 就地更新\n",
    "\n",
    "在Numpy中我们习惯这么做："
   ]
  },
  {
   "cell_type": "code",
   "execution_count": 7,
   "id": "unavailable-country",
   "metadata": {},
   "outputs": [
    {
     "name": "stdout",
     "output_type": "stream",
     "text": [
      "original array:\n",
      "[[0. 0. 0.]\n",
      " [0. 0. 0.]\n",
      " [0. 0. 0.]]\n",
      "updated array:\n",
      "[[0. 0. 0.]\n",
      " [1. 1. 1.]\n",
      " [0. 0. 0.]]\n"
     ]
    }
   ],
   "source": [
    "numpy_array = np.zeros((3, 3), dtype=np.float32)\n",
    "print(\"original array:\")\n",
    "print(numpy_array)\n",
    "\n",
    "# In place, mutating update\n",
    "# 直接可变更新\n",
    "numpy_array[1, :] = 1.0\n",
    "print(\"updated array:\")\n",
    "print(numpy_array)"
   ]
  },
  {
   "cell_type": "markdown",
   "id": "weird-comfort",
   "metadata": {},
   "source": [
    "但是，如果尝试就地更新JAX数组，则会收到错误消息！ （☉_☉）"
   ]
  },
  {
   "cell_type": "code",
   "execution_count": 8,
   "id": "suited-trainer",
   "metadata": {},
   "outputs": [
    {
     "name": "stdout",
     "output_type": "stream",
     "text": [
      "Exception '<class 'jax.interpreters.xla._DeviceArray'>' object does not support item assignment. JAX arrays are immutable; perhaps you want jax.ops.index_update or jax.ops.index_add instead?\n"
     ]
    }
   ],
   "source": [
    "jax_array = jnp.zeros((3,3), dtype=jnp.float32)\n",
    "\n",
    "# In place update of JAX's array will yield an error!\n",
    "# 就地更新JAX数组则会导致错误\n",
    "try:\n",
    "  jax_array[1, :] = 1.0\n",
    "except Exception as e:\n",
    "  print(\"Exception {}\".format(e))"
   ]
  },
  {
   "cell_type": "markdown",
   "id": "nutritional-testing",
   "metadata": {},
   "source": [
    "### 原因是啥？！\n",
    "\n",
    "允许就地改变变量使得程序分析和转换非常困难。JAX需要数值程序的纯函数表达式。\n",
    "\n",
    "JAX提供了几个函数式的更新函数：[index_update](https://jax.readthedocs.io/en/latest/_autosummary/jax.ops.index_update.html#jax.ops.index_update), [index_add](https://jax.readthedocs.io/en/latest/_autosummary/jax.ops.index_add.html#jax.ops.index_add), [index_min](https://jax.readthedocs.io/en/latest/_autosummary/jax.ops.index_max.html#jax.ops.index_min), [index_max](https://jax.readthedocs.io/en/latest/_autosummary/jax.ops.index_max.html#jax.ops.index_max), 以及 [index](https://jax.readthedocs.io/en/latest/_autosummary/jax.ops.index.html#jax.ops.index)辅助函数。\n",
    "\n",
    "️⚠️ 在`jit`代码的 `lax.while_loop`或 `lax.fori_loop`中，切片的大小不能做为参数值的函数，而只能是参数形状的函数——切片开始索引没有这种限制。有关此限制的更多信息，请参见下面的控制流部分。"
   ]
  },
  {
   "cell_type": "code",
   "execution_count": 9,
   "id": "matched-morrison",
   "metadata": {},
   "outputs": [],
   "source": [
    "from jax.ops import index, index_add, index_update"
   ]
  },
  {
   "cell_type": "markdown",
   "id": "growing-closure",
   "metadata": {},
   "source": [
    "### index_update\n",
    "\n",
    "如果 **index_update**的**input values** 没有被重用，`jit`编译的代码将会就地执行这些操作："
   ]
  },
  {
   "cell_type": "code",
   "execution_count": 10,
   "id": "selective-brake",
   "metadata": {},
   "outputs": [
    {
     "name": "stdout",
     "output_type": "stream",
     "text": [
      "original array:\n",
      "[[0. 0. 0.]\n",
      " [0. 0. 0.]\n",
      " [0. 0. 0.]]\n",
      "old array unchanged:\n",
      "[[0. 0. 0.]\n",
      " [0. 0. 0.]\n",
      " [0. 0. 0.]]\n",
      "new array:\n",
      "[[0. 0. 0.]\n",
      " [1. 1. 1.]\n",
      " [0. 0. 0.]]\n"
     ]
    }
   ],
   "source": [
    "jax_array = jnp.zeros((3, 3))\n",
    "print(\"original array:\")\n",
    "print(jax_array)\n",
    "\n",
    "new_jax_array = index_update(jax_array, index[1, :], 1.)\n",
    "\n",
    "print(\"old array unchanged:\")\n",
    "print(jax_array)\n",
    "\n",
    "print(\"new array:\")\n",
    "print(new_jax_array)"
   ]
  },
  {
   "cell_type": "markdown",
   "id": "electoral-myanmar",
   "metadata": {},
   "source": [
    "### index_add\n",
    "\n",
    "如果 **index_add**的**input values** 没有被重用，`jit`编译的代码将会就地执行这些操作：\n"
   ]
  },
  {
   "cell_type": "code",
   "execution_count": 11,
   "id": "moving-institute",
   "metadata": {},
   "outputs": [
    {
     "name": "stdout",
     "output_type": "stream",
     "text": [
      "original array:\n",
      "[[1. 1. 1. 1. 1. 1.]\n",
      " [1. 1. 1. 1. 1. 1.]\n",
      " [1. 1. 1. 1. 1. 1.]\n",
      " [1. 1. 1. 1. 1. 1.]\n",
      " [1. 1. 1. 1. 1. 1.]]\n",
      "new array post-addition:\n",
      "[[1. 1. 1. 8. 8. 8.]\n",
      " [1. 1. 1. 1. 1. 1.]\n",
      " [1. 1. 1. 8. 8. 8.]\n",
      " [1. 1. 1. 1. 1. 1.]\n",
      " [1. 1. 1. 8. 8. 8.]]\n"
     ]
    }
   ],
   "source": [
    "print(\"original array:\")\n",
    "jax_array = jnp.ones((5, 6))\n",
    "print(jax_array)\n",
    "\n",
    "new_jax_array = index_add(jax_array, index[::2, 3:], 7)\n",
    "print(\"new array post-addition:\")\n",
    "print(new_jax_array)"
   ]
  },
  {
   "cell_type": "markdown",
   "id": "desirable-motivation",
   "metadata": {},
   "source": [
    "## 🔪 越界索引\n",
    "\n",
    "在Numpy中，当您在数组的边界之外索引时往往会报错，如下所示：\n"
   ]
  },
  {
   "cell_type": "code",
   "execution_count": 12,
   "id": "fiscal-grant",
   "metadata": {},
   "outputs": [
    {
     "name": "stdout",
     "output_type": "stream",
     "text": [
      "Exception index 11 is out of bounds for axis 0 with size 10\n"
     ]
    }
   ],
   "source": [
    "try:\n",
    "  np.arange(10)[11]\n",
    "except Exception as e:\n",
    "  print(\"Exception {}\".format(e))\n"
   ]
  },
  {
   "cell_type": "markdown",
   "id": "identical-central",
   "metadata": {},
   "source": [
    "然而，在加速设备上引发错误更加困难。因此，JAX不会报错，而是将索引限制在数组的边界上，也就是返回数组的最后一个值："
   ]
  },
  {
   "cell_type": "code",
   "execution_count": 13,
   "id": "periodic-catalog",
   "metadata": {},
   "outputs": [
    {
     "data": {
      "text/plain": [
       "DeviceArray(9, dtype=int64)"
      ]
     },
     "execution_count": 13,
     "metadata": {},
     "output_type": "execute_result"
    }
   ],
   "source": [
    "jnp.arange(10)[11]\n"
   ]
  },
  {
   "cell_type": "markdown",
   "id": "initial-auditor",
   "metadata": {},
   "source": [
    "注意，由于这种行为，`jnp.nanargmin` 和 `jnp.nanargmax` 对于由NaN组成的切片返回-1，Numpy则会报错。\n",
    "\n",
    "## 🔪 随机数\n",
    "\n",
    "> 如果所有由于 `rand()` 不好而导致结果令人怀疑的科学论文都从图书馆的书架上消失了，那么每个书架上的空隙会有拳头那么大。\n",
    ">\n",
    ">  —— 数字食谱\n",
    "\n",
    "### RNGs（随机数生成器）和状态\n",
    "\n",
    "你已经习惯了使用Numpy或其他库中具有状态的为随机数生成器(PRNGs)，这些函数有助于隐藏很多细节，给您直接准备好伪随机源：\n",
    "\n"
   ]
  },
  {
   "cell_type": "code",
   "execution_count": 14,
   "id": "hourly-fighter",
   "metadata": {},
   "outputs": [
    {
     "name": "stdout",
     "output_type": "stream",
     "text": [
      "0.24890881647150354\n",
      "0.5079150611740478\n",
      "0.013760204455776082\n"
     ]
    }
   ],
   "source": [
    "print(np.random.random())\n",
    "print(np.random.random())\n",
    "print(np.random.random())"
   ]
  },
  {
   "cell_type": "markdown",
   "id": "antique-platinum",
   "metadata": {},
   "source": [
    "在后端，Numpy使用`Mersenne Twister PRNG`作为其伪随机函数的发动机。PRNG的周期为$2^{19937} - 1$，并且在任何时候都可以用624个32位无符号整数和一个指示该“熵”已用完多少的位置来描述。"
   ]
  },
  {
   "cell_type": "code",
   "execution_count": 15,
   "id": "electronic-sullivan",
   "metadata": {},
   "outputs": [
    {
     "name": "stdout",
     "output_type": "stream",
     "text": [
      "('MT19937', array([         0,          1, 1812433255, 1900727105, 1208447044,\n",
      "       2481403966, 4042607538,  337614300, 3232553940, 1018809052,\n",
      "       3202401494, 1775180719, 3192392114,  594215549,  184016991,\n",
      "        829906058,  610491522, 3879932251, 3139825610,  297902587,\n",
      "       4075895579, 2943625357, 3530655617, 1423771745, 2135928312,\n",
      "       2891506774, 1066338622,  135451537,  933040465, 2759011858,\n",
      "       2273819758, 3545703099, 2516396728, 1272276355, 3172048492,\n",
      "       3267256201, 2332199830, 1975469449,  392443598, 1132453229,\n",
      "       2900699076, 1998300999, 3847713992,  512669506, 1227792182,\n",
      "       1629110240,  112303347, 2142631694, 3647635483, 1715036585,\n",
      "       2508091258, 1355887243, 1884998310, 3906360088,  952450269,\n",
      "       3647883368, 3962623343, 3077504981, 2023096077, 3791588343,\n",
      "       3937487744, 3455116780, 1218485897, 1374508007, 2815569918,\n",
      "       1367263917,  472908318, 2263147545, 1461547499, 4126813079,\n",
      "       2383504810,   64750479, 2963140275, 1709368606, 4143643781,\n",
      "        835933993, 1881494649,  674663333, 2076403047,  858036109,\n",
      "       1667579889, 1706666497,  607785554, 1995775149, 1941986352,\n",
      "       3448871082, 2109910019, 1474883361, 1623095288, 1831376534,\n",
      "       2612738285,   81681830, 2204289242, 1365038485,  251164610,\n",
      "       4268495337, 1805601714, 1262528768, 1442526919, 1675006593,\n",
      "        965627108,  646339161,  499795587,  840887574,  380522518,\n",
      "       3023789847, 1457635507, 1947093157, 2600365344, 2729853143,\n",
      "       1550618999, 1390905853, 3021294812,  882647559,  838872117,\n",
      "       1663880796, 4222103589, 2754172275, 3844026123, 3199260319,\n",
      "       4176064873, 3591027019, 2690294242, 2978135515, 3172796441,\n",
      "       3263669796, 1451257057, 1427035359, 4174826006, 2171992010,\n",
      "       1537002090, 3122405306, 4162452508, 3271954368, 3794310005,\n",
      "       3240514581, 1270412086, 3030475836, 2281945856, 2644171349,\n",
      "       3109139423, 4253563838, 1289926431, 1396919653,  733220100,\n",
      "       2753316645, 1196225013, 3699575255, 3569440056, 2675979228,\n",
      "       2624079148, 3463113149,  863430286,  623703199, 2113837653,\n",
      "       2656425919,  175981357, 4271478366, 4238022735, 1665483419,\n",
      "         86880610, 2963435083, 1830392943,  847801865, 3237296945,\n",
      "        332143967, 3973606945, 2671879697, 2236330279, 2360127810,\n",
      "       3283955434,  203240344, 4048139172,   13189264, 2263058814,\n",
      "        247241371, 1566765783, 3084408095, 3719371299, 1958375251,\n",
      "       1985924622, 1712739232, 1861691451, 2644502937, 2337807839,\n",
      "        784993770, 2962208780, 2190810177, 1523122731,  714888527,\n",
      "        578678761, 3698481324, 1801168075,  534650483, 3390213921,\n",
      "       3923356461, 3586009066, 2059432114,   52511333, 1969897376,\n",
      "       3630122061,  524661135, 3513619765,  563070233,  501359785,\n",
      "        477489274,  658768624,  938973567, 1548584683, 1345287459,\n",
      "       2488691004, 3441144905, 3849305094, 2430000078,  855172178,\n",
      "        614463281, 2092744749,  176381493, 1655802051, 2273888101,\n",
      "       2474494847, 3471978030, 2138918303,  575352373, 1658230985,\n",
      "       1675972553, 2946663114,  915579339,  284981499,   53939948,\n",
      "       3022598146, 1861218535, 3403620774, 4203516930, 2360471119,\n",
      "       3134536268, 1383448498, 1307602316, 3847663247, 3027225131,\n",
      "       3597251613, 3186237127,  725127595, 1928526954, 1843386923,\n",
      "       3560410503,   54688266, 1791983849, 2519860352, 4256389699,\n",
      "       2328812602,  486464275, 3578698363,  301279829, 1303654791,\n",
      "       4181868765,  971794070, 1933885487, 3996807464, 2144053754,\n",
      "       4079903755, 3775774765, 3481760044, 1212862354, 1067356423,\n",
      "       3764189132, 1609862325, 2209601551, 2565747501,  161962392,\n",
      "       4045451782, 2605574664, 2520953090, 3490240017, 1082791980,\n",
      "         44474324,  101811128, 4268650669, 4171338684,  772375154,\n",
      "       3920460306, 2319139534,  599033750, 2950874441, 3373922995,\n",
      "       1496848525, 4095253594, 1271943484, 1498723121, 3097453329,\n",
      "       3698082465,  281869581, 3148270661, 3591477288,  747441437,\n",
      "       2809508504, 3896107498,  303747862, 2368081624, 1844217645,\n",
      "        886825352,  287949781, 1444561207, 2512101757, 2062331723,\n",
      "        741720931, 1383797313, 3876746355, 2041045348, 2627599118,\n",
      "       1124169970,  200524822, 3484820454,   55883666, 1135054804,\n",
      "        669498692, 2677215504, 3097911127, 1509628615,  617580381,\n",
      "       2229022193,   85601568, 3243896546, 3715672328,  912168347,\n",
      "       2359163500, 1180347564, 4243175048, 2092067103,  880183327,\n",
      "       4000664709, 2045044777, 3500474644, 1515175520, 1862207123,\n",
      "        186628841, 3337252925,  708933575, 4015964629, 3136815297,\n",
      "       3314919747, 2891909013, 3316567785, 3944275369, 3608506218,\n",
      "       2884839110, 3054055598, 2707439927, 1381111877, 3275487281,\n",
      "       4292456216, 2639563270, 3327301876, 3576924628,  721056309,\n",
      "       2002808140,  748967365,   52380958, 2200261692,  763456477,\n",
      "       1708381337, 2038446433, 2682979402, 1526413779, 2211263302,\n",
      "       3879771969,   75966584, 3645059271, 2985763524, 4085690255,\n",
      "         82390958, 1883631385, 1647521260, 1598026998, 3038041577,\n",
      "       2501913134, 3279302868, 1738888524,  805035483,  756399074,\n",
      "       3863810982, 1097797270, 1505792529,  898904527,  583561003,\n",
      "        717152376, 3333867738, 1099456544, 1663473545, 1242141229,\n",
      "       3828627682, 1966201676, 1713552361, 3852160017, 1584965284,\n",
      "         21695908, 1013262144,  145341901, 3995441263, 3462066219,\n",
      "       2239637848, 1214086163, 2428868268, 1650037305, 1545513388,\n",
      "       1621198806, 4232947817, 1823092073,  256414624, 1745018809,\n",
      "       1357102386, 2055139770, 3280958307, 2482431613, 1664870585,\n",
      "        859130423, 4097751123, 3079768369, 2470211009, 2984880786,\n",
      "       2808568948, 2877071923, 1984903163,  302768457, 1866396789,\n",
      "        869566317, 3746415787, 4169433075, 3025005404, 3980733379,\n",
      "       3539207278, 3953071536,  876960847, 2548872156,  800507464,\n",
      "       1865466907, 1273317878, 3754712872, 1757188269, 3229950355,\n",
      "       3731640200, 2283390608, 2204990292,  411873449,  447423849,\n",
      "       1852437802,  472825525, 3044219944, 2913114194, 1859709265,\n",
      "       4053786194,  574820536, 2104496732,  865469814, 2438352724,\n",
      "       4208743605, 4215067542, 1364015250, 4139974345, 3838747005,\n",
      "       1818502786, 2914274940, 1402365828, 1751123528, 2302578077,\n",
      "       2463168652, 1968705496, 1730700144, 3023943273, 1139096844,\n",
      "       2658667767, 2063547264,  705791165, 1444775274, 2415454225,\n",
      "       1575664730,  921044163,  648101324, 1212387162, 4191962054,\n",
      "       1787702169, 1888718041, 1518218010, 3398792842, 4079359729,\n",
      "        149721439,  750400353, 2661036076, 3802767886,  520152586,\n",
      "        951852508, 2939585975, 1375969109,  385733137, 3523607459,\n",
      "       1902438415, 4250996086, 2712727066,  484493674, 3932107461,\n",
      "       1428488210, 1764242548, 3424801055, 4004904451, 2226862072,\n",
      "       2393366939, 3609584727, 3614444319,  317349896, 3826527525,\n",
      "        204023804,  981902443, 3356042039, 3051207045, 1869902661,\n",
      "        561831895, 3706675415, 1527687593, 1227610446, 2596341042,\n",
      "       3191717368, 3269246891,  557877074, 4062070629, 3052520266,\n",
      "       3772487029,  400039836, 3195205275, 4085394797, 1655557239,\n",
      "       1345770144, 2864727192,  449281238,   73189507,  528365765,\n",
      "       2727400656,  247880434, 2408277395,  777039183, 2210179398,\n",
      "       1088433648, 2124356402, 1555630141,  604790219,  195012151,\n",
      "       3312518356,  923728373, 3999251660, 3313059535, 3478133921,\n",
      "       3395026960,  383464614, 3425869222, 2446885186, 4032184426,\n",
      "        157195416, 3158909476, 1663750443, 2046427584, 1658453076,\n",
      "       1784483001, 3146546889, 1238739785, 2297306523, 3472330897,\n",
      "       2953326031, 2421672215, 1221694592, 1588568605, 2546987845,\n",
      "       3375168573, 2137961649, 3056565164,  330165219,  235900365,\n",
      "       1000384800, 2697255904,  579122283, 3050664825,   73426122,\n",
      "       1232986102, 2940571064, 3076486824, 1708182873, 2796363264,\n",
      "        292154131, 4280019913, 1102652157, 1185393592, 1494991690,\n",
      "       4270076389, 2384840717,  425785147, 2385321880,  317514772,\n",
      "       3926962743,  392176856, 3465421709, 1878853468,  122662664,\n",
      "       2958252160, 1858961315, 2244939588, 2361884409, 2860936803,\n",
      "        683833250, 3291277128, 1686857206, 1112632275, 1200680507,\n",
      "       3342928196, 2677058150,  939442136, 3407104669, 2906783932,\n",
      "       3668048733, 2030009470, 1910839172, 1234925283, 3575831445,\n",
      "        123595418, 2362440495, 3048484911, 1796872496], dtype=uint32), 624, 0, 0.0)\n"
     ]
    }
   ],
   "source": [
    "np.random.seed(0)\n",
    "rng_state = np.random.get_state()\n",
    "print(rng_state)"
   ]
  },
  {
   "cell_type": "markdown",
   "id": "unauthorized-clinic",
   "metadata": {},
   "source": [
    "每当需要一个随机数时，伪随机状态向量都会在后台自动更新，从而“消耗”了 `Mersenne Twister`中的2个无符号32位整数。"
   ]
  },
  {
   "cell_type": "code",
   "execution_count": 16,
   "id": "medieval-plain",
   "metadata": {},
   "outputs": [
    {
     "name": "stdout",
     "output_type": "stream",
     "text": [
      "('MT19937', array([2443250962, 1093594115, 1878467924, 2709361018, 1101979660,\n",
      "       3904844661,  676747479, 2085143622, 1056793272, 3812477442,\n",
      "       2168787041,  275552121, 2696932952, 3432054210, 1657102335,\n",
      "       3518946594,  962584079, 1051271004, 3806145045, 1414436097,\n",
      "       2032348584, 1661738718, 1116708477, 2562755208, 3176189976,\n",
      "        696824676, 2399811678, 3992505346,  569184356, 2626558620,\n",
      "        136797809, 4273176064,  296167901, 3430730584,  331909803,\n",
      "       1908676996, 1950065095,  604298543, 3615988338, 1570232852,\n",
      "       1028209748, 1511467721, 2411887154, 4210753555, 3096762720,\n",
      "        423429618,  659966766, 2937509307, 2222847265,  378636552,\n",
      "       1142109618, 2509241601, 1521729757,  888533219,  250885260,\n",
      "       2455816244, 4046047811, 1947467789, 1395351953, 2388948566,\n",
      "        934627940,  194642258, 1429256273, 2139959677, 1543740405,\n",
      "       1569613451, 4061840539, 2075690423,  824532376,  844152077,\n",
      "       3218002536,  897315311,  823414659, 1007534698, 3139313867,\n",
      "       2332794462, 3675156583,  722594429, 3715123011, 2656840676,\n",
      "       2373277715, 1516144243, 1538161999, 1399719297, 1448820876,\n",
      "       3180842436, 2020192709, 3279498509, 1048107540, 3094290376,\n",
      "       3706920703, 3810051683, 4003871775, 1069557309,  151535004,\n",
      "        667695756,  861767313, 1643171871, 3649507728, 3785763588,\n",
      "        737899497, 2332908276, 4082123854, 1584539673, 3929877280,\n",
      "       1046086041, 1304062606, 2311324008, 1190424879,  538647603,\n",
      "       1728806718,  148948582,  659721465, 2351006009,  185647941,\n",
      "       1825934330, 2126619619, 2230539295, 3878421575,  965937340,\n",
      "       2835563987,  419858879, 1527311104, 2042333483, 2745134265,\n",
      "       3540517373, 1100062165, 2308613697, 2690739856, 2048293545,\n",
      "       2742876486, 2408502115,   53398423, 3089771461, 1398529613,\n",
      "       2132477261,  504134301, 1535108421, 1968507173, 3412472770,\n",
      "       4048517196, 3509143071,  857063211, 1429875570, 4120479871,\n",
      "       2786574360, 2470799871, 1644104875, 2326863162, 2033900387,\n",
      "        274888909, 2629973384, 1154405937, 1839988197, 2163830694,\n",
      "        268733679, 2928953965,  387153042, 3790900490, 3202349717,\n",
      "       3799209681, 2524871464, 3801447311, 3543081470, 1801633977,\n",
      "       3870370950, 1581678156,  358283485, 4133385582, 4052311650,\n",
      "        249498956, 1712028623, 3618329357, 3395106946, 2704820515,\n",
      "         26653208, 2437509555, 4192186371, 3639946838, 2615917799,\n",
      "        294624699,  463886267, 2477203673, 2514051526, 4162882381,\n",
      "       2937629358, 3180524454, 1388392394, 2637132139, 1999482082,\n",
      "       1870663339, 2852309250, 3489430700, 1116063402, 1673637188,\n",
      "       1941955790, 4081919937, 2322920953, 3500518887, 2722575905,\n",
      "        405031829, 3728964889, 3464559963,  665516555, 1626835870,\n",
      "       2523729468,  238289561,  497556937, 2581429740, 3456619478,\n",
      "       2601389837,  820426192,  268141532, 2654829421,  349692193,\n",
      "       2426957585, 1465734488,   85095426, 1080895536, 2823366942,\n",
      "        379322515, 2938986739, 1561328720, 2940081697,  607513620,\n",
      "       2724557130, 2841377034,   14123440, 1085631349, 1977859413,\n",
      "       1325586902, 1690398943, 2516154740, 4144373551,  555899232,\n",
      "       1472707937, 3318086852,  719779833, 3545481907, 1384350857,\n",
      "        191709822, 2924586997, 3905397527, 2528674757, 2377804096,\n",
      "       2742818576, 4162971050, 1916415976, 2229076768,  132706400,\n",
      "       1337415646,  251604474, 4168783505,  819499074, 1213291699,\n",
      "       2098930479, 1009044052, 1060792037, 2169940733, 2973281031,\n",
      "        636656529, 1946890813,  367099469, 4076624283,  338339529,\n",
      "        561343735, 3309733580, 3895891229,  516195845, 3075613489,\n",
      "       3076388119, 4088758753, 3895582245, 1192445752, 2923797073,\n",
      "       2272605437, 2964193665,  943979628, 3263904824, 1852145108,\n",
      "       1911050628, 1596880711,  479795791,  212699077, 2172697748,\n",
      "       1764175804, 3951845064, 2182587171, 2396848133, 2718837214,\n",
      "       2934177572, 3638054152,  914795167, 1028977354, 1744985339,\n",
      "       1161407853, 2069746822, 3109934340, 3666150054,  729399111,\n",
      "       2911998815,  152809615,  417267263, 1064343325, 2751707923,\n",
      "       1833270972,  886939906, 4054231201, 1410366452,  976142646,\n",
      "       1452795786, 1904234879, 4231894541, 1505392175, 3498767279,\n",
      "        833704604, 2100592828,  688268099, 1752675602, 1975556664,\n",
      "       2102210733,  698665709, 1232104968, 4051336323, 1740516649,\n",
      "       3131721670, 3755143232, 3433756601,  138325540, 1566724819,\n",
      "       3146312914, 3262098346, 1400757929, 3821885720,  356740291,\n",
      "       4236900846, 3962771215, 3383537419, 3432281817, 3700484231,\n",
      "       1124512300, 4040103150, 2152814065,  357241942, 3507144572,\n",
      "       3156778000, 4029389048, 1495464238, 2710816120,  618937484,\n",
      "        923913256, 3233161411, 3113338135, 2380534800, 2989134055,\n",
      "        792458413, 2073679910, 2733527896, 1078384210, 2832175364,\n",
      "        501385130, 1554930792, 2339252603,  535487294, 2983664186,\n",
      "        924228889, 2127502206, 2847205678,  836935943, 1902192892,\n",
      "       4094716961, 3296730761, 2307406435,  281523156,  728701372,\n",
      "       3943302480,  183005637, 2660706047, 2320033913, 2011717602,\n",
      "        219970222,  890345073, 2479236311,  653839655,   38538414,\n",
      "       3266308455, 3726363269, 1256762826,  712114913, 3499059198,\n",
      "       2847394904, 3246075282, 1299462737,  830090526,  369065487,\n",
      "       3899451086, 1825910875, 2697294244, 2553197317, 2501134241,\n",
      "        930821716, 2841281141, 3920808923, 3209045349, 3381621736,\n",
      "       2145077949, 1958091404,  371971179, 3064957112, 3151429184,\n",
      "       2833651995, 1089438243, 2146134351, 1426568997, 3528669710,\n",
      "       1043897757, 3052263589, 3205925012, 4076215371, 2622476950,\n",
      "       2385717100, 2179892838, 3820135605, 1574628644,  177604240,\n",
      "       1712062317, 1192081671, 1107476027,  837376039, 2818244460,\n",
      "       1382379731, 2749207910, 2644203474, 1508860349, 3006844699,\n",
      "       3157252375, 3789683778, 1985542020, 2309789126, 1624089624,\n",
      "       3660683301, 1432444043, 1172735898, 3271587635,  841387671,\n",
      "       3614623669, 3002115850, 1078807738, 1095345284, 1707086713,\n",
      "       4263485053,  445506874, 3148772337, 2716917408, 3836812085,\n",
      "       1026228926,  491069724, 3983218285, 2410582206, 3821759029,\n",
      "       3789305873, 1223256738, 1677180485, 1481771733, 1670286271,\n",
      "       2852111711, 1628943665, 2289772949, 3483580787, 2129860019,\n",
      "       3955695109,   28974017, 2289227173, 1725243773,  483357125,\n",
      "        111587742,  347631238, 1805029491,  839978009,  339030914,\n",
      "       2442782449, 1701726526, 1481742442, 3703534067, 3796147861,\n",
      "        235078546, 3195450129, 1420184214,  998981944,  163541155,\n",
      "       2087693215, 3827554748, 3003331872, 1967967170,  160190917,\n",
      "        544473278, 3884602428, 4180513186, 1603446876, 2191744556,\n",
      "       1938251010,  291242497, 1764195107, 4076051069, 3860380798,\n",
      "        806452940, 2631256196,  949838208, 4096577802, 1519225265,\n",
      "       2296800559, 1015848400, 2864792481,   88004533,  195132439,\n",
      "        966918321, 1451347413, 2322994051, 3585658769, 1771598947,\n",
      "       3308395968,  950148946, 3846061568,  564475171, 1345892193,\n",
      "       2439581032, 2907206869, 1297626422, 3779454571,  818255727,\n",
      "        705738065, 3915384184, 4133726754, 2724859327, 3773743817,\n",
      "        326325901, 2766390048, 2562130418, 1885210076, 2622324981,\n",
      "       1727396790, 1742653294, 3133131942, 3790857080,  197042473,\n",
      "       2868410679, 1122976862, 2264474389, 3607393378,  744386048,\n",
      "       3122128592, 1101489146, 4064675687, 2818166901, 2282076661,\n",
      "        370818870, 3053423257, 2272652338, 4077081984, 4284213290,\n",
      "       1728304803, 3902867896, 1643530236,  306212760,  144705843,\n",
      "        498541197, 3103269575, 4116304893, 1646288275, 2110757680,\n",
      "       4092919505, 3390929578, 1828116798, 1847914177, 1156754878,\n",
      "       2985404552, 3970881126, 3035874635, 2189824678, 2637114092,\n",
      "       2588332748, 3917818803, 3302695646, 1758418726, 1934759438,\n",
      "       3871576937, 1360769189, 1051808374, 1881390541,  757367126,\n",
      "       3253778407, 1685049720,  805311189,  934898036,   95682794,\n",
      "       2052240235, 3475933669, 2213474191, 3341273357, 2443286051,\n",
      "       4272536794,  696819230,  878775027, 3332634155, 3405126958,\n",
      "       2824772573,   95284505, 3040640920, 2412859827, 2959515765,\n",
      "       1764792340, 1504924482, 2116910326, 2293943003, 3199262907,\n",
      "       1443740894, 3900566588,  343066614, 1927475335,  249220892,\n",
      "       2920636502, 3593328327, 2648828502, 1678096082], dtype=uint32), 2, 0, 0.0)\n"
     ]
    }
   ],
   "source": [
    "_ = np.random.uniform()\n",
    "rng_state = np.random.get_state()\n",
    "print(rng_state)"
   ]
  },
  {
   "cell_type": "code",
   "execution_count": 17,
   "id": "imported-supervisor",
   "metadata": {},
   "outputs": [
    {
     "name": "stdout",
     "output_type": "stream",
     "text": [
      "('MT19937', array([2443250962, 1093594115, 1878467924, 2709361018, 1101979660,\n",
      "       3904844661,  676747479, 2085143622, 1056793272, 3812477442,\n",
      "       2168787041,  275552121, 2696932952, 3432054210, 1657102335,\n",
      "       3518946594,  962584079, 1051271004, 3806145045, 1414436097,\n",
      "       2032348584, 1661738718, 1116708477, 2562755208, 3176189976,\n",
      "        696824676, 2399811678, 3992505346,  569184356, 2626558620,\n",
      "        136797809, 4273176064,  296167901, 3430730584,  331909803,\n",
      "       1908676996, 1950065095,  604298543, 3615988338, 1570232852,\n",
      "       1028209748, 1511467721, 2411887154, 4210753555, 3096762720,\n",
      "        423429618,  659966766, 2937509307, 2222847265,  378636552,\n",
      "       1142109618, 2509241601, 1521729757,  888533219,  250885260,\n",
      "       2455816244, 4046047811, 1947467789, 1395351953, 2388948566,\n",
      "        934627940,  194642258, 1429256273, 2139959677, 1543740405,\n",
      "       1569613451, 4061840539, 2075690423,  824532376,  844152077,\n",
      "       3218002536,  897315311,  823414659, 1007534698, 3139313867,\n",
      "       2332794462, 3675156583,  722594429, 3715123011, 2656840676,\n",
      "       2373277715, 1516144243, 1538161999, 1399719297, 1448820876,\n",
      "       3180842436, 2020192709, 3279498509, 1048107540, 3094290376,\n",
      "       3706920703, 3810051683, 4003871775, 1069557309,  151535004,\n",
      "        667695756,  861767313, 1643171871, 3649507728, 3785763588,\n",
      "        737899497, 2332908276, 4082123854, 1584539673, 3929877280,\n",
      "       1046086041, 1304062606, 2311324008, 1190424879,  538647603,\n",
      "       1728806718,  148948582,  659721465, 2351006009,  185647941,\n",
      "       1825934330, 2126619619, 2230539295, 3878421575,  965937340,\n",
      "       2835563987,  419858879, 1527311104, 2042333483, 2745134265,\n",
      "       3540517373, 1100062165, 2308613697, 2690739856, 2048293545,\n",
      "       2742876486, 2408502115,   53398423, 3089771461, 1398529613,\n",
      "       2132477261,  504134301, 1535108421, 1968507173, 3412472770,\n",
      "       4048517196, 3509143071,  857063211, 1429875570, 4120479871,\n",
      "       2786574360, 2470799871, 1644104875, 2326863162, 2033900387,\n",
      "        274888909, 2629973384, 1154405937, 1839988197, 2163830694,\n",
      "        268733679, 2928953965,  387153042, 3790900490, 3202349717,\n",
      "       3799209681, 2524871464, 3801447311, 3543081470, 1801633977,\n",
      "       3870370950, 1581678156,  358283485, 4133385582, 4052311650,\n",
      "        249498956, 1712028623, 3618329357, 3395106946, 2704820515,\n",
      "         26653208, 2437509555, 4192186371, 3639946838, 2615917799,\n",
      "        294624699,  463886267, 2477203673, 2514051526, 4162882381,\n",
      "       2937629358, 3180524454, 1388392394, 2637132139, 1999482082,\n",
      "       1870663339, 2852309250, 3489430700, 1116063402, 1673637188,\n",
      "       1941955790, 4081919937, 2322920953, 3500518887, 2722575905,\n",
      "        405031829, 3728964889, 3464559963,  665516555, 1626835870,\n",
      "       2523729468,  238289561,  497556937, 2581429740, 3456619478,\n",
      "       2601389837,  820426192,  268141532, 2654829421,  349692193,\n",
      "       2426957585, 1465734488,   85095426, 1080895536, 2823366942,\n",
      "        379322515, 2938986739, 1561328720, 2940081697,  607513620,\n",
      "       2724557130, 2841377034,   14123440, 1085631349, 1977859413,\n",
      "       1325586902, 1690398943, 2516154740, 4144373551,  555899232,\n",
      "       1472707937, 3318086852,  719779833, 3545481907, 1384350857,\n",
      "        191709822, 2924586997, 3905397527, 2528674757, 2377804096,\n",
      "       2742818576, 4162971050, 1916415976, 2229076768,  132706400,\n",
      "       1337415646,  251604474, 4168783505,  819499074, 1213291699,\n",
      "       2098930479, 1009044052, 1060792037, 2169940733, 2973281031,\n",
      "        636656529, 1946890813,  367099469, 4076624283,  338339529,\n",
      "        561343735, 3309733580, 3895891229,  516195845, 3075613489,\n",
      "       3076388119, 4088758753, 3895582245, 1192445752, 2923797073,\n",
      "       2272605437, 2964193665,  943979628, 3263904824, 1852145108,\n",
      "       1911050628, 1596880711,  479795791,  212699077, 2172697748,\n",
      "       1764175804, 3951845064, 2182587171, 2396848133, 2718837214,\n",
      "       2934177572, 3638054152,  914795167, 1028977354, 1744985339,\n",
      "       1161407853, 2069746822, 3109934340, 3666150054,  729399111,\n",
      "       2911998815,  152809615,  417267263, 1064343325, 2751707923,\n",
      "       1833270972,  886939906, 4054231201, 1410366452,  976142646,\n",
      "       1452795786, 1904234879, 4231894541, 1505392175, 3498767279,\n",
      "        833704604, 2100592828,  688268099, 1752675602, 1975556664,\n",
      "       2102210733,  698665709, 1232104968, 4051336323, 1740516649,\n",
      "       3131721670, 3755143232, 3433756601,  138325540, 1566724819,\n",
      "       3146312914, 3262098346, 1400757929, 3821885720,  356740291,\n",
      "       4236900846, 3962771215, 3383537419, 3432281817, 3700484231,\n",
      "       1124512300, 4040103150, 2152814065,  357241942, 3507144572,\n",
      "       3156778000, 4029389048, 1495464238, 2710816120,  618937484,\n",
      "        923913256, 3233161411, 3113338135, 2380534800, 2989134055,\n",
      "        792458413, 2073679910, 2733527896, 1078384210, 2832175364,\n",
      "        501385130, 1554930792, 2339252603,  535487294, 2983664186,\n",
      "        924228889, 2127502206, 2847205678,  836935943, 1902192892,\n",
      "       4094716961, 3296730761, 2307406435,  281523156,  728701372,\n",
      "       3943302480,  183005637, 2660706047, 2320033913, 2011717602,\n",
      "        219970222,  890345073, 2479236311,  653839655,   38538414,\n",
      "       3266308455, 3726363269, 1256762826,  712114913, 3499059198,\n",
      "       2847394904, 3246075282, 1299462737,  830090526,  369065487,\n",
      "       3899451086, 1825910875, 2697294244, 2553197317, 2501134241,\n",
      "        930821716, 2841281141, 3920808923, 3209045349, 3381621736,\n",
      "       2145077949, 1958091404,  371971179, 3064957112, 3151429184,\n",
      "       2833651995, 1089438243, 2146134351, 1426568997, 3528669710,\n",
      "       1043897757, 3052263589, 3205925012, 4076215371, 2622476950,\n",
      "       2385717100, 2179892838, 3820135605, 1574628644,  177604240,\n",
      "       1712062317, 1192081671, 1107476027,  837376039, 2818244460,\n",
      "       1382379731, 2749207910, 2644203474, 1508860349, 3006844699,\n",
      "       3157252375, 3789683778, 1985542020, 2309789126, 1624089624,\n",
      "       3660683301, 1432444043, 1172735898, 3271587635,  841387671,\n",
      "       3614623669, 3002115850, 1078807738, 1095345284, 1707086713,\n",
      "       4263485053,  445506874, 3148772337, 2716917408, 3836812085,\n",
      "       1026228926,  491069724, 3983218285, 2410582206, 3821759029,\n",
      "       3789305873, 1223256738, 1677180485, 1481771733, 1670286271,\n",
      "       2852111711, 1628943665, 2289772949, 3483580787, 2129860019,\n",
      "       3955695109,   28974017, 2289227173, 1725243773,  483357125,\n",
      "        111587742,  347631238, 1805029491,  839978009,  339030914,\n",
      "       2442782449, 1701726526, 1481742442, 3703534067, 3796147861,\n",
      "        235078546, 3195450129, 1420184214,  998981944,  163541155,\n",
      "       2087693215, 3827554748, 3003331872, 1967967170,  160190917,\n",
      "        544473278, 3884602428, 4180513186, 1603446876, 2191744556,\n",
      "       1938251010,  291242497, 1764195107, 4076051069, 3860380798,\n",
      "        806452940, 2631256196,  949838208, 4096577802, 1519225265,\n",
      "       2296800559, 1015848400, 2864792481,   88004533,  195132439,\n",
      "        966918321, 1451347413, 2322994051, 3585658769, 1771598947,\n",
      "       3308395968,  950148946, 3846061568,  564475171, 1345892193,\n",
      "       2439581032, 2907206869, 1297626422, 3779454571,  818255727,\n",
      "        705738065, 3915384184, 4133726754, 2724859327, 3773743817,\n",
      "        326325901, 2766390048, 2562130418, 1885210076, 2622324981,\n",
      "       1727396790, 1742653294, 3133131942, 3790857080,  197042473,\n",
      "       2868410679, 1122976862, 2264474389, 3607393378,  744386048,\n",
      "       3122128592, 1101489146, 4064675687, 2818166901, 2282076661,\n",
      "        370818870, 3053423257, 2272652338, 4077081984, 4284213290,\n",
      "       1728304803, 3902867896, 1643530236,  306212760,  144705843,\n",
      "        498541197, 3103269575, 4116304893, 1646288275, 2110757680,\n",
      "       4092919505, 3390929578, 1828116798, 1847914177, 1156754878,\n",
      "       2985404552, 3970881126, 3035874635, 2189824678, 2637114092,\n",
      "       2588332748, 3917818803, 3302695646, 1758418726, 1934759438,\n",
      "       3871576937, 1360769189, 1051808374, 1881390541,  757367126,\n",
      "       3253778407, 1685049720,  805311189,  934898036,   95682794,\n",
      "       2052240235, 3475933669, 2213474191, 3341273357, 2443286051,\n",
      "       4272536794,  696819230,  878775027, 3332634155, 3405126958,\n",
      "       2824772573,   95284505, 3040640920, 2412859827, 2959515765,\n",
      "       1764792340, 1504924482, 2116910326, 2293943003, 3199262907,\n",
      "       1443740894, 3900566588,  343066614, 1927475335,  249220892,\n",
      "       2920636502, 3593328327, 2648828502, 1678096082], dtype=uint32), 624, 0, 0.0)\n"
     ]
    }
   ],
   "source": [
    "# Let's exhaust the entropy in this PRNG statevector\n",
    "# 我们用尽PRNG状态向量中的熵\n",
    "for i in range(311):\n",
    "  _ = np.random.uniform()\n",
    "rng_state = np.random.get_state()\n",
    "print(rng_state)"
   ]
  },
  {
   "cell_type": "code",
   "execution_count": 18,
   "id": "international-arnold",
   "metadata": {},
   "outputs": [
    {
     "name": "stdout",
     "output_type": "stream",
     "text": [
      "('MT19937', array([1499117434, 2949980591, 2242547484, 1470907986,   68004624,\n",
      "        613504879, 2170701638, 3606168244, 1313189820, 2904302179,\n",
      "       3340054280, 2800779156, 3718152353, 1082918459, 1748036786,\n",
      "       3125556887, 1246967947, 2050301915, 3440863170, 2306625137,\n",
      "       2391836667, 1253663658, 2419038162, 3499839328, 3576356820,\n",
      "       3828856986,  723946277, 1516277410, 1749873187, 2585175776,\n",
      "       2103116091, 3761404950, 2177145536, 2190050649, 2604636580,\n",
      "       1049507822, 3538272245, 2566586914, 3538170909, 4282737256,\n",
      "       3260797503, 2387454175, 2226689230, 2256270485,  436199026,\n",
      "       1447928333, 1300475185, 3910190296, 2621047601, 2432253395,\n",
      "       3548512997, 3038311477, 3870448599, 4184179771,  331186464,\n",
      "       1513235983, 1123184249, 1412176674,  974731669, 1184859182,\n",
      "       3903198916, 1010728009, 1157972564, 1456817460, 4280740152,\n",
      "       3287444695, 3162962129, 2065442163,  702491398, 2129714181,\n",
      "       1271816637, 1310830189, 1626731654, 1866514111, 1145033966,\n",
      "       2096979273, 2857723036, 2877285051, 1233691756, 3406459472,\n",
      "       2679202709, 2261680737, 2760540573, 3132376759, 2074456028,\n",
      "       3178098775, 1678464938, 3178820511,  305433718, 1225231537,\n",
      "       3156384120, 3587239912, 3478639458, 2028713297, 4156933370,\n",
      "        866469559, 3703313170,  625989901, 1353127228,  729767191,\n",
      "       4239080664,  641370747, 1955789567, 1184483474, 3615076882,\n",
      "       1341804132, 4128348873,  476722230, 3105112074, 2941286171,\n",
      "       1022165683, 2123179945, 3314940402, 1416016978,  182868013,\n",
      "        212411023, 2656030053, 3779055339, 1701545199, 3674791907,\n",
      "       1610475395, 4164729361, 3427598377, 1307908931, 3358502771,\n",
      "        486424629, 3160463068,     530473, 1969914083, 3170240630,\n",
      "       2476207192,  970601343, 3050844754, 3669355176, 1340421889,\n",
      "       1617766323,  383602626, 1129117316,  918572908, 3695476486,\n",
      "       1764430370, 2967235222, 3067123020, 3308359510,  886384482,\n",
      "       1779812486,  134534642,  249966516, 1332585561, 3554068711,\n",
      "       2291677649,  745254821, 2206408749, 3127595267, 2427295058,\n",
      "       2080674446, 3966791228, 3103784816, 3497882275, 1573818670,\n",
      "       3427455398,  457267352, 2529982677, 2344224288, 3690569723,\n",
      "        248871130, 2179310377,  865022852, 1702071740, 4288128097,\n",
      "       1599397573, 3506259146,  417400689,  979397279, 2329289638,\n",
      "       4250587448, 2344846879,  680016533, 1695335972, 1029810276,\n",
      "        539516489,  308097557, 3619920399, 2136876981, 3188293348,\n",
      "       2584894221,   28295363, 3838647908, 2639611160, 4292020015,\n",
      "        732968695,  400393115, 1281778179, 4027605317, 1571824415,\n",
      "       2427335146, 3951797079, 4109264582, 2994313380,  439622896,\n",
      "        902291932,  963577727, 1534876665, 3469900053,  582883584,\n",
      "       3933453152, 1367296016, 3323503576, 3479007798, 3508689472,\n",
      "       3981387120, 2284621917,  644918556, 3126057051, 3371160597,\n",
      "        360961626, 2318659802, 2659611811, 1109993553,  976968874,\n",
      "       2599208784,  476384943, 2152559827, 4228879964, 3340725858,\n",
      "       3377206995,  611218954, 3758666271,  204230618, 2720785399,\n",
      "       4240723682,  250681258, 3323652135, 3522391030, 1679469787,\n",
      "       1822904798, 1634199872, 2008317582, 1454968079, 3626508702,\n",
      "       3467404574, 2237369830, 1746454442,  210635819,  730534995,\n",
      "       2970064151, 4032911749, 2365458027,  156048282, 3086236733,\n",
      "       3622099357, 1881089091, 3160142011, 2517013923, 4259688426,\n",
      "       1985910537,  478356813, 3841516698,  564566346, 1245013975,\n",
      "        562343064,  147297885, 2667097084,   33053774,  289997958,\n",
      "       4031215483,  307664953,  338764258,  216795544, 1176428186,\n",
      "       1722385594, 4109337023,  902037905, 3282686150,  866315897,\n",
      "       1566946094, 3436757989, 4073168121, 3257551583, 3729158933,\n",
      "       1341787975, 2230959320, 3312211250, 1110585395,  549424380,\n",
      "        266278641, 2661082464,  918562329, 1832478886,  309640646,\n",
      "        985228208, 1030556840, 3713537458,  294610547, 3230155546,\n",
      "        342999365, 1650341511,  646766830, 2190852369, 4013264374,\n",
      "       2999309863, 3512212270, 4199392792,  559679946, 3722272229,\n",
      "       1407612141, 1792120543, 4122566255, 2614747898, 2411819608,\n",
      "        461168343, 3702772741, 1220049823, 3578175138, 3852491473,\n",
      "        749653032, 3297521103, 2283357169, 4012942068, 1761213419,\n",
      "       4113654008, 3548247038, 2450573353,  913028441,  941292270,\n",
      "       1062104348, 3559036436, 3098831818, 2441286605, 1767279766,\n",
      "        665722183,  667938201, 2115822312,  632855671,  573491393,\n",
      "       1443199826, 1385074753, 3283060992, 2311971637, 2752946404,\n",
      "       1812020773, 3552985610, 1175234724, 3066736347, 3207299299,\n",
      "        494815379, 3080299380, 1328809279, 2857280599, 3620070973,\n",
      "       4104567805,  233766183, 1510754877, 2088578672, 3466416800,\n",
      "       1218866416, 2910921178, 4088694641,  767425533, 4213797255,\n",
      "       4108502172, 3545928547,  798512684,  238469855, 2177829079,\n",
      "        161989331, 3365800849, 2832396926, 2288844520,  365958019,\n",
      "       1048129741, 3910765196,  578163052,  498293036,  996355356,\n",
      "       2467376228, 1167452999, 1421147442, 1470070868, 2232229242,\n",
      "        971713252,    4601830, 3060810946, 3981863019,   10533660,\n",
      "        645408574,  951764939, 1081827337,  856091495, 3256327929,\n",
      "       3943141609,  608907788,  375942741,  303213809,  129581283,\n",
      "       2316412238, 4025818291, 2320185240,   58709957, 1130142811,\n",
      "       3083180922, 1728575124, 1005679445, 4010033131, 3463261972,\n",
      "       1599589218, 2944201358,  998218261, 1337347381,  448276061,\n",
      "       2250331771,  418675356,  697905216,  679894468,  584704117,\n",
      "        514529685, 2690138981, 3418589197, 1509583568,  192934325,\n",
      "       2967937654, 3043082650, 4265822072, 4005601311, 1591945647,\n",
      "        150467832, 2721968946, 3023830288,  714242249, 2873512783,\n",
      "       3745297318, 1819521769,  529316705, 3521879874,   17301388,\n",
      "       3215821847, 2853052802, 3919146899, 4165616209, 2455818705,\n",
      "       1240188609, 3927742424, 2903203100, 1244137294,  741844902,\n",
      "        458324948, 1511914231, 3125286162, 3079518156,  642386738,\n",
      "       2974377153, 1136715589, 2578741635, 3476966223, 3197973312,\n",
      "         42917716,  227989534, 3138586301, 3860599407,  805061872,\n",
      "       3045580455, 3437871910, 3649496171, 3383237696, 4198706430,\n",
      "       3208275784, 1159529867,  812992888, 1663743968, 3304323191,\n",
      "       3579556116, 3065695838, 1533392246, 1728991672, 2410503844,\n",
      "         51457241,  456639707, 1474621262, 2047196546,  765440796,\n",
      "       3836850492, 3519898591, 3238633263, 4104772312, 2751030611,\n",
      "       2811588637,  543572636, 1010895876, 2500894419,  969395948,\n",
      "        870953104, 1221107222, 2330006170, 2409103364,   67838397,\n",
      "       1059660678,  981997131,  157339796, 4122881705, 1275571984,\n",
      "       1376739609, 2654593847, 4245999311, 3218382298, 2865701791,\n",
      "       3426791069, 2181612501, 1978427330, 1891092703, 1477957498,\n",
      "        477396699, 2899811827, 3561541108,   38071220, 3004798622,\n",
      "       3748740755, 2387018968, 3379410087, 3500770886, 4290845522,\n",
      "       1306421722, 4061617178, 3719031563, 3544895976,  775448154,\n",
      "       1295600548, 2308544365,  460297677,  271736902, 1984777327,\n",
      "        367790966, 2800519412, 2614870765, 2209236836,  621299190,\n",
      "       2309489514, 3281711777, 1666440249, 1268622496, 1002604100,\n",
      "       3869900053, 4177509506, 1549221268,  408669572,   74305461,\n",
      "       2387017947, 4069382846, 2662554313, 2236794110, 2400926529,\n",
      "       1454900388, 2553366914, 4122621433,  153680433, 4089017425,\n",
      "        309618270,  720140943, 1580185479, 1482824076, 2492840294,\n",
      "        300423339, 1389751103, 1596279966, 3486917639, 1417455769,\n",
      "        213467785, 1202911685, 2216271923, 3978399634, 3875432211,\n",
      "       3552842638, 3377523836, 3009711916, 2514548139, 1473040763,\n",
      "       3692679012,  347386951, 3051729582, 1132030033,  388965211,\n",
      "       2444692342, 2901459919, 1019332451, 2485660381, 1507720730,\n",
      "       3694695280, 3832666300, 1442556581, 3318272968, 2523446528,\n",
      "       2080451171,   13087074,  310081129, 3393457124,  217258772,\n",
      "        921897669, 3442463899, 3303171220,  952234306, 1562562305,\n",
      "       1232541219, 3092977850,  692610990,  552527312, 2576547843,\n",
      "       2353120775, 2677220022, 3876270818, 3246249731, 3269986504,\n",
      "       3247423946, 1068893543, 3140350604, 4276750153,  729661030,\n",
      "        121118073, 2284780802, 1266571381,  589714818,   23256702,\n",
      "       3758946125, 1229567432, 4162027047, 3277342478], dtype=uint32), 2, 0, 0.0)\n"
     ]
    }
   ],
   "source": [
    "# Next call iterates the RNG state for a new batch of fake \"entropy\".\n",
    "# 下一步调用为新一批伪造的“熵”迭代RNG状态.\n",
    "_ = np.random.uniform()\n",
    "rng_state = np.random.get_state()\n",
    "print(rng_state)"
   ]
  },
  {
   "cell_type": "markdown",
   "id": "useful-collect",
   "metadata": {},
   "source": [
    "神奇的PRNG状态的问题在于，很难推断出如何在不同的线程、进程和设备上使用和更新它，并且当最终用户隐藏了熵产生和消耗的详细信息时就很容易搞砸。众所周知，`Mersenne Twister PRNG`存在许多问题，它的状态有2.5kb之大，这会导致有问题的初始化。而且它难以通过现代的BigCrush测试，速度很慢。\n",
    "\n",
    "### JAX PRNG\n",
    "\n",
    "相反，JAX实现了显示PRNG，其中通过显示传递和迭代PRNG状态来处理熵的产生和消耗。JAX使用可拆分的现代[Threefry counter-based PRNG](https://github.com/google/jax/blob/master/design_notes/prng.md)。也就是说，它的设计使我们能够将PRNG状态分叉到新的PRNG中，以用于并行随机生成。\n",
    "\n",
    "随机状态由两个我们称为 `key` 的无符号32位整数表示："
   ]
  },
  {
   "cell_type": "code",
   "execution_count": 19,
   "id": "sweet-johnson",
   "metadata": {},
   "outputs": [
    {
     "data": {
      "text/plain": [
       "DeviceArray([0, 0], dtype=uint32)"
      ]
     },
     "execution_count": 19,
     "metadata": {},
     "output_type": "execute_result"
    }
   ],
   "source": [
    "from jax import random\n",
    "key = random.PRNGKey(0)\n",
    "key"
   ]
  },
  {
   "cell_type": "markdown",
   "id": "fancy-security",
   "metadata": {},
   "source": [
    "JAX的随机函数会从PRNG状态生成伪随机数，但**不会**更改状态！\n",
    "\n",
    "重用统一状态将导致**悲伤**和**单调**，最终使终端用户产生混乱："
   ]
  },
  {
   "cell_type": "code",
   "execution_count": 20,
   "id": "cosmetic-eagle",
   "metadata": {},
   "outputs": [
    {
     "name": "stdout",
     "output_type": "stream",
     "text": [
      "[-0.78476578]\n",
      "[0 0]\n",
      "[-0.78476578]\n",
      "[0 0]\n"
     ]
    }
   ],
   "source": [
    "print(random.normal(key, shape=(1,)))\n",
    "print(key)\n",
    "# No no no!\n",
    "# 别别别！\n",
    "print(random.normal(key, shape=(1,)))\n",
    "print(key)"
   ]
  },
  {
   "cell_type": "markdown",
   "id": "consistent-contemporary",
   "metadata": {},
   "source": [
    "每当我们需要一个新的伪随机数时，我们就将PRNG拆分为一个可用的子密钥："
   ]
  },
  {
   "cell_type": "code",
   "execution_count": 21,
   "id": "sexual-exhibit",
   "metadata": {},
   "outputs": [
    {
     "name": "stdout",
     "output_type": "stream",
     "text": [
      "old key [0 0]\n",
      "    \\---SPLIT --> new key    [4146024105  967050713]\n",
      "             \\--> new subkey [2718843009 1272950319] --> normal [0.1930774]\n"
     ]
    }
   ],
   "source": [
    "print(\"old key\", key)\n",
    "key, subkey = random.split(key)\n",
    "normal_pseudorandom = random.normal(subkey, shape=(1,))\n",
    "print(\"    \\---SPLIT --> new key   \", key)\n",
    "print(\"             \\--> new subkey\", subkey, \"--> normal\", normal_pseudorandom)"
   ]
  },
  {
   "cell_type": "markdown",
   "id": "proof-bidder",
   "metadata": {},
   "source": [
    "每当需要新的随机数时，我们都会传播**key**并创建新的**subkey**："
   ]
  },
  {
   "cell_type": "code",
   "execution_count": 22,
   "id": "weighted-patio",
   "metadata": {},
   "outputs": [
    {
     "name": "stdout",
     "output_type": "stream",
     "text": [
      "old key [4146024105  967050713]\n",
      "    \\---SPLIT --> new key    [2384771982 3928867769]\n",
      "             \\--> new subkey [1278412471 2182328957] --> normal [0.00870719]\n"
     ]
    }
   ],
   "source": [
    "print(\"old key\", key)\n",
    "key, subkey = random.split(key)\n",
    "normal_pseudorandom = random.normal(subkey, shape=(1,))\n",
    "print(\"    \\---SPLIT --> new key   \", key)\n",
    "print(\"             \\--> new subkey\", subkey, \"--> normal\", normal_pseudorandom)"
   ]
  },
  {
   "cell_type": "markdown",
   "id": "pretty-howard",
   "metadata": {},
   "source": [
    "我们也可以一次生成多个子键："
   ]
  },
  {
   "cell_type": "code",
   "execution_count": 23,
   "id": "executed-literature",
   "metadata": {},
   "outputs": [
    {
     "name": "stdout",
     "output_type": "stream",
     "text": [
      "[-1.17937575]\n",
      "[-0.14168412]\n",
      "[1.01073777]\n"
     ]
    }
   ],
   "source": [
    "key, *subkeys = random.split(key, 4)\n",
    "for subkey in subkeys:\n",
    "    print(random.normal(subkey, shape=(1,)))"
   ]
  },
  {
   "cell_type": "markdown",
   "id": "rocky-queen",
   "metadata": {},
   "source": [
    "## 🔪 控制流\n",
    "\n",
    "### ✔ Python控制流 + 自动微分✔\n",
    "\n",
    "如果只想将`grad`应用于Python函数，毫无问题可以使用常规的Python控制流，就像使用[Autograd](https://github.com/hips/autograd)（或PyTorch和TF Eager）一样。"
   ]
  },
  {
   "cell_type": "code",
   "execution_count": 24,
   "id": "matched-thesis",
   "metadata": {},
   "outputs": [
    {
     "name": "stdout",
     "output_type": "stream",
     "text": [
      "12.0\n",
      "-4.0\n"
     ]
    }
   ],
   "source": [
    "def f(x):\n",
    "      if x < 3:\n",
    "        return 3. * x ** 2\n",
    "      else:\n",
    "        return -4 * x\n",
    "\n",
    "print(grad(f)(2.))  # ok!\n",
    "print(grad(f)(4.))  # ok!"
   ]
  },
  {
   "cell_type": "markdown",
   "id": "egyptian-array",
   "metadata": {},
   "source": [
    "### Python控制流 + JIT\n",
    "\n",
    "通过 `jit`使控制流更加复杂，并且默认情况下它具有更多约束。\n",
    "\n",
    "这样可行：\n"
   ]
  },
  {
   "cell_type": "code",
   "execution_count": 25,
   "id": "retired-station",
   "metadata": {},
   "outputs": [
    {
     "name": "stdout",
     "output_type": "stream",
     "text": [
      "24\n"
     ]
    }
   ],
   "source": [
    "@jit \n",
    "def f(x):\n",
    "    for i in range(3):\n",
    "        x = 2 * x\n",
    "    return x\n",
    "\n",
    "print(f(3))"
   ]
  },
  {
   "cell_type": "markdown",
   "id": "operating-conclusion",
   "metadata": {},
   "source": [
    "这样也行:"
   ]
  },
  {
   "cell_type": "code",
   "execution_count": 26,
   "id": "racial-significance",
   "metadata": {},
   "outputs": [
    {
     "name": "stdout",
     "output_type": "stream",
     "text": [
      "6.0\n"
     ]
    }
   ],
   "source": [
    "@jit\n",
    "def g(x):\n",
    "    y = 0\n",
    "    for i in range(x.shape[0]):\n",
    "        y = y + x[i]\n",
    "    return y\n",
    "\n",
    "print(g(jnp.array([1., 2., 3.])))"
   ]
  },
  {
   "cell_type": "markdown",
   "id": "boolean-encounter",
   "metadata": {},
   "source": [
    "但这样至少在默认情况下不行："
   ]
  },
  {
   "cell_type": "code",
   "execution_count": 27,
   "id": "single-april",
   "metadata": {},
   "outputs": [
    {
     "name": "stdout",
     "output_type": "stream",
     "text": [
      "Exception Abstract tracer value encountered where concrete value is expected: Traced<ShapedArray(bool[], weak_type=True)>with<DynamicJaxprTrace(level=0/1)>\n",
      "The problem arose with the `bool` function. \n",
      "While tracing the function f at <ipython-input-27-f8b956c895f5>:1, this concrete value was not available in Python because it depends on the value of the arguments to f at <ipython-input-27-f8b956c895f5>:1 at flattened positions [0], and the computation of these values is being staged out (that is, delayed rather than executed eagerly).\n",
      " (https://jax.readthedocs.io/en/latest/errors.html#jax._src.errors.ConcretizationTypeError)\n"
     ]
    }
   ],
   "source": [
    "@jit\n",
    "def f(x):\n",
    "    if x < 3:\n",
    "        return 3. * x ** 2\n",
    "    else:\n",
    "        return -4 * x\n",
    "    \n",
    "# 这样会报错\n",
    "\n",
    "try:\n",
    "    f(2)\n",
    "except Exception as e:\n",
    "    print(\"Exception {}\".format(e))\n",
    "    "
   ]
  },
  {
   "cell_type": "markdown",
   "id": "innocent-cooperative",
   "metadata": {},
   "source": [
    "**发生啥事！？**\n",
    "\n",
    "当我们对一个函数进行jit编译时，我们通常希望编译一个可用于许多不同参数值的函数版本，以便我们可以缓存和重用已编译的代码。这样的话我们不必在每次功能验证时都重新编译。\n",
    "\n",
    "例如，如果我们在数组 `jnp.array([1., 2., 3.], jnp.float32)` 上验证一个 `jit`函数，我们可能要编译可重用的代码，例如`jnp.array([4., 5., 6.])`，这样可以节省编译时间。\n",
    "\n",
    "为了获得对许多不同参数值有效地Python代码视图，JAX会在代表可能输入集的抽象集上跟踪它。存在多个不同的抽象级别，不同的变换使用不同的抽象级别。\n",
    "\n",
    "默认情况下，jit在 `ShapedArray`抽象级别上跟踪您的代码，其中每个抽象值代表具有固定形状和数据类型的所有数值组的集合。例如，如果我们使用抽象值 `ShapedArray((3.,), jnp.float32)`来跟踪，则将获得可以在相应数组集中用于任何具体值的函数视图，这样我们就可以节省编译时间。\n",
    "\n",
    "但这里需要权衡一下：如果我们在一个不承诺特定具体值的`ShapedArray((), jnp.float32)`上跟踪Python函数，则当我们碰到 `x<3`这样的代码时，表达式`x<3`计算得出一个抽象 `ShapedArray((), jnp.bool_)`，它表示集合 `{True, False}`。当Python尝试将其强制转换为具体的 `True` 或 `False`时，我们会收到错误消息：我们不知道采用哪个分支，也无法继续跟踪！而折中方案是，使用更高级别的抽象，我们可以获得更通用的Python代码视图（从而节省了重新编译的时间），但我们需要对Python代码加入更多的约束来完成跟踪。\n",
    "\n",
    "好消息是，您可以自己控制这种这种。通过让jit跟踪更精细的抽象值，您可以放款可追溯性约束。例如，对jit使用 `static_argnums` 参数，我们可以指定跟踪某些参数的具体值。以下是该示例函数："
   ]
  },
  {
   "cell_type": "code",
   "execution_count": 28,
   "id": "fatty-hamburg",
   "metadata": {},
   "outputs": [
    {
     "name": "stdout",
     "output_type": "stream",
     "text": [
      "12.0\n"
     ]
    }
   ],
   "source": [
    "def f(x):\n",
    "      if x < 3:\n",
    "        return 3. * x ** 2\n",
    "      else:\n",
    "        return -4 * x\n",
    "\n",
    "f = jit(f, static_argnums=(0,))\n",
    "\n",
    "print(f(2.))"
   ]
  },
  {
   "cell_type": "markdown",
   "id": "tough-prediction",
   "metadata": {},
   "source": [
    "另外一个例子，包括了一个循环："
   ]
  },
  {
   "cell_type": "code",
   "execution_count": 29,
   "id": "grand-invite",
   "metadata": {},
   "outputs": [
    {
     "data": {
      "text/plain": [
       "DeviceArray(5., dtype=float64)"
      ]
     },
     "execution_count": 29,
     "metadata": {},
     "output_type": "execute_result"
    }
   ],
   "source": [
    "def f(x, n):\n",
    "    y = 0.\n",
    "    for i in range(n):\n",
    "        y = y + x[i]\n",
    "    return y\n",
    "\n",
    "f = jit(f, static_argnums=(1, ))\n",
    "\n",
    "f(jnp.array([2., 3., 4.]), 2)"
   ]
  },
  {
   "cell_type": "markdown",
   "id": "german-specialist",
   "metadata": {},
   "source": [
    "实际上，循环式静态展开的。JAX还可以跟踪更高级别的抽象，例如 `Unshaped`， 但目前这并不被任何变换默认使用。\n",
    "\n",
    "### ️⚠️ 具有参数值依赖形状的函数\n",
    "\n",
    "一些控制流问题可能会以更微秒的情况出现：我们要即时编译的数值函数不能讲内部数组的形状专门用于参数值（可以对参数形状进行专门化处理）。举个简单的例子，让我们创建一个函数，其输出恰好取决于输入变量的长度。"
   ]
  },
  {
   "cell_type": "code",
   "execution_count": 30,
   "id": "killing-maine",
   "metadata": {},
   "outputs": [
    {
     "name": "stdout",
     "output_type": "stream",
     "text": [
      "[4. 4. 4. 4. 4.]\n",
      "Exception The numpy.ndarray conversion method __array__() was called on the JAX Tracer object Traced<ShapedArray(int64[], weak_type=True)>with<DynamicJaxprTrace(level=0/1)> (https://jax.readthedocs.io/en/latest/errors.html#jax._src.errors.TracerArrayConversionError)\n",
      "[4. 4. 4. 4. 4. 4. 4. 4. 4. 4.]\n",
      "[4. 4. 4. 4. 4.]\n"
     ]
    }
   ],
   "source": [
    "def example_fun(length, val):\n",
    "    return jnp.ones((length, )) * val\n",
    "\n",
    "# 不jit的情况下没问题\n",
    "print(example_fun(5, 4))\n",
    "\n",
    "bad_example_jit = jit(example_fun)\n",
    "# 这样会报错\n",
    "try:\n",
    "    print(bad_example_jit(10, 4))\n",
    "except Exception as e:\n",
    "    print(\"Exception {}\".format(e))\n",
    "    \n",
    "# `static_argnums`告诉JAX根据这些参数位置重编译\n",
    "good_example_jit = jit(example_fun, static_argnums=(0, ))\n",
    "# 第一次编译\n",
    "print(good_example_jit(10, 4))\n",
    "# 重编译\n",
    "print(good_example_jit(5, 4))"
   ]
  },
  {
   "cell_type": "markdown",
   "id": "portuguese-climate",
   "metadata": {},
   "source": [
    "如果我们示例中的`length`很少改变，那么`static_argnums` 会很方便，但如果非常多变，那么可能结果会是灾难性的！\n",
    "\n",
    "最后，如果您的函数具有全局副作用，那么JAX的跟踪器可能会导致发生奇怪的事情。一个常见的情景是尝试在jit函数中打印数组："
   ]
  },
  {
   "cell_type": "code",
   "execution_count": 31,
   "id": "paperback-bishop",
   "metadata": {},
   "outputs": [
    {
     "name": "stdout",
     "output_type": "stream",
     "text": [
      "Traced<ShapedArray(int64[], weak_type=True)>with<DynamicJaxprTrace(level=0/1)>\n",
      "Traced<ShapedArray(int64[], weak_type=True)>with<DynamicJaxprTrace(level=0/1)>\n"
     ]
    },
    {
     "data": {
      "text/plain": [
       "DeviceArray(4, dtype=int64)"
      ]
     },
     "execution_count": 31,
     "metadata": {},
     "output_type": "execute_result"
    }
   ],
   "source": [
    "@jit\n",
    "def f(x):\n",
    "  print(x)\n",
    "  y = 2 * x\n",
    "  print(y)\n",
    "  return y\n",
    "f(2)"
   ]
  },
  {
   "cell_type": "markdown",
   "id": "three-macro",
   "metadata": {},
   "source": [
    "### 结构化控制流原语\n",
    "\n",
    "JAX有更多控制流选项。假设您要避免重新编译，但仍要使用可追溯的控制流，这样可以避免展开大循环。您可以使用以下4中结构化的控制流原语：\n",
    "\n",
    "* `lax.cond` 可微\n",
    "* `lax.while_loop` 前向模式可微\n",
    "* `lax.fori_loop` 前向模式可微\n",
    "* `lax.scan` 可微\n",
    "\n",
    "#### cond\n",
    "\n",
    "等价的Python："
   ]
  },
  {
   "cell_type": "code",
   "execution_count": 32,
   "id": "assumed-drunk",
   "metadata": {},
   "outputs": [],
   "source": [
    "def cond(pred, true_fun, false_fun, operand):\n",
    "      if pred:\n",
    "        return true_fun(operand)\n",
    "      else:\n",
    "        return false_fun(operand)"
   ]
  },
  {
   "cell_type": "code",
   "execution_count": 33,
   "id": "seventh-spelling",
   "metadata": {},
   "outputs": [
    {
     "data": {
      "text/plain": [
       "DeviceArray([-1.], dtype=float64)"
      ]
     },
     "execution_count": 33,
     "metadata": {},
     "output_type": "execute_result"
    }
   ],
   "source": [
    "from jax import lax\n",
    "\n",
    "operand = jnp.array([0.])\n",
    "lax.cond(True, lambda x: x+1, lambda x: x-1, operand)\n",
    "# --> array([1.], dtype=float32)\n",
    "lax.cond(False, lambda x: x+1, lambda x: x-1, operand)\n",
    "# --> array([-1.], dtype=float32)"
   ]
  },
  {
   "cell_type": "markdown",
   "id": "short-catholic",
   "metadata": {},
   "source": [
    "#### while_loop\n",
    "\n",
    "等价的Python："
   ]
  },
  {
   "cell_type": "code",
   "execution_count": 34,
   "id": "after-disclosure",
   "metadata": {},
   "outputs": [],
   "source": [
    "def while_loop(cond_fun, body_fun, init_val):\n",
    "    val = init_val\n",
    "    while cond_fun(val):\n",
    "        val = body_fun(val)\n",
    "    return val"
   ]
  },
  {
   "cell_type": "code",
   "execution_count": 35,
   "id": "associate-messenger",
   "metadata": {},
   "outputs": [
    {
     "data": {
      "text/plain": [
       "DeviceArray(10, dtype=int64)"
      ]
     },
     "execution_count": 35,
     "metadata": {},
     "output_type": "execute_result"
    }
   ],
   "source": [
    "init_val = 0\n",
    "cond_fun = lambda x: x<10\n",
    "body_fun = lambda x: x+1\n",
    "lax.while_loop(cond_fun, body_fun, init_val)\n",
    "# --> array(10, dtype=int32)"
   ]
  },
  {
   "cell_type": "markdown",
   "id": "decreased-canon",
   "metadata": {},
   "source": [
    "#### fori_loop\n",
    "\n",
    "等价的Python："
   ]
  },
  {
   "cell_type": "code",
   "execution_count": 36,
   "id": "vanilla-cigarette",
   "metadata": {},
   "outputs": [],
   "source": [
    "def fori_loop(start, stop, body_fun, init_val):\n",
    "    val = init_val\n",
    "    for i in range(start, stop):\n",
    "        val = body_fun(i, val)\n",
    "    return val"
   ]
  },
  {
   "cell_type": "code",
   "execution_count": 37,
   "id": "quality-sender",
   "metadata": {},
   "outputs": [
    {
     "data": {
      "text/plain": [
       "DeviceArray(45, dtype=int64)"
      ]
     },
     "execution_count": 37,
     "metadata": {},
     "output_type": "execute_result"
    }
   ],
   "source": [
    "init_val = 0\n",
    "start = 0\n",
    "stop = 10\n",
    "body_fun = lambda i,x: x+i\n",
    "lax.fori_loop(start, stop, body_fun, init_val)\n",
    "# --> array(45, dtype=int32)"
   ]
  },
  {
   "cell_type": "markdown",
   "id": "returning-sterling",
   "metadata": {},
   "source": [
    "#### 总结\n",
    "\n",
    "| construct      | jit | grad |\n",
    "|----------------|-----|------|\n",
    "| if             | ×   | √    |\n",
    "| for            | √*  | √    |\n",
    "| while          | √*  | √    |\n",
    "| lax.cond       | √   | √    |\n",
    "| lax.while_loop | √   | fwd  |\n",
    "| lax.fori_loop  | √   | fwd  |\n",
    "| lax.scan       | √   | √    |\n",
    "\n",
    "$\\ast$ = 与参数**值**无关的循环条件-展开循环"
   ]
  },
  {
   "cell_type": "markdown",
   "id": "dangerous-meeting",
   "metadata": {},
   "source": [
    "## 🔪 NaNs\n",
    "\n",
    "### 调试NaNs\n",
    "\n",
    "如果要跟踪函数或梯度中NaNs发生的位置，可以通过以下方法打开NaNs检查器：\n",
    "\n",
    "* 在环境变量中设置 `JAX_DEBUG_NANS=True`\n",
    "* 在主文件上方加入 `from jax.config import config`与 `config.update(\"jax_debug_nans\", True)`\n",
    "* 在主文件上方加入 `from jax.config import config`和 `config.parse_flags_with_absl()`，之后在命令行选项中加入 `--jax_debug_nans=True`\n",
    "\n",
    "这样将会在计算生成NaNs的时候立即出错。启用此选项会为XLA生成的每个浮点类型值添加一个NaN教研。这意味着将值送回本机，并针对不在 `@jit` 下的每个原始操作将其作为 `ndarray`进行检查。对于 `@jit` 下的代码，将检查每个 `@jit` 函数的输出，如果存在NaNs，它将在非优化的逐个操作模式下重新运行该函数，从而一次有效地删除一一个级别的 `@jit`。\n",
    "\n",
    "不过可能会出现一些棘手的情况，例如仅在 `@jit` 下发生的NaNs而不是在费优化模式下产生的。在这种情况下，您会看到一条警告消息，但您的代码继续执行。\n",
    "\n",
    "如果在梯度求值的后向传递中生成NaNs，则在堆栈跟踪中向上引发几帧异常时，您将使用后想传递函数，该函数本质上是一个简单的jaxpr解释器，用于遍历原始操作的序列。在下面的示例中，我们使用命令行 `JAX_DEBUG_NANS=True ipython`启动了一个ipython repl，然后运行："
   ]
  },
  {
   "cell_type": "code",
   "execution_count": 38,
   "id": "insured-energy",
   "metadata": {
    "scrolled": true
   },
   "outputs": [
    {
     "ename": "FloatingPointError",
     "evalue": "invalid value (nan) encountered in div",
     "output_type": "error",
     "traceback": [
      "\u001b[0;31m---------------------------------------------------------------------------\u001b[0m",
      "\u001b[0;31mFloatingPointError\u001b[0m                        Traceback (most recent call last)",
      "\u001b[0;32m<ipython-input-38-93714353c91c>\u001b[0m in \u001b[0;36m<module>\u001b[0;34m\u001b[0m\n\u001b[1;32m      1\u001b[0m \u001b[0;32mimport\u001b[0m \u001b[0mjax\u001b[0m\u001b[0;34m.\u001b[0m\u001b[0mnumpy\u001b[0m \u001b[0;32mas\u001b[0m \u001b[0mjnp\u001b[0m\u001b[0;34m\u001b[0m\u001b[0;34m\u001b[0m\u001b[0m\n\u001b[0;32m----> 2\u001b[0;31m \u001b[0mjnp\u001b[0m\u001b[0;34m.\u001b[0m\u001b[0mdivide\u001b[0m\u001b[0;34m(\u001b[0m\u001b[0;36m0.\u001b[0m\u001b[0;34m,\u001b[0m \u001b[0;36m0.\u001b[0m\u001b[0;34m)\u001b[0m\u001b[0;34m\u001b[0m\u001b[0;34m\u001b[0m\u001b[0m\n\u001b[0m",
      "\u001b[0;32m~/miniconda3/envs/jax/lib/python3.9/site-packages/jax/_src/numpy/lax_numpy.py\u001b[0m in \u001b[0;36mtrue_divide\u001b[0;34m(x1, x2)\u001b[0m\n\u001b[1;32m    537\u001b[0m \u001b[0;32mdef\u001b[0m \u001b[0mtrue_divide\u001b[0m\u001b[0;34m(\u001b[0m\u001b[0mx1\u001b[0m\u001b[0;34m,\u001b[0m \u001b[0mx2\u001b[0m\u001b[0;34m)\u001b[0m\u001b[0;34m:\u001b[0m\u001b[0;34m\u001b[0m\u001b[0;34m\u001b[0m\u001b[0m\n\u001b[1;32m    538\u001b[0m   \u001b[0mx1\u001b[0m\u001b[0;34m,\u001b[0m \u001b[0mx2\u001b[0m \u001b[0;34m=\u001b[0m \u001b[0m_promote_args_inexact\u001b[0m\u001b[0;34m(\u001b[0m\u001b[0;34m\"true_divide\"\u001b[0m\u001b[0;34m,\u001b[0m \u001b[0mx1\u001b[0m\u001b[0;34m,\u001b[0m \u001b[0mx2\u001b[0m\u001b[0;34m)\u001b[0m\u001b[0;34m\u001b[0m\u001b[0;34m\u001b[0m\u001b[0m\n\u001b[0;32m--> 539\u001b[0;31m   \u001b[0;32mreturn\u001b[0m \u001b[0mlax\u001b[0m\u001b[0;34m.\u001b[0m\u001b[0mdiv\u001b[0m\u001b[0;34m(\u001b[0m\u001b[0mx1\u001b[0m\u001b[0;34m,\u001b[0m \u001b[0mx2\u001b[0m\u001b[0;34m)\u001b[0m\u001b[0;34m\u001b[0m\u001b[0;34m\u001b[0m\u001b[0m\n\u001b[0m\u001b[1;32m    540\u001b[0m \u001b[0;34m\u001b[0m\u001b[0m\n\u001b[1;32m    541\u001b[0m \u001b[0mdivide\u001b[0m \u001b[0;34m=\u001b[0m \u001b[0mtrue_divide\u001b[0m\u001b[0;34m\u001b[0m\u001b[0;34m\u001b[0m\u001b[0m\n",
      "\u001b[0;32m~/miniconda3/envs/jax/lib/python3.9/site-packages/jax/_src/lax/lax.py\u001b[0m in \u001b[0;36mdiv\u001b[0;34m(x, y)\u001b[0m\n\u001b[1;32m    351\u001b[0m \u001b[0;32mdef\u001b[0m \u001b[0mdiv\u001b[0m\u001b[0;34m(\u001b[0m\u001b[0mx\u001b[0m\u001b[0;34m:\u001b[0m \u001b[0mArray\u001b[0m\u001b[0;34m,\u001b[0m \u001b[0my\u001b[0m\u001b[0;34m:\u001b[0m \u001b[0mArray\u001b[0m\u001b[0;34m)\u001b[0m \u001b[0;34m->\u001b[0m \u001b[0mArray\u001b[0m\u001b[0;34m:\u001b[0m\u001b[0;34m\u001b[0m\u001b[0;34m\u001b[0m\u001b[0m\n\u001b[1;32m    352\u001b[0m   \u001b[0;34mr\"\"\"Elementwise division: :math:`x \\over y`.\"\"\"\u001b[0m\u001b[0;34m\u001b[0m\u001b[0;34m\u001b[0m\u001b[0m\n\u001b[0;32m--> 353\u001b[0;31m   \u001b[0;32mreturn\u001b[0m \u001b[0mdiv_p\u001b[0m\u001b[0;34m.\u001b[0m\u001b[0mbind\u001b[0m\u001b[0;34m(\u001b[0m\u001b[0mx\u001b[0m\u001b[0;34m,\u001b[0m \u001b[0my\u001b[0m\u001b[0;34m)\u001b[0m\u001b[0;34m\u001b[0m\u001b[0;34m\u001b[0m\u001b[0m\n\u001b[0m\u001b[1;32m    354\u001b[0m \u001b[0;34m\u001b[0m\u001b[0m\n\u001b[1;32m    355\u001b[0m \u001b[0;32mdef\u001b[0m \u001b[0mrem\u001b[0m\u001b[0;34m(\u001b[0m\u001b[0mx\u001b[0m\u001b[0;34m:\u001b[0m \u001b[0mArray\u001b[0m\u001b[0;34m,\u001b[0m \u001b[0my\u001b[0m\u001b[0;34m:\u001b[0m \u001b[0mArray\u001b[0m\u001b[0;34m)\u001b[0m \u001b[0;34m->\u001b[0m \u001b[0mArray\u001b[0m\u001b[0;34m:\u001b[0m\u001b[0;34m\u001b[0m\u001b[0;34m\u001b[0m\u001b[0m\n",
      "\u001b[0;32m~/miniconda3/envs/jax/lib/python3.9/site-packages/jax/core.py\u001b[0m in \u001b[0;36mbind\u001b[0;34m(self, *args, **params)\u001b[0m\n\u001b[1;32m    282\u001b[0m     \u001b[0mtop_trace\u001b[0m \u001b[0;34m=\u001b[0m \u001b[0mfind_top_trace\u001b[0m\u001b[0;34m(\u001b[0m\u001b[0margs\u001b[0m\u001b[0;34m)\u001b[0m\u001b[0;34m\u001b[0m\u001b[0;34m\u001b[0m\u001b[0m\n\u001b[1;32m    283\u001b[0m     \u001b[0mtracers\u001b[0m \u001b[0;34m=\u001b[0m \u001b[0mmap\u001b[0m\u001b[0;34m(\u001b[0m\u001b[0mtop_trace\u001b[0m\u001b[0;34m.\u001b[0m\u001b[0mfull_raise\u001b[0m\u001b[0;34m,\u001b[0m \u001b[0margs\u001b[0m\u001b[0;34m)\u001b[0m\u001b[0;34m\u001b[0m\u001b[0;34m\u001b[0m\u001b[0m\n\u001b[0;32m--> 284\u001b[0;31m     \u001b[0mout\u001b[0m \u001b[0;34m=\u001b[0m \u001b[0mtop_trace\u001b[0m\u001b[0;34m.\u001b[0m\u001b[0mprocess_primitive\u001b[0m\u001b[0;34m(\u001b[0m\u001b[0mself\u001b[0m\u001b[0;34m,\u001b[0m \u001b[0mtracers\u001b[0m\u001b[0;34m,\u001b[0m \u001b[0mparams\u001b[0m\u001b[0;34m)\u001b[0m\u001b[0;34m\u001b[0m\u001b[0;34m\u001b[0m\u001b[0m\n\u001b[0m\u001b[1;32m    285\u001b[0m     \u001b[0;32mreturn\u001b[0m \u001b[0mmap\u001b[0m\u001b[0;34m(\u001b[0m\u001b[0mfull_lower\u001b[0m\u001b[0;34m,\u001b[0m \u001b[0mout\u001b[0m\u001b[0;34m)\u001b[0m \u001b[0;32mif\u001b[0m \u001b[0mself\u001b[0m\u001b[0;34m.\u001b[0m\u001b[0mmultiple_results\u001b[0m \u001b[0;32melse\u001b[0m \u001b[0mfull_lower\u001b[0m\u001b[0;34m(\u001b[0m\u001b[0mout\u001b[0m\u001b[0;34m)\u001b[0m\u001b[0;34m\u001b[0m\u001b[0;34m\u001b[0m\u001b[0m\n\u001b[1;32m    286\u001b[0m \u001b[0;34m\u001b[0m\u001b[0m\n",
      "\u001b[0;32m~/miniconda3/envs/jax/lib/python3.9/site-packages/jax/core.py\u001b[0m in \u001b[0;36mprocess_primitive\u001b[0;34m(self, primitive, tracers, params)\u001b[0m\n\u001b[1;32m    620\u001b[0m \u001b[0;34m\u001b[0m\u001b[0m\n\u001b[1;32m    621\u001b[0m   \u001b[0;32mdef\u001b[0m \u001b[0mprocess_primitive\u001b[0m\u001b[0;34m(\u001b[0m\u001b[0mself\u001b[0m\u001b[0;34m,\u001b[0m \u001b[0mprimitive\u001b[0m\u001b[0;34m,\u001b[0m \u001b[0mtracers\u001b[0m\u001b[0;34m,\u001b[0m \u001b[0mparams\u001b[0m\u001b[0;34m)\u001b[0m\u001b[0;34m:\u001b[0m\u001b[0;34m\u001b[0m\u001b[0;34m\u001b[0m\u001b[0m\n\u001b[0;32m--> 622\u001b[0;31m     \u001b[0;32mreturn\u001b[0m \u001b[0mprimitive\u001b[0m\u001b[0;34m.\u001b[0m\u001b[0mimpl\u001b[0m\u001b[0;34m(\u001b[0m\u001b[0;34m*\u001b[0m\u001b[0mtracers\u001b[0m\u001b[0;34m,\u001b[0m \u001b[0;34m**\u001b[0m\u001b[0mparams\u001b[0m\u001b[0;34m)\u001b[0m\u001b[0;34m\u001b[0m\u001b[0;34m\u001b[0m\u001b[0m\n\u001b[0m\u001b[1;32m    623\u001b[0m \u001b[0;34m\u001b[0m\u001b[0m\n\u001b[1;32m    624\u001b[0m   \u001b[0;32mdef\u001b[0m \u001b[0mprocess_call\u001b[0m\u001b[0;34m(\u001b[0m\u001b[0mself\u001b[0m\u001b[0;34m,\u001b[0m \u001b[0mprimitive\u001b[0m\u001b[0;34m,\u001b[0m \u001b[0mf\u001b[0m\u001b[0;34m,\u001b[0m \u001b[0mtracers\u001b[0m\u001b[0;34m,\u001b[0m \u001b[0mparams\u001b[0m\u001b[0;34m)\u001b[0m\u001b[0;34m:\u001b[0m\u001b[0;34m\u001b[0m\u001b[0;34m\u001b[0m\u001b[0m\n",
      "\u001b[0;32m~/miniconda3/envs/jax/lib/python3.9/site-packages/jax/interpreters/xla.py\u001b[0m in \u001b[0;36mapply_primitive\u001b[0;34m(prim, *args, **params)\u001b[0m\n\u001b[1;32m    240\u001b[0m   \u001b[0;34m\"\"\"Impl rule that compiles and runs a single primitive 'prim' using XLA.\"\"\"\u001b[0m\u001b[0;34m\u001b[0m\u001b[0;34m\u001b[0m\u001b[0m\n\u001b[1;32m    241\u001b[0m   \u001b[0mcompiled_fun\u001b[0m \u001b[0;34m=\u001b[0m \u001b[0mxla_primitive_callable\u001b[0m\u001b[0;34m(\u001b[0m\u001b[0mprim\u001b[0m\u001b[0;34m,\u001b[0m \u001b[0;34m*\u001b[0m\u001b[0munsafe_map\u001b[0m\u001b[0;34m(\u001b[0m\u001b[0marg_spec\u001b[0m\u001b[0;34m,\u001b[0m \u001b[0margs\u001b[0m\u001b[0;34m)\u001b[0m\u001b[0;34m,\u001b[0m \u001b[0;34m**\u001b[0m\u001b[0mparams\u001b[0m\u001b[0;34m)\u001b[0m\u001b[0;34m\u001b[0m\u001b[0;34m\u001b[0m\u001b[0m\n\u001b[0;32m--> 242\u001b[0;31m   \u001b[0;32mreturn\u001b[0m \u001b[0mcompiled_fun\u001b[0m\u001b[0;34m(\u001b[0m\u001b[0;34m*\u001b[0m\u001b[0margs\u001b[0m\u001b[0;34m)\u001b[0m\u001b[0;34m\u001b[0m\u001b[0;34m\u001b[0m\u001b[0m\n\u001b[0m\u001b[1;32m    243\u001b[0m \u001b[0;34m\u001b[0m\u001b[0m\n\u001b[1;32m    244\u001b[0m \u001b[0;34m\u001b[0m\u001b[0m\n",
      "\u001b[0;32m~/miniconda3/envs/jax/lib/python3.9/site-packages/jax/interpreters/xla.py\u001b[0m in \u001b[0;36m_execute_compiled_primitive\u001b[0;34m(prim, compiled, result_handler, *args)\u001b[0m\n\u001b[1;32m    359\u001b[0m   \u001b[0minput_bufs\u001b[0m \u001b[0;34m=\u001b[0m \u001b[0mlist\u001b[0m\u001b[0;34m(\u001b[0m\u001b[0mit\u001b[0m\u001b[0;34m.\u001b[0m\u001b[0mchain\u001b[0m\u001b[0;34m.\u001b[0m\u001b[0mfrom_iterable\u001b[0m\u001b[0;34m(\u001b[0m\u001b[0mdevice_put\u001b[0m\u001b[0;34m(\u001b[0m\u001b[0mx\u001b[0m\u001b[0;34m,\u001b[0m \u001b[0mdevice\u001b[0m\u001b[0;34m)\u001b[0m \u001b[0;32mfor\u001b[0m \u001b[0mx\u001b[0m \u001b[0;32min\u001b[0m \u001b[0margs\u001b[0m \u001b[0;32mif\u001b[0m \u001b[0mx\u001b[0m \u001b[0;32mis\u001b[0m \u001b[0;32mnot\u001b[0m \u001b[0mtoken\u001b[0m\u001b[0;34m)\u001b[0m\u001b[0;34m)\u001b[0m\u001b[0;34m\u001b[0m\u001b[0;34m\u001b[0m\u001b[0m\n\u001b[1;32m    360\u001b[0m   \u001b[0mout_bufs\u001b[0m \u001b[0;34m=\u001b[0m \u001b[0mcompiled\u001b[0m\u001b[0;34m.\u001b[0m\u001b[0mexecute\u001b[0m\u001b[0;34m(\u001b[0m\u001b[0minput_bufs\u001b[0m\u001b[0;34m)\u001b[0m\u001b[0;34m\u001b[0m\u001b[0;34m\u001b[0m\u001b[0m\n\u001b[0;32m--> 361\u001b[0;31m   \u001b[0mcheck_special\u001b[0m\u001b[0;34m(\u001b[0m\u001b[0mprim\u001b[0m\u001b[0;34m,\u001b[0m \u001b[0mout_bufs\u001b[0m\u001b[0;34m)\u001b[0m\u001b[0;34m\u001b[0m\u001b[0;34m\u001b[0m\u001b[0m\n\u001b[0m\u001b[1;32m    362\u001b[0m   \u001b[0;32mreturn\u001b[0m \u001b[0mresult_handler\u001b[0m\u001b[0;34m(\u001b[0m\u001b[0;34m*\u001b[0m\u001b[0mout_bufs\u001b[0m\u001b[0;34m)\u001b[0m\u001b[0;34m\u001b[0m\u001b[0;34m\u001b[0m\u001b[0m\n\u001b[1;32m    363\u001b[0m \u001b[0;34m\u001b[0m\u001b[0m\n",
      "\u001b[0;32m~/miniconda3/envs/jax/lib/python3.9/site-packages/jax/interpreters/xla.py\u001b[0m in \u001b[0;36mcheck_special\u001b[0;34m(prim, bufs)\u001b[0m\n\u001b[1;32m    376\u001b[0m   \u001b[0;32mif\u001b[0m \u001b[0mFLAGS\u001b[0m\u001b[0;34m.\u001b[0m\u001b[0mjax_debug_infs\u001b[0m \u001b[0;32mor\u001b[0m \u001b[0mFLAGS\u001b[0m\u001b[0;34m.\u001b[0m\u001b[0mjax_debug_nans\u001b[0m\u001b[0;34m:\u001b[0m\u001b[0;34m\u001b[0m\u001b[0;34m\u001b[0m\u001b[0m\n\u001b[1;32m    377\u001b[0m     \u001b[0;32mfor\u001b[0m \u001b[0mbuf\u001b[0m \u001b[0;32min\u001b[0m \u001b[0mbufs\u001b[0m\u001b[0;34m:\u001b[0m\u001b[0;34m\u001b[0m\u001b[0;34m\u001b[0m\u001b[0m\n\u001b[0;32m--> 378\u001b[0;31m       \u001b[0m_check_special\u001b[0m\u001b[0;34m(\u001b[0m\u001b[0mprim\u001b[0m\u001b[0;34m.\u001b[0m\u001b[0mname\u001b[0m\u001b[0;34m,\u001b[0m \u001b[0mbuf\u001b[0m\u001b[0;34m.\u001b[0m\u001b[0mxla_shape\u001b[0m\u001b[0;34m(\u001b[0m\u001b[0;34m)\u001b[0m\u001b[0;34m,\u001b[0m \u001b[0mbuf\u001b[0m\u001b[0;34m)\u001b[0m\u001b[0;34m\u001b[0m\u001b[0;34m\u001b[0m\u001b[0m\n\u001b[0m\u001b[1;32m    379\u001b[0m \u001b[0;34m\u001b[0m\u001b[0m\n\u001b[1;32m    380\u001b[0m \u001b[0;32mdef\u001b[0m \u001b[0m_check_special\u001b[0m\u001b[0;34m(\u001b[0m\u001b[0mname\u001b[0m\u001b[0;34m,\u001b[0m \u001b[0mxla_shape\u001b[0m\u001b[0;34m,\u001b[0m \u001b[0mbuf\u001b[0m\u001b[0;34m)\u001b[0m\u001b[0;34m:\u001b[0m\u001b[0;34m\u001b[0m\u001b[0;34m\u001b[0m\u001b[0m\n",
      "\u001b[0;32m~/miniconda3/envs/jax/lib/python3.9/site-packages/jax/interpreters/xla.py\u001b[0m in \u001b[0;36m_check_special\u001b[0;34m(name, xla_shape, buf)\u001b[0m\n\u001b[1;32m    382\u001b[0m   \u001b[0;32mif\u001b[0m \u001b[0mdtypes\u001b[0m\u001b[0;34m.\u001b[0m\u001b[0missubdtype\u001b[0m\u001b[0;34m(\u001b[0m\u001b[0mxla_shape\u001b[0m\u001b[0;34m.\u001b[0m\u001b[0melement_type\u001b[0m\u001b[0;34m(\u001b[0m\u001b[0;34m)\u001b[0m\u001b[0;34m,\u001b[0m \u001b[0mnp\u001b[0m\u001b[0;34m.\u001b[0m\u001b[0minexact\u001b[0m\u001b[0;34m)\u001b[0m\u001b[0;34m:\u001b[0m\u001b[0;34m\u001b[0m\u001b[0;34m\u001b[0m\u001b[0m\n\u001b[1;32m    383\u001b[0m     \u001b[0;32mif\u001b[0m \u001b[0mFLAGS\u001b[0m\u001b[0;34m.\u001b[0m\u001b[0mjax_debug_nans\u001b[0m \u001b[0;32mand\u001b[0m \u001b[0mnp\u001b[0m\u001b[0;34m.\u001b[0m\u001b[0many\u001b[0m\u001b[0;34m(\u001b[0m\u001b[0mnp\u001b[0m\u001b[0;34m.\u001b[0m\u001b[0misnan\u001b[0m\u001b[0;34m(\u001b[0m\u001b[0mbuf\u001b[0m\u001b[0;34m.\u001b[0m\u001b[0mto_py\u001b[0m\u001b[0;34m(\u001b[0m\u001b[0;34m)\u001b[0m\u001b[0;34m)\u001b[0m\u001b[0;34m)\u001b[0m\u001b[0;34m:\u001b[0m\u001b[0;34m\u001b[0m\u001b[0;34m\u001b[0m\u001b[0m\n\u001b[0;32m--> 384\u001b[0;31m       \u001b[0;32mraise\u001b[0m \u001b[0mFloatingPointError\u001b[0m\u001b[0;34m(\u001b[0m\u001b[0;34mf\"invalid value (nan) encountered in {name}\"\u001b[0m\u001b[0;34m)\u001b[0m\u001b[0;34m\u001b[0m\u001b[0;34m\u001b[0m\u001b[0m\n\u001b[0m\u001b[1;32m    385\u001b[0m     \u001b[0;32mif\u001b[0m \u001b[0mFLAGS\u001b[0m\u001b[0;34m.\u001b[0m\u001b[0mjax_debug_infs\u001b[0m \u001b[0;32mand\u001b[0m \u001b[0mnp\u001b[0m\u001b[0;34m.\u001b[0m\u001b[0many\u001b[0m\u001b[0;34m(\u001b[0m\u001b[0mnp\u001b[0m\u001b[0;34m.\u001b[0m\u001b[0misinf\u001b[0m\u001b[0;34m(\u001b[0m\u001b[0mbuf\u001b[0m\u001b[0;34m.\u001b[0m\u001b[0mto_py\u001b[0m\u001b[0;34m(\u001b[0m\u001b[0;34m)\u001b[0m\u001b[0;34m)\u001b[0m\u001b[0;34m)\u001b[0m\u001b[0;34m:\u001b[0m\u001b[0;34m\u001b[0m\u001b[0;34m\u001b[0m\u001b[0m\n\u001b[1;32m    386\u001b[0m       \u001b[0;32mraise\u001b[0m \u001b[0mFloatingPointError\u001b[0m\u001b[0;34m(\u001b[0m\u001b[0;34mf\"invalid value (inf) encountered in {name}\"\u001b[0m\u001b[0;34m)\u001b[0m\u001b[0;34m\u001b[0m\u001b[0;34m\u001b[0m\u001b[0m\n",
      "\u001b[0;31mFloatingPointError\u001b[0m: invalid value (nan) encountered in div"
     ]
    }
   ],
   "source": [
    "import jax.numpy as jnp\n",
    "jnp.divide(0., 0.)"
   ]
  },
  {
   "cell_type": "markdown",
   "id": "celtic-change",
   "metadata": {},
   "source": [
    "生成的NaN被捕获到了。通过运行 `%debug`，我们可以获取事后调试器。这也可以与`@jit`下的函数一起使用，如下所示："
   ]
  },
  {
   "cell_type": "code",
   "execution_count": 39,
   "id": "internal-integral",
   "metadata": {},
   "outputs": [
    {
     "name": "stdout",
     "output_type": "stream",
     "text": [
      "Invalid value encountered in the output of a jit function. Calling the de-optimized version.\n"
     ]
    },
    {
     "ename": "FloatingPointError",
     "evalue": "invalid value (nan) encountered in div",
     "output_type": "error",
     "traceback": [
      "\u001b[0;31m---------------------------------------------------------------------------\u001b[0m",
      "\u001b[0;31mFilteredStackTrace\u001b[0m                        Traceback (most recent call last)",
      "\u001b[0;32m<ipython-input-39-25970d6a7725>\u001b[0m in \u001b[0;36m<module>\u001b[0;34m\u001b[0m\n\u001b[1;32m     11\u001b[0m \u001b[0my\u001b[0m \u001b[0;34m=\u001b[0m \u001b[0mjnp\u001b[0m\u001b[0;34m.\u001b[0m\u001b[0marray\u001b[0m\u001b[0;34m(\u001b[0m\u001b[0;34m[\u001b[0m\u001b[0;36m3.\u001b[0m\u001b[0;34m,\u001b[0m \u001b[0;36m0.\u001b[0m\u001b[0;34m]\u001b[0m\u001b[0;34m)\u001b[0m\u001b[0;34m\u001b[0m\u001b[0;34m\u001b[0m\u001b[0m\n\u001b[0;32m---> 12\u001b[0;31m \u001b[0mf\u001b[0m \u001b[0;34m(\u001b[0m\u001b[0mx\u001b[0m\u001b[0;34m,\u001b[0m \u001b[0my\u001b[0m\u001b[0;34m)\u001b[0m\u001b[0;34m\u001b[0m\u001b[0;34m\u001b[0m\u001b[0m\n\u001b[0m",
      "\u001b[0;32m<ipython-input-39-25970d6a7725>\u001b[0m in \u001b[0;36mf\u001b[0;34m(x, y)\u001b[0m\n\u001b[1;32m      5\u001b[0m     \u001b[0ma\u001b[0m \u001b[0;34m=\u001b[0m \u001b[0mx\u001b[0m \u001b[0;34m*\u001b[0m \u001b[0my\u001b[0m\u001b[0;34m\u001b[0m\u001b[0;34m\u001b[0m\u001b[0m\n\u001b[0;32m----> 6\u001b[0;31m     \u001b[0mb\u001b[0m \u001b[0;34m=\u001b[0m \u001b[0;34m(\u001b[0m\u001b[0mx\u001b[0m \u001b[0;34m+\u001b[0m \u001b[0my\u001b[0m\u001b[0;34m)\u001b[0m \u001b[0;34m/\u001b[0m \u001b[0;34m(\u001b[0m\u001b[0mx\u001b[0m \u001b[0;34m-\u001b[0m \u001b[0my\u001b[0m\u001b[0;34m)\u001b[0m\u001b[0;34m\u001b[0m\u001b[0;34m\u001b[0m\u001b[0m\n\u001b[0m\u001b[1;32m      7\u001b[0m     \u001b[0mc\u001b[0m \u001b[0;34m=\u001b[0m \u001b[0ma\u001b[0m \u001b[0;34m+\u001b[0m \u001b[0;36m2\u001b[0m\u001b[0;34m\u001b[0m\u001b[0;34m\u001b[0m\u001b[0m\n",
      "\u001b[0;32m~/miniconda3/envs/jax/lib/python3.9/site-packages/jax/_src/numpy/lax_numpy.py\u001b[0m in \u001b[0;36mdeferring_binary_op\u001b[0;34m(self, other)\u001b[0m\n\u001b[1;32m   5255\u001b[0m       \u001b[0;32mreturn\u001b[0m \u001b[0mNotImplemented\u001b[0m\u001b[0;34m\u001b[0m\u001b[0;34m\u001b[0m\u001b[0m\n\u001b[0;32m-> 5256\u001b[0;31m     \u001b[0;32mreturn\u001b[0m \u001b[0mbinary_op\u001b[0m\u001b[0;34m(\u001b[0m\u001b[0mself\u001b[0m\u001b[0;34m,\u001b[0m \u001b[0mother\u001b[0m\u001b[0;34m)\u001b[0m\u001b[0;34m\u001b[0m\u001b[0;34m\u001b[0m\u001b[0m\n\u001b[0m\u001b[1;32m   5257\u001b[0m   \u001b[0;32mreturn\u001b[0m \u001b[0mdeferring_binary_op\u001b[0m\u001b[0;34m\u001b[0m\u001b[0;34m\u001b[0m\u001b[0m\n",
      "\u001b[0;32m~/miniconda3/envs/jax/lib/python3.9/site-packages/jax/_src/numpy/lax_numpy.py\u001b[0m in \u001b[0;36mtrue_divide\u001b[0;34m(x1, x2)\u001b[0m\n\u001b[1;32m    538\u001b[0m   \u001b[0mx1\u001b[0m\u001b[0;34m,\u001b[0m \u001b[0mx2\u001b[0m \u001b[0;34m=\u001b[0m \u001b[0m_promote_args_inexact\u001b[0m\u001b[0;34m(\u001b[0m\u001b[0;34m\"true_divide\"\u001b[0m\u001b[0;34m,\u001b[0m \u001b[0mx1\u001b[0m\u001b[0;34m,\u001b[0m \u001b[0mx2\u001b[0m\u001b[0;34m)\u001b[0m\u001b[0;34m\u001b[0m\u001b[0;34m\u001b[0m\u001b[0m\n\u001b[0;32m--> 539\u001b[0;31m   \u001b[0;32mreturn\u001b[0m \u001b[0mlax\u001b[0m\u001b[0;34m.\u001b[0m\u001b[0mdiv\u001b[0m\u001b[0;34m(\u001b[0m\u001b[0mx1\u001b[0m\u001b[0;34m,\u001b[0m \u001b[0mx2\u001b[0m\u001b[0;34m)\u001b[0m\u001b[0;34m\u001b[0m\u001b[0;34m\u001b[0m\u001b[0m\n\u001b[0m\u001b[1;32m    540\u001b[0m \u001b[0;34m\u001b[0m\u001b[0m\n",
      "\u001b[0;31mFilteredStackTrace\u001b[0m: FloatingPointError: invalid value (nan) encountered in div\n\nThe stack trace above excludes JAX-internal frames.\nThe following is the original exception that occurred, unmodified.\n\n--------------------",
      "\nThe above exception was the direct cause of the following exception:\n",
      "\u001b[0;31mFloatingPointError\u001b[0m                        Traceback (most recent call last)",
      "\u001b[0;32m<ipython-input-39-25970d6a7725>\u001b[0m in \u001b[0;36m<module>\u001b[0;34m\u001b[0m\n\u001b[1;32m     10\u001b[0m \u001b[0mx\u001b[0m \u001b[0;34m=\u001b[0m \u001b[0mjnp\u001b[0m\u001b[0;34m.\u001b[0m\u001b[0marray\u001b[0m\u001b[0;34m(\u001b[0m\u001b[0;34m[\u001b[0m\u001b[0;36m2.\u001b[0m\u001b[0;34m,\u001b[0m \u001b[0;36m0.\u001b[0m\u001b[0;34m]\u001b[0m\u001b[0;34m)\u001b[0m\u001b[0;34m\u001b[0m\u001b[0;34m\u001b[0m\u001b[0m\n\u001b[1;32m     11\u001b[0m \u001b[0my\u001b[0m \u001b[0;34m=\u001b[0m \u001b[0mjnp\u001b[0m\u001b[0;34m.\u001b[0m\u001b[0marray\u001b[0m\u001b[0;34m(\u001b[0m\u001b[0;34m[\u001b[0m\u001b[0;36m3.\u001b[0m\u001b[0;34m,\u001b[0m \u001b[0;36m0.\u001b[0m\u001b[0;34m]\u001b[0m\u001b[0;34m)\u001b[0m\u001b[0;34m\u001b[0m\u001b[0;34m\u001b[0m\u001b[0m\n\u001b[0;32m---> 12\u001b[0;31m \u001b[0mf\u001b[0m \u001b[0;34m(\u001b[0m\u001b[0mx\u001b[0m\u001b[0;34m,\u001b[0m \u001b[0my\u001b[0m\u001b[0;34m)\u001b[0m\u001b[0;34m\u001b[0m\u001b[0;34m\u001b[0m\u001b[0m\n\u001b[0m",
      "\u001b[0;32m~/miniconda3/envs/jax/lib/python3.9/site-packages/jax/_src/traceback_util.py\u001b[0m in \u001b[0;36mreraise_with_filtered_traceback\u001b[0;34m(*args, **kwargs)\u001b[0m\n\u001b[1;32m    137\u001b[0m   \u001b[0;32mdef\u001b[0m \u001b[0mreraise_with_filtered_traceback\u001b[0m\u001b[0;34m(\u001b[0m\u001b[0;34m*\u001b[0m\u001b[0margs\u001b[0m\u001b[0;34m,\u001b[0m \u001b[0;34m**\u001b[0m\u001b[0mkwargs\u001b[0m\u001b[0;34m)\u001b[0m\u001b[0;34m:\u001b[0m\u001b[0;34m\u001b[0m\u001b[0;34m\u001b[0m\u001b[0m\n\u001b[1;32m    138\u001b[0m     \u001b[0;32mtry\u001b[0m\u001b[0;34m:\u001b[0m\u001b[0;34m\u001b[0m\u001b[0;34m\u001b[0m\u001b[0m\n\u001b[0;32m--> 139\u001b[0;31m       \u001b[0;32mreturn\u001b[0m \u001b[0mfun\u001b[0m\u001b[0;34m(\u001b[0m\u001b[0;34m*\u001b[0m\u001b[0margs\u001b[0m\u001b[0;34m,\u001b[0m \u001b[0;34m**\u001b[0m\u001b[0mkwargs\u001b[0m\u001b[0;34m)\u001b[0m\u001b[0;34m\u001b[0m\u001b[0;34m\u001b[0m\u001b[0m\n\u001b[0m\u001b[1;32m    140\u001b[0m     \u001b[0;32mexcept\u001b[0m \u001b[0mException\u001b[0m \u001b[0;32mas\u001b[0m \u001b[0me\u001b[0m\u001b[0;34m:\u001b[0m\u001b[0;34m\u001b[0m\u001b[0;34m\u001b[0m\u001b[0m\n\u001b[1;32m    141\u001b[0m       \u001b[0;32mif\u001b[0m \u001b[0;32mnot\u001b[0m \u001b[0mis_under_reraiser\u001b[0m\u001b[0;34m(\u001b[0m\u001b[0me\u001b[0m\u001b[0;34m)\u001b[0m\u001b[0;34m:\u001b[0m\u001b[0;34m\u001b[0m\u001b[0;34m\u001b[0m\u001b[0m\n",
      "\u001b[0;32m~/miniconda3/envs/jax/lib/python3.9/site-packages/jax/api.py\u001b[0m in \u001b[0;36mf_jitted\u001b[0;34m(*args, **kwargs)\u001b[0m\n\u001b[1;32m    398\u001b[0m     \u001b[0;31m# TODO(jblespiau): Move this to C++.\u001b[0m\u001b[0;34m\u001b[0m\u001b[0;34m\u001b[0m\u001b[0;34m\u001b[0m\u001b[0m\n\u001b[1;32m    399\u001b[0m     \u001b[0;32mif\u001b[0m \u001b[0;34m(\u001b[0m\u001b[0mFLAGS\u001b[0m\u001b[0;34m.\u001b[0m\u001b[0mjax_debug_nans\u001b[0m \u001b[0;32mor\u001b[0m \u001b[0mFLAGS\u001b[0m\u001b[0;34m.\u001b[0m\u001b[0mjax_debug_infs\u001b[0m\u001b[0;34m)\u001b[0m \u001b[0;32mand\u001b[0m \u001b[0;32mnot\u001b[0m \u001b[0m_jit_is_disabled\u001b[0m\u001b[0;34m(\u001b[0m\u001b[0;34m)\u001b[0m\u001b[0;34m:\u001b[0m\u001b[0;34m\u001b[0m\u001b[0;34m\u001b[0m\u001b[0m\n\u001b[0;32m--> 400\u001b[0;31m       \u001b[0mdevice_arrays\u001b[0m \u001b[0;34m=\u001b[0m \u001b[0mcpp_jitted_f\u001b[0m\u001b[0;34m(\u001b[0m\u001b[0mcontext\u001b[0m\u001b[0;34m,\u001b[0m \u001b[0;34m*\u001b[0m\u001b[0margs\u001b[0m\u001b[0;34m,\u001b[0m \u001b[0;34m**\u001b[0m\u001b[0mkwargs\u001b[0m\u001b[0;34m)\u001b[0m\u001b[0;34m\u001b[0m\u001b[0;34m\u001b[0m\u001b[0m\n\u001b[0m\u001b[1;32m    401\u001b[0m       \u001b[0;32mtry\u001b[0m\u001b[0;34m:\u001b[0m\u001b[0;34m\u001b[0m\u001b[0;34m\u001b[0m\u001b[0m\n\u001b[1;32m    402\u001b[0m         xla.check_special(xla.xla_call_p, [\n",
      "\u001b[0;32m~/miniconda3/envs/jax/lib/python3.9/site-packages/jax/api.py\u001b[0m in \u001b[0;36mcache_miss\u001b[0;34m(_, *args, **kwargs)\u001b[0m\n\u001b[1;32m    295\u001b[0m       \u001b[0m_check_arg\u001b[0m\u001b[0;34m(\u001b[0m\u001b[0marg\u001b[0m\u001b[0;34m)\u001b[0m\u001b[0;34m\u001b[0m\u001b[0;34m\u001b[0m\u001b[0m\n\u001b[1;32m    296\u001b[0m     \u001b[0mflat_fun\u001b[0m\u001b[0;34m,\u001b[0m \u001b[0mout_tree\u001b[0m \u001b[0;34m=\u001b[0m \u001b[0mflatten_fun\u001b[0m\u001b[0;34m(\u001b[0m\u001b[0mf\u001b[0m\u001b[0;34m,\u001b[0m \u001b[0min_tree\u001b[0m\u001b[0;34m)\u001b[0m\u001b[0;34m\u001b[0m\u001b[0;34m\u001b[0m\u001b[0m\n\u001b[0;32m--> 297\u001b[0;31m     out_flat = xla.xla_call(\n\u001b[0m\u001b[1;32m    298\u001b[0m         \u001b[0mflat_fun\u001b[0m\u001b[0;34m,\u001b[0m\u001b[0;34m\u001b[0m\u001b[0;34m\u001b[0m\u001b[0m\n\u001b[1;32m    299\u001b[0m         \u001b[0;34m*\u001b[0m\u001b[0margs_flat\u001b[0m\u001b[0;34m,\u001b[0m\u001b[0;34m\u001b[0m\u001b[0;34m\u001b[0m\u001b[0m\n",
      "\u001b[0;32m~/miniconda3/envs/jax/lib/python3.9/site-packages/jax/core.py\u001b[0m in \u001b[0;36mbind\u001b[0;34m(self, fun, *args, **params)\u001b[0m\n\u001b[1;32m   1392\u001b[0m \u001b[0;34m\u001b[0m\u001b[0m\n\u001b[1;32m   1393\u001b[0m   \u001b[0;32mdef\u001b[0m \u001b[0mbind\u001b[0m\u001b[0;34m(\u001b[0m\u001b[0mself\u001b[0m\u001b[0;34m,\u001b[0m \u001b[0mfun\u001b[0m\u001b[0;34m,\u001b[0m \u001b[0;34m*\u001b[0m\u001b[0margs\u001b[0m\u001b[0;34m,\u001b[0m \u001b[0;34m**\u001b[0m\u001b[0mparams\u001b[0m\u001b[0;34m)\u001b[0m\u001b[0;34m:\u001b[0m\u001b[0;34m\u001b[0m\u001b[0;34m\u001b[0m\u001b[0m\n\u001b[0;32m-> 1394\u001b[0;31m     \u001b[0;32mreturn\u001b[0m \u001b[0mcall_bind\u001b[0m\u001b[0;34m(\u001b[0m\u001b[0mself\u001b[0m\u001b[0;34m,\u001b[0m \u001b[0mfun\u001b[0m\u001b[0;34m,\u001b[0m \u001b[0;34m*\u001b[0m\u001b[0margs\u001b[0m\u001b[0;34m,\u001b[0m \u001b[0;34m**\u001b[0m\u001b[0mparams\u001b[0m\u001b[0;34m)\u001b[0m\u001b[0;34m\u001b[0m\u001b[0;34m\u001b[0m\u001b[0m\n\u001b[0m\u001b[1;32m   1395\u001b[0m \u001b[0;34m\u001b[0m\u001b[0m\n\u001b[1;32m   1396\u001b[0m   \u001b[0;32mdef\u001b[0m \u001b[0mprocess\u001b[0m\u001b[0;34m(\u001b[0m\u001b[0mself\u001b[0m\u001b[0;34m,\u001b[0m \u001b[0mtrace\u001b[0m\u001b[0;34m,\u001b[0m \u001b[0mfun\u001b[0m\u001b[0;34m,\u001b[0m \u001b[0mtracers\u001b[0m\u001b[0;34m,\u001b[0m \u001b[0mparams\u001b[0m\u001b[0;34m)\u001b[0m\u001b[0;34m:\u001b[0m\u001b[0;34m\u001b[0m\u001b[0;34m\u001b[0m\u001b[0m\n",
      "\u001b[0;32m~/miniconda3/envs/jax/lib/python3.9/site-packages/jax/core.py\u001b[0m in \u001b[0;36mcall_bind\u001b[0;34m(primitive, fun, *args, **params)\u001b[0m\n\u001b[1;32m   1383\u001b[0m   \u001b[0mtracers\u001b[0m \u001b[0;34m=\u001b[0m \u001b[0mmap\u001b[0m\u001b[0;34m(\u001b[0m\u001b[0mtop_trace\u001b[0m\u001b[0;34m.\u001b[0m\u001b[0mfull_raise\u001b[0m\u001b[0;34m,\u001b[0m \u001b[0margs\u001b[0m\u001b[0;34m)\u001b[0m\u001b[0;34m\u001b[0m\u001b[0;34m\u001b[0m\u001b[0m\n\u001b[1;32m   1384\u001b[0m   \u001b[0;32mwith\u001b[0m \u001b[0mmaybe_new_sublevel\u001b[0m\u001b[0;34m(\u001b[0m\u001b[0mtop_trace\u001b[0m\u001b[0;34m)\u001b[0m\u001b[0;34m:\u001b[0m\u001b[0;34m\u001b[0m\u001b[0;34m\u001b[0m\u001b[0m\n\u001b[0;32m-> 1385\u001b[0;31m     \u001b[0mouts\u001b[0m \u001b[0;34m=\u001b[0m \u001b[0mprimitive\u001b[0m\u001b[0;34m.\u001b[0m\u001b[0mprocess\u001b[0m\u001b[0;34m(\u001b[0m\u001b[0mtop_trace\u001b[0m\u001b[0;34m,\u001b[0m \u001b[0mfun\u001b[0m\u001b[0;34m,\u001b[0m \u001b[0mtracers\u001b[0m\u001b[0;34m,\u001b[0m \u001b[0mparams\u001b[0m\u001b[0;34m)\u001b[0m\u001b[0;34m\u001b[0m\u001b[0;34m\u001b[0m\u001b[0m\n\u001b[0m\u001b[1;32m   1386\u001b[0m   \u001b[0;32mreturn\u001b[0m \u001b[0mmap\u001b[0m\u001b[0;34m(\u001b[0m\u001b[0mfull_lower\u001b[0m\u001b[0;34m,\u001b[0m \u001b[0mapply_todos\u001b[0m\u001b[0;34m(\u001b[0m\u001b[0menv_trace_todo\u001b[0m\u001b[0;34m(\u001b[0m\u001b[0;34m)\u001b[0m\u001b[0;34m,\u001b[0m \u001b[0mouts\u001b[0m\u001b[0;34m)\u001b[0m\u001b[0;34m)\u001b[0m\u001b[0;34m\u001b[0m\u001b[0;34m\u001b[0m\u001b[0m\n\u001b[1;32m   1387\u001b[0m \u001b[0;34m\u001b[0m\u001b[0m\n",
      "\u001b[0;32m~/miniconda3/envs/jax/lib/python3.9/site-packages/jax/core.py\u001b[0m in \u001b[0;36mprocess\u001b[0;34m(self, trace, fun, tracers, params)\u001b[0m\n\u001b[1;32m   1395\u001b[0m \u001b[0;34m\u001b[0m\u001b[0m\n\u001b[1;32m   1396\u001b[0m   \u001b[0;32mdef\u001b[0m \u001b[0mprocess\u001b[0m\u001b[0;34m(\u001b[0m\u001b[0mself\u001b[0m\u001b[0;34m,\u001b[0m \u001b[0mtrace\u001b[0m\u001b[0;34m,\u001b[0m \u001b[0mfun\u001b[0m\u001b[0;34m,\u001b[0m \u001b[0mtracers\u001b[0m\u001b[0;34m,\u001b[0m \u001b[0mparams\u001b[0m\u001b[0;34m)\u001b[0m\u001b[0;34m:\u001b[0m\u001b[0;34m\u001b[0m\u001b[0;34m\u001b[0m\u001b[0m\n\u001b[0;32m-> 1397\u001b[0;31m     \u001b[0;32mreturn\u001b[0m \u001b[0mtrace\u001b[0m\u001b[0;34m.\u001b[0m\u001b[0mprocess_call\u001b[0m\u001b[0;34m(\u001b[0m\u001b[0mself\u001b[0m\u001b[0;34m,\u001b[0m \u001b[0mfun\u001b[0m\u001b[0;34m,\u001b[0m \u001b[0mtracers\u001b[0m\u001b[0;34m,\u001b[0m \u001b[0mparams\u001b[0m\u001b[0;34m)\u001b[0m\u001b[0;34m\u001b[0m\u001b[0;34m\u001b[0m\u001b[0m\n\u001b[0m\u001b[1;32m   1398\u001b[0m \u001b[0;34m\u001b[0m\u001b[0m\n\u001b[1;32m   1399\u001b[0m   \u001b[0;32mdef\u001b[0m \u001b[0mpost_process\u001b[0m\u001b[0;34m(\u001b[0m\u001b[0mself\u001b[0m\u001b[0;34m,\u001b[0m \u001b[0mtrace\u001b[0m\u001b[0;34m,\u001b[0m \u001b[0mout_tracers\u001b[0m\u001b[0;34m,\u001b[0m \u001b[0mparams\u001b[0m\u001b[0;34m)\u001b[0m\u001b[0;34m:\u001b[0m\u001b[0;34m\u001b[0m\u001b[0;34m\u001b[0m\u001b[0m\n",
      "\u001b[0;32m~/miniconda3/envs/jax/lib/python3.9/site-packages/jax/core.py\u001b[0m in \u001b[0;36mprocess_call\u001b[0;34m(self, primitive, f, tracers, params)\u001b[0m\n\u001b[1;32m    623\u001b[0m \u001b[0;34m\u001b[0m\u001b[0m\n\u001b[1;32m    624\u001b[0m   \u001b[0;32mdef\u001b[0m \u001b[0mprocess_call\u001b[0m\u001b[0;34m(\u001b[0m\u001b[0mself\u001b[0m\u001b[0;34m,\u001b[0m \u001b[0mprimitive\u001b[0m\u001b[0;34m,\u001b[0m \u001b[0mf\u001b[0m\u001b[0;34m,\u001b[0m \u001b[0mtracers\u001b[0m\u001b[0;34m,\u001b[0m \u001b[0mparams\u001b[0m\u001b[0;34m)\u001b[0m\u001b[0;34m:\u001b[0m\u001b[0;34m\u001b[0m\u001b[0;34m\u001b[0m\u001b[0m\n\u001b[0;32m--> 625\u001b[0;31m     \u001b[0;32mreturn\u001b[0m \u001b[0mprimitive\u001b[0m\u001b[0;34m.\u001b[0m\u001b[0mimpl\u001b[0m\u001b[0;34m(\u001b[0m\u001b[0mf\u001b[0m\u001b[0;34m,\u001b[0m \u001b[0;34m*\u001b[0m\u001b[0mtracers\u001b[0m\u001b[0;34m,\u001b[0m \u001b[0;34m**\u001b[0m\u001b[0mparams\u001b[0m\u001b[0;34m)\u001b[0m\u001b[0;34m\u001b[0m\u001b[0;34m\u001b[0m\u001b[0m\n\u001b[0m\u001b[1;32m    626\u001b[0m   \u001b[0mprocess_map\u001b[0m \u001b[0;34m=\u001b[0m \u001b[0mprocess_call\u001b[0m\u001b[0;34m\u001b[0m\u001b[0;34m\u001b[0m\u001b[0m\n\u001b[1;32m    627\u001b[0m \u001b[0;34m\u001b[0m\u001b[0m\n",
      "\u001b[0;32m~/miniconda3/envs/jax/lib/python3.9/site-packages/jax/interpreters/xla.py\u001b[0m in \u001b[0;36m_xla_call_impl\u001b[0;34m(fun, device, backend, name, donated_invars, *args)\u001b[0m\n\u001b[1;32m    601\u001b[0m     \u001b[0;31m# be empty.\u001b[0m\u001b[0;34m\u001b[0m\u001b[0;34m\u001b[0m\u001b[0;34m\u001b[0m\u001b[0m\n\u001b[1;32m    602\u001b[0m     \u001b[0;32mfor\u001b[0m \u001b[0mstore\u001b[0m \u001b[0;32min\u001b[0m \u001b[0mfun\u001b[0m\u001b[0;34m.\u001b[0m\u001b[0mstores\u001b[0m\u001b[0;34m:\u001b[0m \u001b[0mstore\u001b[0m \u001b[0;32mand\u001b[0m \u001b[0mstore\u001b[0m\u001b[0;34m.\u001b[0m\u001b[0mreset\u001b[0m\u001b[0;34m(\u001b[0m\u001b[0;34m)\u001b[0m\u001b[0;34m\u001b[0m\u001b[0;34m\u001b[0m\u001b[0m\n\u001b[0;32m--> 603\u001b[0;31m     \u001b[0;32mreturn\u001b[0m \u001b[0mfun\u001b[0m\u001b[0;34m.\u001b[0m\u001b[0mcall_wrapped\u001b[0m\u001b[0;34m(\u001b[0m\u001b[0;34m*\u001b[0m\u001b[0margs\u001b[0m\u001b[0;34m)\u001b[0m  \u001b[0;31m# probably won't return\u001b[0m\u001b[0;34m\u001b[0m\u001b[0;34m\u001b[0m\u001b[0m\n\u001b[0m\u001b[1;32m    604\u001b[0m \u001b[0;34m\u001b[0m\u001b[0m\n\u001b[1;32m    605\u001b[0m \u001b[0;32mdef\u001b[0m \u001b[0mflatten_shape\u001b[0m\u001b[0;34m(\u001b[0m\u001b[0ms\u001b[0m\u001b[0;34m:\u001b[0m \u001b[0mXlaShape\u001b[0m\u001b[0;34m)\u001b[0m \u001b[0;34m->\u001b[0m \u001b[0mSequence\u001b[0m\u001b[0;34m[\u001b[0m\u001b[0mTuple\u001b[0m\u001b[0;34m[\u001b[0m\u001b[0mSequence\u001b[0m\u001b[0;34m[\u001b[0m\u001b[0mint\u001b[0m\u001b[0;34m]\u001b[0m\u001b[0;34m,\u001b[0m \u001b[0mXlaShape\u001b[0m\u001b[0;34m]\u001b[0m\u001b[0;34m]\u001b[0m\u001b[0;34m:\u001b[0m\u001b[0;34m\u001b[0m\u001b[0;34m\u001b[0m\u001b[0m\n",
      "\u001b[0;32m~/miniconda3/envs/jax/lib/python3.9/site-packages/jax/linear_util.py\u001b[0m in \u001b[0;36mcall_wrapped\u001b[0;34m(self, *args, **kwargs)\u001b[0m\n\u001b[1;32m    164\u001b[0m \u001b[0;34m\u001b[0m\u001b[0m\n\u001b[1;32m    165\u001b[0m     \u001b[0;32mtry\u001b[0m\u001b[0;34m:\u001b[0m\u001b[0;34m\u001b[0m\u001b[0;34m\u001b[0m\u001b[0m\n\u001b[0;32m--> 166\u001b[0;31m       \u001b[0mans\u001b[0m \u001b[0;34m=\u001b[0m \u001b[0mself\u001b[0m\u001b[0;34m.\u001b[0m\u001b[0mf\u001b[0m\u001b[0;34m(\u001b[0m\u001b[0;34m*\u001b[0m\u001b[0margs\u001b[0m\u001b[0;34m,\u001b[0m \u001b[0;34m**\u001b[0m\u001b[0mdict\u001b[0m\u001b[0;34m(\u001b[0m\u001b[0mself\u001b[0m\u001b[0;34m.\u001b[0m\u001b[0mparams\u001b[0m\u001b[0;34m,\u001b[0m \u001b[0;34m**\u001b[0m\u001b[0mkwargs\u001b[0m\u001b[0;34m)\u001b[0m\u001b[0;34m)\u001b[0m\u001b[0;34m\u001b[0m\u001b[0;34m\u001b[0m\u001b[0m\n\u001b[0m\u001b[1;32m    167\u001b[0m     \u001b[0;32mexcept\u001b[0m\u001b[0;34m:\u001b[0m\u001b[0;34m\u001b[0m\u001b[0;34m\u001b[0m\u001b[0m\n\u001b[1;32m    168\u001b[0m       \u001b[0;31m# Some transformations yield from inside context managers, so we have to\u001b[0m\u001b[0;34m\u001b[0m\u001b[0;34m\u001b[0m\u001b[0;34m\u001b[0m\u001b[0m\n",
      "\u001b[0;32m<ipython-input-39-25970d6a7725>\u001b[0m in \u001b[0;36mf\u001b[0;34m(x, y)\u001b[0m\n\u001b[1;32m      4\u001b[0m \u001b[0;32mdef\u001b[0m \u001b[0mf\u001b[0m\u001b[0;34m(\u001b[0m\u001b[0mx\u001b[0m\u001b[0;34m,\u001b[0m \u001b[0my\u001b[0m\u001b[0;34m)\u001b[0m\u001b[0;34m:\u001b[0m\u001b[0;34m\u001b[0m\u001b[0;34m\u001b[0m\u001b[0m\n\u001b[1;32m      5\u001b[0m     \u001b[0ma\u001b[0m \u001b[0;34m=\u001b[0m \u001b[0mx\u001b[0m \u001b[0;34m*\u001b[0m \u001b[0my\u001b[0m\u001b[0;34m\u001b[0m\u001b[0;34m\u001b[0m\u001b[0m\n\u001b[0;32m----> 6\u001b[0;31m     \u001b[0mb\u001b[0m \u001b[0;34m=\u001b[0m \u001b[0;34m(\u001b[0m\u001b[0mx\u001b[0m \u001b[0;34m+\u001b[0m \u001b[0my\u001b[0m\u001b[0;34m)\u001b[0m \u001b[0;34m/\u001b[0m \u001b[0;34m(\u001b[0m\u001b[0mx\u001b[0m \u001b[0;34m-\u001b[0m \u001b[0my\u001b[0m\u001b[0;34m)\u001b[0m\u001b[0;34m\u001b[0m\u001b[0;34m\u001b[0m\u001b[0m\n\u001b[0m\u001b[1;32m      7\u001b[0m     \u001b[0mc\u001b[0m \u001b[0;34m=\u001b[0m \u001b[0ma\u001b[0m \u001b[0;34m+\u001b[0m \u001b[0;36m2\u001b[0m\u001b[0;34m\u001b[0m\u001b[0;34m\u001b[0m\u001b[0m\n\u001b[1;32m      8\u001b[0m     \u001b[0;32mreturn\u001b[0m \u001b[0ma\u001b[0m \u001b[0;34m+\u001b[0m \u001b[0mb\u001b[0m \u001b[0;34m*\u001b[0m \u001b[0mc\u001b[0m\u001b[0;34m\u001b[0m\u001b[0;34m\u001b[0m\u001b[0m\n",
      "\u001b[0;32m~/miniconda3/envs/jax/lib/python3.9/site-packages/jax/_src/numpy/lax_numpy.py\u001b[0m in \u001b[0;36mdeferring_binary_op\u001b[0;34m(self, other)\u001b[0m\n\u001b[1;32m   5254\u001b[0m     \u001b[0;32mif\u001b[0m \u001b[0;32mnot\u001b[0m \u001b[0misinstance\u001b[0m\u001b[0;34m(\u001b[0m\u001b[0mother\u001b[0m\u001b[0;34m,\u001b[0m \u001b[0m_scalar_types\u001b[0m \u001b[0;34m+\u001b[0m \u001b[0m_arraylike_types\u001b[0m \u001b[0;34m+\u001b[0m \u001b[0;34m(\u001b[0m\u001b[0mcore\u001b[0m\u001b[0;34m.\u001b[0m\u001b[0mTracer\u001b[0m\u001b[0;34m,\u001b[0m\u001b[0;34m)\u001b[0m\u001b[0;34m)\u001b[0m\u001b[0;34m:\u001b[0m\u001b[0;34m\u001b[0m\u001b[0;34m\u001b[0m\u001b[0m\n\u001b[1;32m   5255\u001b[0m       \u001b[0;32mreturn\u001b[0m \u001b[0mNotImplemented\u001b[0m\u001b[0;34m\u001b[0m\u001b[0;34m\u001b[0m\u001b[0m\n\u001b[0;32m-> 5256\u001b[0;31m     \u001b[0;32mreturn\u001b[0m \u001b[0mbinary_op\u001b[0m\u001b[0;34m(\u001b[0m\u001b[0mself\u001b[0m\u001b[0;34m,\u001b[0m \u001b[0mother\u001b[0m\u001b[0;34m)\u001b[0m\u001b[0;34m\u001b[0m\u001b[0;34m\u001b[0m\u001b[0m\n\u001b[0m\u001b[1;32m   5257\u001b[0m   \u001b[0;32mreturn\u001b[0m \u001b[0mdeferring_binary_op\u001b[0m\u001b[0;34m\u001b[0m\u001b[0;34m\u001b[0m\u001b[0m\n\u001b[1;32m   5258\u001b[0m \u001b[0;34m\u001b[0m\u001b[0m\n",
      "\u001b[0;32m~/miniconda3/envs/jax/lib/python3.9/site-packages/jax/_src/numpy/lax_numpy.py\u001b[0m in \u001b[0;36mtrue_divide\u001b[0;34m(x1, x2)\u001b[0m\n\u001b[1;32m    537\u001b[0m \u001b[0;32mdef\u001b[0m \u001b[0mtrue_divide\u001b[0m\u001b[0;34m(\u001b[0m\u001b[0mx1\u001b[0m\u001b[0;34m,\u001b[0m \u001b[0mx2\u001b[0m\u001b[0;34m)\u001b[0m\u001b[0;34m:\u001b[0m\u001b[0;34m\u001b[0m\u001b[0;34m\u001b[0m\u001b[0m\n\u001b[1;32m    538\u001b[0m   \u001b[0mx1\u001b[0m\u001b[0;34m,\u001b[0m \u001b[0mx2\u001b[0m \u001b[0;34m=\u001b[0m \u001b[0m_promote_args_inexact\u001b[0m\u001b[0;34m(\u001b[0m\u001b[0;34m\"true_divide\"\u001b[0m\u001b[0;34m,\u001b[0m \u001b[0mx1\u001b[0m\u001b[0;34m,\u001b[0m \u001b[0mx2\u001b[0m\u001b[0;34m)\u001b[0m\u001b[0;34m\u001b[0m\u001b[0;34m\u001b[0m\u001b[0m\n\u001b[0;32m--> 539\u001b[0;31m   \u001b[0;32mreturn\u001b[0m \u001b[0mlax\u001b[0m\u001b[0;34m.\u001b[0m\u001b[0mdiv\u001b[0m\u001b[0;34m(\u001b[0m\u001b[0mx1\u001b[0m\u001b[0;34m,\u001b[0m \u001b[0mx2\u001b[0m\u001b[0;34m)\u001b[0m\u001b[0;34m\u001b[0m\u001b[0;34m\u001b[0m\u001b[0m\n\u001b[0m\u001b[1;32m    540\u001b[0m \u001b[0;34m\u001b[0m\u001b[0m\n\u001b[1;32m    541\u001b[0m \u001b[0mdivide\u001b[0m \u001b[0;34m=\u001b[0m \u001b[0mtrue_divide\u001b[0m\u001b[0;34m\u001b[0m\u001b[0;34m\u001b[0m\u001b[0m\n",
      "\u001b[0;32m~/miniconda3/envs/jax/lib/python3.9/site-packages/jax/_src/lax/lax.py\u001b[0m in \u001b[0;36mdiv\u001b[0;34m(x, y)\u001b[0m\n\u001b[1;32m    351\u001b[0m \u001b[0;32mdef\u001b[0m \u001b[0mdiv\u001b[0m\u001b[0;34m(\u001b[0m\u001b[0mx\u001b[0m\u001b[0;34m:\u001b[0m \u001b[0mArray\u001b[0m\u001b[0;34m,\u001b[0m \u001b[0my\u001b[0m\u001b[0;34m:\u001b[0m \u001b[0mArray\u001b[0m\u001b[0;34m)\u001b[0m \u001b[0;34m->\u001b[0m \u001b[0mArray\u001b[0m\u001b[0;34m:\u001b[0m\u001b[0;34m\u001b[0m\u001b[0;34m\u001b[0m\u001b[0m\n\u001b[1;32m    352\u001b[0m   \u001b[0;34mr\"\"\"Elementwise division: :math:`x \\over y`.\"\"\"\u001b[0m\u001b[0;34m\u001b[0m\u001b[0;34m\u001b[0m\u001b[0m\n\u001b[0;32m--> 353\u001b[0;31m   \u001b[0;32mreturn\u001b[0m \u001b[0mdiv_p\u001b[0m\u001b[0;34m.\u001b[0m\u001b[0mbind\u001b[0m\u001b[0;34m(\u001b[0m\u001b[0mx\u001b[0m\u001b[0;34m,\u001b[0m \u001b[0my\u001b[0m\u001b[0;34m)\u001b[0m\u001b[0;34m\u001b[0m\u001b[0;34m\u001b[0m\u001b[0m\n\u001b[0m\u001b[1;32m    354\u001b[0m \u001b[0;34m\u001b[0m\u001b[0m\n\u001b[1;32m    355\u001b[0m \u001b[0;32mdef\u001b[0m \u001b[0mrem\u001b[0m\u001b[0;34m(\u001b[0m\u001b[0mx\u001b[0m\u001b[0;34m:\u001b[0m \u001b[0mArray\u001b[0m\u001b[0;34m,\u001b[0m \u001b[0my\u001b[0m\u001b[0;34m:\u001b[0m \u001b[0mArray\u001b[0m\u001b[0;34m)\u001b[0m \u001b[0;34m->\u001b[0m \u001b[0mArray\u001b[0m\u001b[0;34m:\u001b[0m\u001b[0;34m\u001b[0m\u001b[0;34m\u001b[0m\u001b[0m\n",
      "\u001b[0;32m~/miniconda3/envs/jax/lib/python3.9/site-packages/jax/core.py\u001b[0m in \u001b[0;36mbind\u001b[0;34m(self, *args, **params)\u001b[0m\n\u001b[1;32m    282\u001b[0m     \u001b[0mtop_trace\u001b[0m \u001b[0;34m=\u001b[0m \u001b[0mfind_top_trace\u001b[0m\u001b[0;34m(\u001b[0m\u001b[0margs\u001b[0m\u001b[0;34m)\u001b[0m\u001b[0;34m\u001b[0m\u001b[0;34m\u001b[0m\u001b[0m\n\u001b[1;32m    283\u001b[0m     \u001b[0mtracers\u001b[0m \u001b[0;34m=\u001b[0m \u001b[0mmap\u001b[0m\u001b[0;34m(\u001b[0m\u001b[0mtop_trace\u001b[0m\u001b[0;34m.\u001b[0m\u001b[0mfull_raise\u001b[0m\u001b[0;34m,\u001b[0m \u001b[0margs\u001b[0m\u001b[0;34m)\u001b[0m\u001b[0;34m\u001b[0m\u001b[0;34m\u001b[0m\u001b[0m\n\u001b[0;32m--> 284\u001b[0;31m     \u001b[0mout\u001b[0m \u001b[0;34m=\u001b[0m \u001b[0mtop_trace\u001b[0m\u001b[0;34m.\u001b[0m\u001b[0mprocess_primitive\u001b[0m\u001b[0;34m(\u001b[0m\u001b[0mself\u001b[0m\u001b[0;34m,\u001b[0m \u001b[0mtracers\u001b[0m\u001b[0;34m,\u001b[0m \u001b[0mparams\u001b[0m\u001b[0;34m)\u001b[0m\u001b[0;34m\u001b[0m\u001b[0;34m\u001b[0m\u001b[0m\n\u001b[0m\u001b[1;32m    285\u001b[0m     \u001b[0;32mreturn\u001b[0m \u001b[0mmap\u001b[0m\u001b[0;34m(\u001b[0m\u001b[0mfull_lower\u001b[0m\u001b[0;34m,\u001b[0m \u001b[0mout\u001b[0m\u001b[0;34m)\u001b[0m \u001b[0;32mif\u001b[0m \u001b[0mself\u001b[0m\u001b[0;34m.\u001b[0m\u001b[0mmultiple_results\u001b[0m \u001b[0;32melse\u001b[0m \u001b[0mfull_lower\u001b[0m\u001b[0;34m(\u001b[0m\u001b[0mout\u001b[0m\u001b[0;34m)\u001b[0m\u001b[0;34m\u001b[0m\u001b[0;34m\u001b[0m\u001b[0m\n\u001b[1;32m    286\u001b[0m \u001b[0;34m\u001b[0m\u001b[0m\n",
      "\u001b[0;32m~/miniconda3/envs/jax/lib/python3.9/site-packages/jax/core.py\u001b[0m in \u001b[0;36mprocess_primitive\u001b[0;34m(self, primitive, tracers, params)\u001b[0m\n\u001b[1;32m    620\u001b[0m \u001b[0;34m\u001b[0m\u001b[0m\n\u001b[1;32m    621\u001b[0m   \u001b[0;32mdef\u001b[0m \u001b[0mprocess_primitive\u001b[0m\u001b[0;34m(\u001b[0m\u001b[0mself\u001b[0m\u001b[0;34m,\u001b[0m \u001b[0mprimitive\u001b[0m\u001b[0;34m,\u001b[0m \u001b[0mtracers\u001b[0m\u001b[0;34m,\u001b[0m \u001b[0mparams\u001b[0m\u001b[0;34m)\u001b[0m\u001b[0;34m:\u001b[0m\u001b[0;34m\u001b[0m\u001b[0;34m\u001b[0m\u001b[0m\n\u001b[0;32m--> 622\u001b[0;31m     \u001b[0;32mreturn\u001b[0m \u001b[0mprimitive\u001b[0m\u001b[0;34m.\u001b[0m\u001b[0mimpl\u001b[0m\u001b[0;34m(\u001b[0m\u001b[0;34m*\u001b[0m\u001b[0mtracers\u001b[0m\u001b[0;34m,\u001b[0m \u001b[0;34m**\u001b[0m\u001b[0mparams\u001b[0m\u001b[0;34m)\u001b[0m\u001b[0;34m\u001b[0m\u001b[0;34m\u001b[0m\u001b[0m\n\u001b[0m\u001b[1;32m    623\u001b[0m \u001b[0;34m\u001b[0m\u001b[0m\n\u001b[1;32m    624\u001b[0m   \u001b[0;32mdef\u001b[0m \u001b[0mprocess_call\u001b[0m\u001b[0;34m(\u001b[0m\u001b[0mself\u001b[0m\u001b[0;34m,\u001b[0m \u001b[0mprimitive\u001b[0m\u001b[0;34m,\u001b[0m \u001b[0mf\u001b[0m\u001b[0;34m,\u001b[0m \u001b[0mtracers\u001b[0m\u001b[0;34m,\u001b[0m \u001b[0mparams\u001b[0m\u001b[0;34m)\u001b[0m\u001b[0;34m:\u001b[0m\u001b[0;34m\u001b[0m\u001b[0;34m\u001b[0m\u001b[0m\n",
      "\u001b[0;32m~/miniconda3/envs/jax/lib/python3.9/site-packages/jax/interpreters/xla.py\u001b[0m in \u001b[0;36mapply_primitive\u001b[0;34m(prim, *args, **params)\u001b[0m\n\u001b[1;32m    240\u001b[0m   \u001b[0;34m\"\"\"Impl rule that compiles and runs a single primitive 'prim' using XLA.\"\"\"\u001b[0m\u001b[0;34m\u001b[0m\u001b[0;34m\u001b[0m\u001b[0m\n\u001b[1;32m    241\u001b[0m   \u001b[0mcompiled_fun\u001b[0m \u001b[0;34m=\u001b[0m \u001b[0mxla_primitive_callable\u001b[0m\u001b[0;34m(\u001b[0m\u001b[0mprim\u001b[0m\u001b[0;34m,\u001b[0m \u001b[0;34m*\u001b[0m\u001b[0munsafe_map\u001b[0m\u001b[0;34m(\u001b[0m\u001b[0marg_spec\u001b[0m\u001b[0;34m,\u001b[0m \u001b[0margs\u001b[0m\u001b[0;34m)\u001b[0m\u001b[0;34m,\u001b[0m \u001b[0;34m**\u001b[0m\u001b[0mparams\u001b[0m\u001b[0;34m)\u001b[0m\u001b[0;34m\u001b[0m\u001b[0;34m\u001b[0m\u001b[0m\n\u001b[0;32m--> 242\u001b[0;31m   \u001b[0;32mreturn\u001b[0m \u001b[0mcompiled_fun\u001b[0m\u001b[0;34m(\u001b[0m\u001b[0;34m*\u001b[0m\u001b[0margs\u001b[0m\u001b[0;34m)\u001b[0m\u001b[0;34m\u001b[0m\u001b[0;34m\u001b[0m\u001b[0m\n\u001b[0m\u001b[1;32m    243\u001b[0m \u001b[0;34m\u001b[0m\u001b[0m\n\u001b[1;32m    244\u001b[0m \u001b[0;34m\u001b[0m\u001b[0m\n",
      "\u001b[0;32m~/miniconda3/envs/jax/lib/python3.9/site-packages/jax/interpreters/xla.py\u001b[0m in \u001b[0;36m_execute_compiled_primitive\u001b[0;34m(prim, compiled, result_handler, *args)\u001b[0m\n\u001b[1;32m    359\u001b[0m   \u001b[0minput_bufs\u001b[0m \u001b[0;34m=\u001b[0m \u001b[0mlist\u001b[0m\u001b[0;34m(\u001b[0m\u001b[0mit\u001b[0m\u001b[0;34m.\u001b[0m\u001b[0mchain\u001b[0m\u001b[0;34m.\u001b[0m\u001b[0mfrom_iterable\u001b[0m\u001b[0;34m(\u001b[0m\u001b[0mdevice_put\u001b[0m\u001b[0;34m(\u001b[0m\u001b[0mx\u001b[0m\u001b[0;34m,\u001b[0m \u001b[0mdevice\u001b[0m\u001b[0;34m)\u001b[0m \u001b[0;32mfor\u001b[0m \u001b[0mx\u001b[0m \u001b[0;32min\u001b[0m \u001b[0margs\u001b[0m \u001b[0;32mif\u001b[0m \u001b[0mx\u001b[0m \u001b[0;32mis\u001b[0m \u001b[0;32mnot\u001b[0m \u001b[0mtoken\u001b[0m\u001b[0;34m)\u001b[0m\u001b[0;34m)\u001b[0m\u001b[0;34m\u001b[0m\u001b[0;34m\u001b[0m\u001b[0m\n\u001b[1;32m    360\u001b[0m   \u001b[0mout_bufs\u001b[0m \u001b[0;34m=\u001b[0m \u001b[0mcompiled\u001b[0m\u001b[0;34m.\u001b[0m\u001b[0mexecute\u001b[0m\u001b[0;34m(\u001b[0m\u001b[0minput_bufs\u001b[0m\u001b[0;34m)\u001b[0m\u001b[0;34m\u001b[0m\u001b[0;34m\u001b[0m\u001b[0m\n\u001b[0;32m--> 361\u001b[0;31m   \u001b[0mcheck_special\u001b[0m\u001b[0;34m(\u001b[0m\u001b[0mprim\u001b[0m\u001b[0;34m,\u001b[0m \u001b[0mout_bufs\u001b[0m\u001b[0;34m)\u001b[0m\u001b[0;34m\u001b[0m\u001b[0;34m\u001b[0m\u001b[0m\n\u001b[0m\u001b[1;32m    362\u001b[0m   \u001b[0;32mreturn\u001b[0m \u001b[0mresult_handler\u001b[0m\u001b[0;34m(\u001b[0m\u001b[0;34m*\u001b[0m\u001b[0mout_bufs\u001b[0m\u001b[0;34m)\u001b[0m\u001b[0;34m\u001b[0m\u001b[0;34m\u001b[0m\u001b[0m\n\u001b[1;32m    363\u001b[0m \u001b[0;34m\u001b[0m\u001b[0m\n",
      "\u001b[0;32m~/miniconda3/envs/jax/lib/python3.9/site-packages/jax/interpreters/xla.py\u001b[0m in \u001b[0;36mcheck_special\u001b[0;34m(prim, bufs)\u001b[0m\n\u001b[1;32m    376\u001b[0m   \u001b[0;32mif\u001b[0m \u001b[0mFLAGS\u001b[0m\u001b[0;34m.\u001b[0m\u001b[0mjax_debug_infs\u001b[0m \u001b[0;32mor\u001b[0m \u001b[0mFLAGS\u001b[0m\u001b[0;34m.\u001b[0m\u001b[0mjax_debug_nans\u001b[0m\u001b[0;34m:\u001b[0m\u001b[0;34m\u001b[0m\u001b[0;34m\u001b[0m\u001b[0m\n\u001b[1;32m    377\u001b[0m     \u001b[0;32mfor\u001b[0m \u001b[0mbuf\u001b[0m \u001b[0;32min\u001b[0m \u001b[0mbufs\u001b[0m\u001b[0;34m:\u001b[0m\u001b[0;34m\u001b[0m\u001b[0;34m\u001b[0m\u001b[0m\n\u001b[0;32m--> 378\u001b[0;31m       \u001b[0m_check_special\u001b[0m\u001b[0;34m(\u001b[0m\u001b[0mprim\u001b[0m\u001b[0;34m.\u001b[0m\u001b[0mname\u001b[0m\u001b[0;34m,\u001b[0m \u001b[0mbuf\u001b[0m\u001b[0;34m.\u001b[0m\u001b[0mxla_shape\u001b[0m\u001b[0;34m(\u001b[0m\u001b[0;34m)\u001b[0m\u001b[0;34m,\u001b[0m \u001b[0mbuf\u001b[0m\u001b[0;34m)\u001b[0m\u001b[0;34m\u001b[0m\u001b[0;34m\u001b[0m\u001b[0m\n\u001b[0m\u001b[1;32m    379\u001b[0m \u001b[0;34m\u001b[0m\u001b[0m\n\u001b[1;32m    380\u001b[0m \u001b[0;32mdef\u001b[0m \u001b[0m_check_special\u001b[0m\u001b[0;34m(\u001b[0m\u001b[0mname\u001b[0m\u001b[0;34m,\u001b[0m \u001b[0mxla_shape\u001b[0m\u001b[0;34m,\u001b[0m \u001b[0mbuf\u001b[0m\u001b[0;34m)\u001b[0m\u001b[0;34m:\u001b[0m\u001b[0;34m\u001b[0m\u001b[0;34m\u001b[0m\u001b[0m\n",
      "\u001b[0;32m~/miniconda3/envs/jax/lib/python3.9/site-packages/jax/interpreters/xla.py\u001b[0m in \u001b[0;36m_check_special\u001b[0;34m(name, xla_shape, buf)\u001b[0m\n\u001b[1;32m    382\u001b[0m   \u001b[0;32mif\u001b[0m \u001b[0mdtypes\u001b[0m\u001b[0;34m.\u001b[0m\u001b[0missubdtype\u001b[0m\u001b[0;34m(\u001b[0m\u001b[0mxla_shape\u001b[0m\u001b[0;34m.\u001b[0m\u001b[0melement_type\u001b[0m\u001b[0;34m(\u001b[0m\u001b[0;34m)\u001b[0m\u001b[0;34m,\u001b[0m \u001b[0mnp\u001b[0m\u001b[0;34m.\u001b[0m\u001b[0minexact\u001b[0m\u001b[0;34m)\u001b[0m\u001b[0;34m:\u001b[0m\u001b[0;34m\u001b[0m\u001b[0;34m\u001b[0m\u001b[0m\n\u001b[1;32m    383\u001b[0m     \u001b[0;32mif\u001b[0m \u001b[0mFLAGS\u001b[0m\u001b[0;34m.\u001b[0m\u001b[0mjax_debug_nans\u001b[0m \u001b[0;32mand\u001b[0m \u001b[0mnp\u001b[0m\u001b[0;34m.\u001b[0m\u001b[0many\u001b[0m\u001b[0;34m(\u001b[0m\u001b[0mnp\u001b[0m\u001b[0;34m.\u001b[0m\u001b[0misnan\u001b[0m\u001b[0;34m(\u001b[0m\u001b[0mbuf\u001b[0m\u001b[0;34m.\u001b[0m\u001b[0mto_py\u001b[0m\u001b[0;34m(\u001b[0m\u001b[0;34m)\u001b[0m\u001b[0;34m)\u001b[0m\u001b[0;34m)\u001b[0m\u001b[0;34m:\u001b[0m\u001b[0;34m\u001b[0m\u001b[0;34m\u001b[0m\u001b[0m\n\u001b[0;32m--> 384\u001b[0;31m       \u001b[0;32mraise\u001b[0m \u001b[0mFloatingPointError\u001b[0m\u001b[0;34m(\u001b[0m\u001b[0;34mf\"invalid value (nan) encountered in {name}\"\u001b[0m\u001b[0;34m)\u001b[0m\u001b[0;34m\u001b[0m\u001b[0;34m\u001b[0m\u001b[0m\n\u001b[0m\u001b[1;32m    385\u001b[0m     \u001b[0;32mif\u001b[0m \u001b[0mFLAGS\u001b[0m\u001b[0;34m.\u001b[0m\u001b[0mjax_debug_infs\u001b[0m \u001b[0;32mand\u001b[0m \u001b[0mnp\u001b[0m\u001b[0;34m.\u001b[0m\u001b[0many\u001b[0m\u001b[0;34m(\u001b[0m\u001b[0mnp\u001b[0m\u001b[0;34m.\u001b[0m\u001b[0misinf\u001b[0m\u001b[0;34m(\u001b[0m\u001b[0mbuf\u001b[0m\u001b[0;34m.\u001b[0m\u001b[0mto_py\u001b[0m\u001b[0;34m(\u001b[0m\u001b[0;34m)\u001b[0m\u001b[0;34m)\u001b[0m\u001b[0;34m)\u001b[0m\u001b[0;34m:\u001b[0m\u001b[0;34m\u001b[0m\u001b[0;34m\u001b[0m\u001b[0m\n\u001b[1;32m    386\u001b[0m       \u001b[0;32mraise\u001b[0m \u001b[0mFloatingPointError\u001b[0m\u001b[0;34m(\u001b[0m\u001b[0;34mf\"invalid value (inf) encountered in {name}\"\u001b[0m\u001b[0;34m)\u001b[0m\u001b[0;34m\u001b[0m\u001b[0;34m\u001b[0m\u001b[0m\n",
      "\u001b[0;31mFloatingPointError\u001b[0m: invalid value (nan) encountered in div"
     ]
    }
   ],
   "source": [
    "from jax import jit\n",
    "# %debug\n",
    "@jit\n",
    "def f(x, y):\n",
    "    a = x * y\n",
    "    b = (x + y) / (x - y)\n",
    "    c = a + 2\n",
    "    return a + b * c\n",
    "\n",
    "x = jnp.array([2., 0.])\n",
    "y = jnp.array([3., 0.])\n",
    "f (x, y)"
   ]
  },
  {
   "cell_type": "markdown",
   "id": "requested-classification",
   "metadata": {},
   "source": [
    "当此代码在@jit函数的输出中看到NaN是，他会调用未优化的代码，因此我们仍然可以获得清晰的堆栈跟踪。然后，我们可以使用 `%debug` 运行事后调试器，以检查所有值以找出错误。\n",
    "\n",
    "⚠️如果不进行调试，则不应该启用NaN检查器，因为它会引入很多设备主机往返和性能下降的问题！\n",
    "\n",
    "### 双精度（64位）\n",
    "\n",
    "目前，JAX默认情况下会强制使用单精度数字，以缓解NumPy API积极将操作数提高一倍的趋势。这是许多机器学应用程序所期望的行为，但这样可能会让您出乎意料。\n"
   ]
  },
  {
   "cell_type": "code",
   "execution_count": 40,
   "id": "postal-space",
   "metadata": {},
   "outputs": [
    {
     "data": {
      "text/plain": [
       "dtype('float64')"
      ]
     },
     "execution_count": 40,
     "metadata": {},
     "output_type": "execute_result"
    }
   ],
   "source": [
    "x = random.uniform(random.PRNGKey(0), (1000,), dtype=jnp.float64)\n",
    "x.dtype"
   ]
  },
  {
   "cell_type": "markdown",
   "id": "agricultural-green",
   "metadata": {},
   "source": [
    "要使用双精度数字，您需要在启动时设置`jax_enable_x64`配置变量。\n",
    "\n",
    "有几种方法可以开启：\n",
    "\n",
    "* 直接设置环境变量 `JAX_ENABLE_X64=True`\n",
    "* 在开始时手动设置`jax_enable_x64`"
   ]
  },
  {
   "cell_type": "code",
   "execution_count": 42,
   "id": "moderate-vision",
   "metadata": {},
   "outputs": [],
   "source": [
    "from jax.config import config\n",
    "config.update(\"jax_enable_x64\", True)"
   ]
  },
  {
   "cell_type": "markdown",
   "id": "veterinary-expert",
   "metadata": {},
   "source": [
    "* 通过 `absl.app.run(main)`来解析"
   ]
  },
  {
   "cell_type": "code",
   "execution_count": null,
   "id": "awful-stations",
   "metadata": {},
   "outputs": [],
   "source": [
    "from jax.config import config\n",
    "config.config_with_absl()"
   ]
  },
  {
   "cell_type": "markdown",
   "id": "confirmed-soccer",
   "metadata": {},
   "source": [
    "* 如果您希望JAX为您运行absl解析，即您不想执行`absl.app.run（main）`，则可以改用："
   ]
  },
  {
   "cell_type": "code",
   "execution_count": 41,
   "id": "alone-design",
   "metadata": {},
   "outputs": [],
   "source": [
    "from jax.config import config\n",
    "if __name__ == '__main__':\n",
    "  # calls config.config_with_absl() *and* runs absl parsing\n",
    "  config.parse_flags_with_absl()"
   ]
  },
  {
   "cell_type": "markdown",
   "id": "trained-cooperation",
   "metadata": {},
   "source": [
    "请注意，＃2-＃4适用于JAX的任何配置选项。\n",
    "\n",
    "然后，我们可以确认启用了x64模式：\n"
   ]
  },
  {
   "cell_type": "markdown",
   "id": "introductory-bikini",
   "metadata": {},
   "source": [
    "### 注意事项\n",
    "\n",
    "⚠️XLA并非在所有后端上都支持64位卷积！\n",
    "\n",
    "## 结语\n",
    "\n"
   ]
  },
  {
   "cell_type": "code",
   "execution_count": null,
   "id": "adjacent-fairy",
   "metadata": {},
   "outputs": [],
   "source": []
  }
 ],
 "metadata": {
  "kernelspec": {
   "display_name": "Python 3",
   "language": "python",
   "name": "python3"
  },
  "language_info": {
   "codemirror_mode": {
    "name": "ipython",
    "version": 3
   },
   "file_extension": ".py",
   "mimetype": "text/x-python",
   "name": "python",
   "nbconvert_exporter": "python",
   "pygments_lexer": "ipython3",
   "version": "3.9.2"
  }
 },
 "nbformat": 4,
 "nbformat_minor": 5
}
